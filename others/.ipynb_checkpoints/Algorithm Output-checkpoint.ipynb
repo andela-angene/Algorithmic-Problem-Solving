{
 "cells": [
  {
   "cell_type": "markdown",
   "metadata": {},
   "source": [
    "## Graphs\n",
    "Graph theory is widely explored and implemented in the field of Computer Science and Mathematics. Consisting of vertices (nodes) and the edges (optionally directed/weighted) that connect them, the data-structure is effectively able to represent and solve many problem domains. One of the most popular areas of algorithm design within this space is the problem of checking for the existence of (shortest) path between two or more vertices in the graph. Properties such as edge weighting and direction are two factors that can be taken\n",
    "into consideration. Let's consider a simple graph below, represented as an adjacency list;\n",
    "\n",
    "![alt text](https://eddmann.com/uploads/depth-first-search-and-breadth-first-search-in-python/graph.png \"Sample Graph\")\n"
   ]
  },
  {
   "cell_type": "code",
   "execution_count": 18,
   "metadata": {},
   "outputs": [],
   "source": [
    "graph = {\n",
    "    'A': set(['B', 'C']),\n",
    "    'B': set(['A', 'D', 'E']),\n",
    "    'C': set(['A', 'F']),\n",
    "    'D': set(['B']),\n",
    "    'E': set(['B', 'F']),\n",
    "    'F': set(['C', 'E'])\n",
    "}"
   ]
  },
  {
   "cell_type": "markdown",
   "metadata": {},
   "source": [
    "### Depth-First Search\n",
    "Depth-First search explores possible vertices (from a supplied root) down each branch before backtracking. "
   ]
  },
  {
   "cell_type": "code",
   "execution_count": 23,
   "metadata": {},
   "outputs": [
    {
     "name": "stdout",
     "output_type": "stream",
     "text": [
      "A\n",
      "C\n",
      "F\n",
      "E\n",
      "B\n",
      "D\n"
     ]
    },
    {
     "data": {
      "text/plain": [
       "{'A', 'B', 'C', 'D', 'E', 'F'}"
      ]
     },
     "execution_count": 23,
     "metadata": {},
     "output_type": "execute_result"
    }
   ],
   "source": [
    "def depth_first(root, graph):\n",
    "    visited = set()\n",
    "    stack = [root]\n",
    "    while stack:\n",
    "        node = stack.pop()\n",
    "        if node not in visited:\n",
    "            visited.add(node)\n",
    "            print(node)\n",
    "            stack.extend(graph[node] - visited)\n",
    "    return visited\n",
    "depth_first('A', graph) # e.g path; A -> C -> F -> E -> B -> D "
   ]
  },
  {
   "cell_type": "markdown",
   "metadata": {},
   "source": [
    "### Breadth-first search\n",
    "Breadth-first search is an algorithm for traversing or searching tree or graph data structures. It starts at the tree root, and explores all of the neighbor nodes at the present depth prior to moving on to the nodes at the next depth level"
   ]
  },
  {
   "cell_type": "code",
   "execution_count": 37,
   "metadata": {},
   "outputs": [
    {
     "name": "stdout",
     "output_type": "stream",
     "text": [
      "A\n",
      "B\n",
      "C\n",
      "D\n",
      "E\n",
      "F\n"
     ]
    },
    {
     "data": {
      "text/plain": [
       "{'A', 'B', 'C', 'D', 'E', 'F'}"
      ]
     },
     "execution_count": 37,
     "metadata": {},
     "output_type": "execute_result"
    }
   ],
   "source": [
    "from collections import deque\n",
    "\n",
    "def breadth_first(root, graph):\n",
    "    visited = set()\n",
    "    queue = deque([root])\n",
    "    while queue:\n",
    "        node = queue.popleft()\n",
    "        if node not in visited:\n",
    "            visited.add(node)\n",
    "            print(node)\n",
    "            queue.extend(graph[node] - visited)\n",
    "    return visited\n",
    "   \n",
    "breadth_first('A', graph) # e.g path; A -> B -> C -> D -> E -> F"
   ]
  },
  {
   "cell_type": "code",
   "execution_count": null,
   "metadata": {},
   "outputs": [],
   "source": []
  }
 ],
 "metadata": {
  "kernelspec": {
   "display_name": "Python 3",
   "language": "python",
   "name": "python3"
  },
  "language_info": {
   "codemirror_mode": {
    "name": "ipython",
    "version": 3
   },
   "file_extension": ".py",
   "mimetype": "text/x-python",
   "name": "python",
   "nbconvert_exporter": "python",
   "pygments_lexer": "ipython3",
   "version": "3.6.5"
  }
 },
 "nbformat": 4,
 "nbformat_minor": 2
}
