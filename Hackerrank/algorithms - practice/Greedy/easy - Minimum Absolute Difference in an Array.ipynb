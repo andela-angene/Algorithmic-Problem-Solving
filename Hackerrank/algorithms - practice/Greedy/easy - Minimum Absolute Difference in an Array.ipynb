{
 "cells": [
  {
   "cell_type": "code",
   "execution_count": 2,
   "metadata": {},
   "outputs": [],
   "source": [
    "def min_diff(arr):\n",
    "    arr = sorted(arr)\n",
    "    min_ = float('inf')\n",
    "    for i in range(len(arr)-1):\n",
    "        min_ = min(min_, abs(arr[i] - arr[i+1]))\n",
    "    return min_"
   ]
  },
  {
   "cell_type": "code",
   "execution_count": 5,
   "metadata": {},
   "outputs": [
    {
     "name": "stdout",
     "output_type": "stream",
     "text": [
      "3\n",
      "1\n",
      "3\n"
     ]
    }
   ],
   "source": [
    "print(min_diff([3, -7, 0])) # 3\n",
    "print(min_diff([-59, -36, -13, 1, -53, -92, -2, -96, -54, 75])) # 1\n",
    "print(min_diff([1, -3, 71, 68, 17])) # 3"
   ]
  },
  {
   "cell_type": "code",
   "execution_count": null,
   "metadata": {},
   "outputs": [],
   "source": []
  }
 ],
 "metadata": {
  "kernelspec": {
   "display_name": "Python 3",
   "language": "python",
   "name": "python3"
  },
  "language_info": {
   "codemirror_mode": {
    "name": "ipython",
    "version": 3
   },
   "file_extension": ".py",
   "mimetype": "text/x-python",
   "name": "python",
   "nbconvert_exporter": "python",
   "pygments_lexer": "ipython3",
   "version": "3.6.5"
  }
 },
 "nbformat": 4,
 "nbformat_minor": 2
}
