{
 "cells": [
  {
   "cell_type": "code",
   "execution_count": 102,
   "metadata": {},
   "outputs": [],
   "source": [
    "from collections import deque\n",
    "def solution(m, arr):\n",
    "    seen, result = set(), 0\n",
    "    queue, j, max_ = deque(), 0, 1000000000\n",
    "    for i in range(len(arr)):\n",
    "        item = arr[i]\n",
    "        if item in seen:\n",
    "            ln = len(seen)\n",
    "            main = ((1 + ln) * ln) / 2\n",
    "            n = 0\n",
    "            while item in seen:\n",
    "                seen.remove(queue.popleft())\n",
    "                n += 1\n",
    "            overlap = ((1 + ln - n) * (ln - n)) / 2\n",
    "            result += main - overlap\n",
    "        queue.append(item)\n",
    "        seen.add(item)\n",
    "    n = len(seen)\n",
    "    result += ((1 + n) * n) / 2\n",
    "    return int(result) if result < max_ else max_\n",
    "\n",
    "# (80%) https://app.codility.com/demo/results/trainingRQ6RKH-HGK/\n",
    "# (100%) https://app.codility.com/demo/results/trainingDZ58QV-JXT/"
   ]
  },
  {
   "cell_type": "code",
   "execution_count": 103,
   "metadata": {},
   "outputs": [
    {
     "data": {
      "text/plain": [
       "24"
      ]
     },
     "execution_count": 103,
     "metadata": {},
     "output_type": "execute_result"
    }
   ],
   "source": [
    "solution(22, [1,3,4,1,2,1,3,2,1]) # 24"
   ]
  },
  {
   "cell_type": "code",
   "execution_count": 104,
   "metadata": {},
   "outputs": [
    {
     "data": {
      "text/plain": [
       "22"
      ]
     },
     "execution_count": 104,
     "metadata": {},
     "output_type": "execute_result"
    }
   ],
   "source": [
    "solution(23, [2,3,4,5, 3,12,6]) # 18"
   ]
  },
  {
   "cell_type": "code",
   "execution_count": 100,
   "metadata": {},
   "outputs": [
    {
     "data": {
      "text/plain": [
       "9"
      ]
     },
     "execution_count": 100,
     "metadata": {},
     "output_type": "execute_result"
    }
   ],
   "source": [
    "solution(23, [3,4,5,5,2])"
   ]
  },
  {
   "cell_type": "code",
   "execution_count": 101,
   "metadata": {
    "scrolled": true
   },
   "outputs": [
    {
     "data": {
      "text/plain": [
       "7"
      ]
     },
     "execution_count": 101,
     "metadata": {},
     "output_type": "execute_result"
    }
   ],
   "source": [
    "solution(3, [3,4,5,5])"
   ]
  }
 ],
 "metadata": {
  "kernelspec": {
   "display_name": "Python 3",
   "language": "python",
   "name": "python3"
  },
  "language_info": {
   "codemirror_mode": {
    "name": "ipython",
    "version": 3
   },
   "file_extension": ".py",
   "mimetype": "text/x-python",
   "name": "python",
   "nbconvert_exporter": "python",
   "pygments_lexer": "ipython3",
   "version": "3.6.5"
  }
 },
 "nbformat": 4,
 "nbformat_minor": 2
}
