{
 "cells": [
  {
   "cell_type": "markdown",
   "metadata": {},
   "source": [
    "Question: https://app.codility.com/programmers/lessons/3-time_complexity/frog_jmp/\n",
    "\n",
    "100% solution: https://app.codility.com/demo/results/trainingRMZN83-AAM/"
   ]
  },
  {
   "cell_type": "code",
   "execution_count": 4,
   "metadata": {},
   "outputs": [],
   "source": [
    "function solution(x, y, d) {\n",
    "    return Math.ceil((y - x) / d)\n",
    "}\n"
   ]
  },
  {
   "cell_type": "code",
   "execution_count": 5,
   "metadata": {},
   "outputs": [
    {
     "name": "stdout",
     "output_type": "stream",
     "text": [
      "3\n",
      "1\n",
      "11\n"
     ]
    }
   ],
   "source": [
    "console.log(solution(10, 85, 30))  // 3\n",
    "console.log(solution(10, 11, 30))  // 1\n",
    "console.log(solution(10, 21, 1))  // 11"
   ]
  },
  {
   "cell_type": "code",
   "execution_count": null,
   "metadata": {},
   "outputs": [],
   "source": []
  }
 ],
 "metadata": {
  "kernelspec": {
   "display_name": "Javascript (Node.js)",
   "language": "javascript",
   "name": "javascript"
  },
  "language_info": {
   "file_extension": ".js",
   "mimetype": "application/javascript",
   "name": "javascript",
   "version": "10.7.0"
  }
 },
 "nbformat": 4,
 "nbformat_minor": 2
}
