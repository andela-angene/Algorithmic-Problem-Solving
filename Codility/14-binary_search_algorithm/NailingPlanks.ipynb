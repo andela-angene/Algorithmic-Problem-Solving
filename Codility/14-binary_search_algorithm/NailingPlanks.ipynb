{
 "cells": [
  {
   "cell_type": "code",
   "execution_count": 94,
   "metadata": {
    "code_folding": [
     11
    ]
   },
   "outputs": [],
   "source": [
    "import bisect\n",
    "def check(interval, sorted_nails):\n",
    "    high = len(sorted_nails) - 1\n",
    "    low = 0\n",
    "    start, end = interval\n",
    "    while low <= high:\n",
    "        mid = (high + low) // 2\n",
    "        nail = sorted_nails[mid]\n",
    "        if start <= nail <= end:\n",
    "            return True\n",
    "        elif nail < end:\n",
    "            low = mid + 1\n",
    "        else:\n",
    "            high = mid - 1\n",
    "    return False\n",
    "\n",
    "def find_nail(pos, interval, nails, sorted_nails):\n",
    "    while pos < len(nails):\n",
    "        bisect.insort_right(sorted_nails, nails[pos])\n",
    "        if interval[0] <= nails[pos] <= interval[1]:\n",
    "            return pos + 1\n",
    "        pos += 1\n",
    "    return False\n",
    "\n",
    "def solution(A, B, nails):\n",
    "    pos, sorted_nails = 0, []\n",
    "    for i in range(len(A)):\n",
    "        interval = (A[i], B[i])\n",
    "        if check(interval, sorted_nails):\n",
    "            continue\n",
    "        pos = find_nail(pos, interval, nails, sorted_nails)\n",
    "        if pos is False:\n",
    "            return -1\n",
    "    return pos\n",
    "\n",
    "# (50%) https://app.codility.com/demo/results/trainingZZAGWV-DA4/\n",
    "# (62%) https://app.codility.com/demo/results/trainingTZPFFV-Z3Z/\n",
    "# (75%) https://app.codility.com/demo/results/training4K8F4X-Q2V/\n",
    "# (100%) https://app.codility.com/demo/results/trainingVMC4FU-HJ5/"
   ]
  },
  {
   "cell_type": "code",
   "execution_count": 95,
   "metadata": {},
   "outputs": [
    {
     "name": "stdout",
     "output_type": "stream",
     "text": [
      "2\n",
      "3\n",
      "1\n",
      "-1\n",
      "4\n"
     ]
    }
   ],
   "source": [
    "print(solution([1, 1, 1, 2, 1], [5, 5, 5, 5, 4], [1, 2, 3, 4, 5])) # 2\n",
    "print(solution([1, 1, 1, 2, 1], [5, 5, 5, 5, 4], [6, 5, 4, 3, 2, 1])) # 3\n",
    "print(solution([1, 1, 1, 2, 1], [5, 5, 5, 5, 4], [2, 3, 4, 5])) # 3\n",
    "print(solution([1, 1, 1, 2, 1], [5, 5, 5, 5, 4], [8,8,8]))\n",
    "print(solution([1,4,5,8], [4,5,9,10], [4,6,7,10,2]))"
   ]
  },
  {
   "cell_type": "code",
   "execution_count": null,
   "metadata": {},
   "outputs": [],
   "source": []
  }
 ],
 "metadata": {
  "kernelspec": {
   "display_name": "Python 3",
   "language": "python",
   "name": "python3"
  },
  "language_info": {
   "codemirror_mode": {
    "name": "ipython",
    "version": 3
   },
   "file_extension": ".py",
   "mimetype": "text/x-python",
   "name": "python",
   "nbconvert_exporter": "python",
   "pygments_lexer": "ipython3",
   "version": "3.6.5"
  }
 },
 "nbformat": 4,
 "nbformat_minor": 2
}
