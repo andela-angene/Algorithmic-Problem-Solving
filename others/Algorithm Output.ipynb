{
 "cells": [
  {
   "cell_type": "markdown",
   "metadata": {},
   "source": [
    "# Graphs\n",
    "Graph theory is widely explored and implemented in the field of Computer Science and Mathematics. Consisting of vertices (nodes) and the edges (optionally directed/weighted) that connect them, the data-structure is effectively able to represent and solve many problem domains. One of the most popular areas of algorithm design within this space is the problem of checking for the existence of (shortest) path between two or more vertices in the graph. Properties such as edge weighting and direction are two factors that can be taken\n",
    "into consideration. Let's consider a simple graph below, represented as an adjacency list;\n",
    "\n",
    "![alt text](https://eddmann.com/uploads/depth-first-search-and-breadth-first-search-in-python/graph.png \"Sample Graph\")\n"
   ]
  },
  {
   "cell_type": "code",
   "execution_count": 18,
   "metadata": {},
   "outputs": [],
   "source": [
    "graph = {\n",
    "    'A': set(['B', 'C']),\n",
    "    'B': set(['A', 'D', 'E']),\n",
    "    'C': set(['A', 'F']),\n",
    "    'D': set(['B']),\n",
    "    'E': set(['B', 'F']),\n",
    "    'F': set(['C', 'E'])\n",
    "}"
   ]
  },
  {
   "cell_type": "markdown",
   "metadata": {},
   "source": [
    "### Depth-First Search\n",
    "Depth-First search explores possible vertices (from a supplied root) down each branch before backtracking. "
   ]
  },
  {
   "cell_type": "code",
   "execution_count": 23,
   "metadata": {},
   "outputs": [
    {
     "name": "stdout",
     "output_type": "stream",
     "text": [
      "A\n",
      "C\n",
      "F\n",
      "E\n",
      "B\n",
      "D\n"
     ]
    },
    {
     "data": {
      "text/plain": [
       "{'A', 'B', 'C', 'D', 'E', 'F'}"
      ]
     },
     "execution_count": 23,
     "metadata": {},
     "output_type": "execute_result"
    }
   ],
   "source": [
    "def depth_first(root, graph):\n",
    "    visited = set()\n",
    "    stack = [root]\n",
    "    while stack:\n",
    "        node = stack.pop()\n",
    "        if node not in visited:\n",
    "            visited.add(node)\n",
    "            print(node)\n",
    "            stack.extend(graph[node] - visited)\n",
    "    return visited\n",
    "depth_first('A', graph) # e.g path; A -> C -> F -> E -> B -> D "
   ]
  },
  {
   "cell_type": "markdown",
   "metadata": {},
   "source": [
    "### Breadth-first search\n",
    "Breadth-first search is an algorithm for traversing or searching tree or graph data structures. It starts at the tree root, and explores all of the neighbor nodes at the present depth prior to moving on to the nodes at the next depth level"
   ]
  },
  {
   "cell_type": "code",
   "execution_count": 37,
   "metadata": {},
   "outputs": [
    {
     "name": "stdout",
     "output_type": "stream",
     "text": [
      "A\n",
      "B\n",
      "C\n",
      "D\n",
      "E\n",
      "F\n"
     ]
    },
    {
     "data": {
      "text/plain": [
       "{'A', 'B', 'C', 'D', 'E', 'F'}"
      ]
     },
     "execution_count": 37,
     "metadata": {},
     "output_type": "execute_result"
    }
   ],
   "source": [
    "from collections import deque\n",
    "\n",
    "def breadth_first(root, graph):\n",
    "    visited = set()\n",
    "    queue = deque([root])\n",
    "    while queue:\n",
    "        node = queue.popleft()\n",
    "        if node not in visited:\n",
    "            visited.add(node)\n",
    "            print(node)\n",
    "            queue.extend(graph[node] - visited)\n",
    "    return visited\n",
    "   \n",
    "breadth_first('A', graph) # e.g path; A -> B -> C -> D -> E -> F"
   ]
  },
  {
   "cell_type": "markdown",
   "metadata": {},
   "source": [
    "### A* Algorithm\n",
    "A* (pronounced as \"A star\") is a computer algorithm that is widely used in pathfinding and graph traversal. The algorithm efficiently plots a walkable path between multiple nodes, or points, on the graph. The A* algorithm introduces a heuristic into a regular graph-searching algorithm, essentially planning ahead at each step so a more optimal decision is made.\n",
    "\n",
    "A* is an extension of Dijkstra's algorithm with some characteristics of breadth-first search (BFS).\n",
    "Like Dijkstra, A* works by making a lowest-cost path tree from the start node to the target node. What makes A* different and better for many searches is that for each node, A* uses a function  that gives an estimate of the total cost of a path using that node. Therefore, A* is a heuristic function, which differs from an algorithm in that a heuristic is more of an estimate and is not necessarily provably correct.\n",
    "\n",
    "A* expands paths that are already less expensive by using this function:\n",
    "\n",
    "f(n) = g(n) + h(n)\n",
    "\n",
    "where\n",
    "\n",
    "f(n) = total estimated cost of path through node \n",
    "\n",
    "g(n) = cost so far to reach node \n",
    "\n",
    "h(n) = estimated cost from  to goal. This is the heuristic part of the cost function, so it is like a guess.\n",
    "\n",
    "##### Limitations\n",
    "Although being one of the best pathfinding algorithm around, A* Search Algorithm doesn’t produce the shortest path always, as it relies heavily on heuristics / approximations to calculate – h"
   ]
  },
  {
   "cell_type": "code",
   "execution_count": null,
   "metadata": {},
   "outputs": [],
   "source": []
  },
  {
   "cell_type": "code",
   "execution_count": null,
   "metadata": {},
   "outputs": [],
   "source": []
  },
  {
   "cell_type": "markdown",
   "metadata": {},
   "source": [
    "## Quick Sort\n",
    "Quick Sort is also based on the concept of Divide and Conquer, just like merge sort. But in quick sort all the heavy lifting(major work) is done while dividing the array into subarrays, while in case of merge sort, all the real work happens during merging the subarrays. In case of quick sort, the combine step does absolutely nothing.\n",
    "\n",
    "It is also called partition-exchange sort. This algorithm divides the list into three main parts:\n",
    "\n",
    "Elements less than the Pivot element\n",
    "Pivot element(Central element)\n",
    "Elements greater than the pivot element\n",
    "Pivot element can be any element from the array, it can be the first element, the last element or any random element. In this tutorial, we will take the rightmost element or the last element as pivot.\n",
    "\n",
    "For example: In the array {52, 37, 63, 14, 17, 8, 6, 25}, we take 25 as pivot. So after the first pass, the list will be changed like this.\n",
    "\n",
    "{6 8 17 14 25 63 37 52}\n",
    "\n",
    "Hence after the first pass, pivot will be set at its position, with all the elements smaller to it on its left and all the elements larger than to its right. Now 6 8 17 14 and 63 37 52 are considered as two separate sunarrays, and same recursive logic will be applied on them, and we will keep doing this until the complete array is sorted.. There are many different versions of quickSort that pick pivot in different ways.\n",
    "\n",
    "Always pick first element as pivot.\n",
    "\n",
    "Always pick last element as pivot (implemented below)\n",
    "\n",
    "Pick a random element as pivot.\n",
    "\n",
    "Pick median as pivot.\n",
    "\n",
    "\n",
    "The key process in quickSort is partition(). Target of partitions is, given an array and an element x of array as pivot, put x at its correct position in sorted array and put all smaller elements (smaller than x) before x, and put all greater elements (greater than x) after x. All this should be done in linear time.\n",
    "\n",
    "Quick sort has a time complexity of O(nlog(n)) for the best and average case, and O(n^2) for the worst case.\n"
   ]
  },
  {
   "cell_type": "code",
   "execution_count": null,
   "metadata": {},
   "outputs": [],
   "source": [
    "# Psuedo Code\n",
    "def quickSort(arr, low, high)\n",
    "    if (low < high):\n",
    "        pi = partition(arr, low, high);\n",
    "\n",
    "        quickSort(arr, low, pi - 1);\n",
    "        quickSort(arr, pi + 1, high);"
   ]
  },
  {
   "cell_type": "code",
   "execution_count": null,
   "metadata": {},
   "outputs": [],
   "source": []
  },
  {
   "cell_type": "markdown",
   "metadata": {},
   "source": [
    "## Merge Sort\n",
    "Like QuickSort, Merge Sort is a Divide and Conquer algorithm. It divides input array in two halves, calls itself for the two halves and then merges the two sorted halves. The merge() function is used for merging two halves. The merging is the key process that assumes that left and right sub-arrays are sorted and merges the two sorted sub-arrays into one.\n",
    "\n",
    "### Psuedo Code\n",
    " 1. Find the middle point to divide the array into two halves:  \n",
    "\n",
    " 2. Call mergeSort for first half  \n",
    "\n",
    " 3. Call mergeSort for second half\n",
    "\n",
    " 4. Merge the two halves sorted in step 2 and 3\n",
    " \n",
    " Merge sort has a time complexity of O(nlog(n)) for all cases (best, average, worst)\n"
   ]
  },
  {
   "cell_type": "markdown",
   "metadata": {},
   "source": []
  },
  {
   "cell_type": "markdown",
   "metadata": {},
   "source": [
    "## Insertion Sort\n",
    "Here, a sub-list is maintained which is always sorted. For example, the lower part of an array is maintained to be sorted. An element which is to be inserted in this sorted sub-list, has to find its appropriate place and then it has to be inserted there. Hence the name, insertion sort.\n",
    "\n",
    "The array is searched sequentially and unsorted items are moved and inserted into the sorted sub-list (in the same array). This algorithm is not suitable for large data sets as its average and worst/average case complexity are of Ο(n2), where n is the number of items (it's O(n) for the best case which is rare).\n",
    "\n"
   ]
  },
  {
   "cell_type": "code",
   "execution_count": null,
   "metadata": {},
   "outputs": [],
   "source": []
  },
  {
   "cell_type": "markdown",
   "metadata": {},
   "source": [
    "### Heap Sort\n",
    "Heap sort is a comparison based sorting technique based on Binary Heap data structure. It is similar to selection sort where we first find the maximum element and place the maximum element at the end. We repeat the same process for remaining element."
   ]
  },
  {
   "cell_type": "code",
   "execution_count": null,
   "metadata": {},
   "outputs": [],
   "source": []
  },
  {
   "cell_type": "code",
   "execution_count": null,
   "metadata": {},
   "outputs": [],
   "source": []
  },
  {
   "cell_type": "markdown",
   "metadata": {},
   "source": [
    "# Hashing Algorithm\n",
    "A hashing algorithm is a cryptographic hash function. It is a mathematical algorithm that maps data of arbitrary size to a hash of a fixed size. It’s designed to be a one-way function, infeasible to invert. However, nowadays several hashing algorithms are being compromised. This happened to MD5, for example — a widely known hash function designed to be a cryptographic hash function, which is now so easy to reverse — that we could only use for verifying data against unintentional corruption.\n",
    "\n",
    "### Ideal cryptographic hash function should have the following properties:\n",
    "\n",
    "It should be fast to compute the hash value for any kind of data\n",
    "\n",
    "It should be impossible to regenerate a message from its hash value (brute force attack as the only option)\n",
    "\n",
    "It should avoid hash collisions, each message has its own hash.\n",
    "\n",
    "Every change to a message, even the smallest one, should change the hash value. It should be completely different. It’s called the avalanche effect\n",
    "\n",
    "### Uses\n",
    "Cryptographic hash functions are used notably in IT. \n",
    "\n",
    "We can use them for digital signatures, message authentication codes (MACs), and other forms of authentication.\n",
    "\n",
    "We can also use them for indexing data in hash tables, \n",
    "\n",
    "for fingerprinting, \n",
    "\n",
    "identifying files,\n",
    "\n",
    "detecting duplicates, \n",
    "\n",
    "as checksums (we can detect if a sent file didn’t suffer accidental or intentional data corruption).\n",
    "\n",
    "### MD5\n",
    "The MD5 message-digest algorithm is a widely used hash function producing a 128-bit hash value. Although MD5 was initially designed to be used as a cryptographic hash function, it has been found to suffer from extensive vulnerabilities.\n",
    "\n",
    "### SHA\n",
    "Secure Hash Algorithm (SHA) is a hashing algorithm. It is used for password (and other important info) hashing. SHA is used to create digital signatures of the data. \n",
    "\n",
    "### Collisions\n",
    "In computer science, a collision or clash is a situation that occurs when two distinct pieces of data have the same hash value,\n",
    "\n",
    "### Linear Probing\n",
    "Linear probing is a strategy for resolving collisions or keys that map to the same index in a hash table.\n",
    "The strategy is as follows:\n",
    "\n",
    "1. use the hash function to find the index for a key\n",
    "2. if that spot contains a value, use the next available spot. If you reach the end, go back to the beginning."
   ]
  },
  {
   "cell_type": "code",
   "execution_count": null,
   "metadata": {},
   "outputs": [],
   "source": []
  }
 ],
 "metadata": {
  "kernelspec": {
   "display_name": "Python 3",
   "language": "python",
   "name": "python3"
  },
  "language_info": {
   "codemirror_mode": {
    "name": "ipython",
    "version": 3
   },
   "file_extension": ".py",
   "mimetype": "text/x-python",
   "name": "python",
   "nbconvert_exporter": "python",
   "pygments_lexer": "ipython3",
   "version": "3.6.5"
  }
 },
 "nbformat": 4,
 "nbformat_minor": 2
}
