{
 "cells": [
  {
   "cell_type": "code",
   "execution_count": 21,
   "metadata": {
    "collapsed": true
   },
   "outputs": [],
   "source": [
    "n, k = 5, 3"
   ]
  },
  {
   "cell_type": "code",
   "execution_count": 22,
   "metadata": {
    "collapsed": true
   },
   "outputs": [],
   "source": [
    "books = [4, 2, 6, 1, 10]"
   ]
  },
  {
   "cell_type": "code",
   "execution_count": 40,
   "metadata": {},
   "outputs": [],
   "source": [
    "def lisa_book(k, books):\n",
    "    ch, result = 1, 0\n",
    "\n",
    "    for b in books:\n",
    "        val = 0\n",
    "        while b > 0:\n",
    "            bal = val + k if b > k else val + b\n",
    "            if val < ch <= bal:\n",
    "                print(val, bal, ch)\n",
    "                result += 1\n",
    "            b -= k\n",
    "            ch += 1\n",
    "            val = bal\n",
    "            print('=====')\n",
    "    print(result)"
   ]
  },
  {
   "cell_type": "code",
   "execution_count": 34,
   "metadata": {},
   "outputs": [
    {
     "name": "stdout",
     "output_type": "stream",
     "text": [
      "4\n"
     ]
    }
   ],
   "source": [
    "lisa_book(3, [4, 2, 6, 1, 10])"
   ]
  },
  {
   "cell_type": "code",
   "execution_count": 35,
   "metadata": {},
   "outputs": [
    {
     "name": "stdout",
     "output_type": "stream",
     "text": [
      "1\n"
     ]
    }
   ],
   "source": [
    "lisa_book(3, [4])"
   ]
  },
  {
   "cell_type": "code",
   "execution_count": 41,
   "metadata": {},
   "outputs": [
    {
     "name": "stdout",
     "output_type": "stream",
     "text": [
      "0 3 1\n",
      "=====\n",
      "0 5 2\n",
      "=====\n",
      "=====\n",
      "0 5 4\n",
      "=====\n",
      "=====\n",
      "=====\n",
      "=====\n",
      "5 10 8\n",
      "=====\n",
      "=====\n",
      "=====\n",
      "=====\n",
      "10 14 12\n",
      "=====\n",
      "=====\n",
      "=====\n",
      "=====\n",
      "=====\n",
      "=====\n",
      "=====\n",
      "=====\n",
      "15 20 20\n",
      "=====\n",
      "20 24 21\n",
      "=====\n",
      "=====\n",
      "=====\n",
      "=====\n",
      "=====\n",
      "=====\n",
      "25 30 27\n",
      "=====\n",
      "=====\n",
      "8\n"
     ]
    }
   ],
   "source": [
    "lisa_book(5, [int(i) for i in '3 8 15 11 14 1 9 2 24 31'.split()])"
   ]
  },
  {
   "cell_type": "code",
   "execution_count": null,
   "metadata": {
    "collapsed": true
   },
   "outputs": [],
   "source": []
  }
 ],
 "metadata": {
  "kernelspec": {
   "display_name": "Python 3",
   "language": "python",
   "name": "python3"
  },
  "language_info": {
   "codemirror_mode": {
    "name": "ipython",
    "version": 3
   },
   "file_extension": ".py",
   "mimetype": "text/x-python",
   "name": "python",
   "nbconvert_exporter": "python",
   "pygments_lexer": "ipython3",
   "version": "3.6.5"
  }
 },
 "nbformat": 4,
 "nbformat_minor": 2
}
