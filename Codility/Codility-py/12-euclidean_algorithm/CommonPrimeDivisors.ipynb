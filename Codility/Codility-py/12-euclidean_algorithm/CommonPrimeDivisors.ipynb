{
 "cells": [
  {
   "cell_type": "code",
   "execution_count": 53,
   "metadata": {},
   "outputs": [],
   "source": [
    "def get_gcd(a, b):\n",
    "    min_, max_ = min(a, b), max(a, b)\n",
    "    while min_ > 0:\n",
    "        max_ = max_ % min_\n",
    "        max_, min_ = min_, max_\n",
    "    return max_\n",
    "    \n",
    "def check(a, gcd):\n",
    "    common = get_gcd(a, gcd)\n",
    "    if common == 1 and a > 1:\n",
    "        return False\n",
    "    x = a // common\n",
    "    i = 2\n",
    "    while i * i <= x:\n",
    "        if x % i == 0:\n",
    "            x = x // i\n",
    "            if gcd % i != 0:\n",
    "                return False\n",
    "            i = 1\n",
    "        i += 1\n",
    "    return gcd % x == 0    \n",
    "\n",
    "def solution(A, B):\n",
    "    result = 0\n",
    "    for i in range(len(A)):\n",
    "        a, b = A[i], B[i]\n",
    "        gcd = get_gcd(a, b)\n",
    "        if check(a//gcd, gcd) and check(b//gcd, gcd):\n",
    "            result += 1\n",
    "    return result\n",
    "\n",
    "# (84%) https://app.codility.com/demo/results/trainingKF7TDA-EUJ/\n",
    "# https://app.codility.com/demo/results/training4BK3Y5-YTK/"
   ]
  },
  {
   "cell_type": "code",
   "execution_count": 54,
   "metadata": {},
   "outputs": [
    {
     "data": {
      "text/plain": [
       "30"
      ]
     },
     "execution_count": 54,
     "metadata": {},
     "output_type": "execute_result"
    }
   ],
   "source": [
    "get_gcd(150, 90)"
   ]
  },
  {
   "cell_type": "code",
   "execution_count": 55,
   "metadata": {},
   "outputs": [
    {
     "data": {
      "text/plain": [
       "1"
      ]
     },
     "execution_count": 55,
     "metadata": {},
     "output_type": "execute_result"
    }
   ],
   "source": [
    "get_gcd(30, 7)"
   ]
  },
  {
   "cell_type": "code",
   "execution_count": 56,
   "metadata": {
    "scrolled": true
   },
   "outputs": [
    {
     "data": {
      "text/plain": [
       "True"
      ]
     },
     "execution_count": 56,
     "metadata": {},
     "output_type": "execute_result"
    }
   ],
   "source": [
    "check(1, 30)"
   ]
  },
  {
   "cell_type": "code",
   "execution_count": 57,
   "metadata": {},
   "outputs": [
    {
     "data": {
      "text/plain": [
       "False"
      ]
     },
     "execution_count": 57,
     "metadata": {},
     "output_type": "execute_result"
    }
   ],
   "source": [
    "check(7, 30)"
   ]
  },
  {
   "cell_type": "code",
   "execution_count": 58,
   "metadata": {},
   "outputs": [
    {
     "data": {
      "text/plain": [
       "1"
      ]
     },
     "execution_count": 58,
     "metadata": {},
     "output_type": "execute_result"
    }
   ],
   "source": [
    "solution([15, 10, 3], [75, 30, 5]) # 1, (15, 75)"
   ]
  },
  {
   "cell_type": "code",
   "execution_count": 59,
   "metadata": {},
   "outputs": [
    {
     "data": {
      "text/plain": [
       "2"
      ]
     },
     "execution_count": 59,
     "metadata": {},
     "output_type": "execute_result"
    }
   ],
   "source": [
    "solution([15, 10, 3, 150], [75, 30, 5, 90])"
   ]
  },
  {
   "cell_type": "code",
   "execution_count": null,
   "metadata": {},
   "outputs": [],
   "source": []
  }
 ],
 "metadata": {
  "kernelspec": {
   "display_name": "Python 3",
   "language": "python",
   "name": "python3"
  },
  "language_info": {
   "codemirror_mode": {
    "name": "ipython",
    "version": 3
   },
   "file_extension": ".py",
   "mimetype": "text/x-python",
   "name": "python",
   "nbconvert_exporter": "python",
   "pygments_lexer": "ipython3",
   "version": "3.6.5"
  }
 },
 "nbformat": 4,
 "nbformat_minor": 2
}
