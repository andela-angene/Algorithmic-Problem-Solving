{
 "cells": [
  {
   "cell_type": "code",
   "execution_count": 40,
   "metadata": {},
   "outputs": [],
   "source": [
    "def get_peak_prefix(arr):\n",
    "    ln = len(arr)\n",
    "    peaks = [i for i in range(1, ln - 1) if arr[i-1] < arr[i] > arr[i+1]]\n",
    "    ln_peaks = len(peaks)\n",
    "    j, prefix = 0, [0] * ln\n",
    "    if ln_peaks < 1:\n",
    "        return prefix, 0\n",
    "    peak = peaks[j]\n",
    "    for i in range(ln):\n",
    "        if peak >= i:\n",
    "            prefix[i] = peak\n",
    "        else:\n",
    "            j += 1\n",
    "            if j >= ln_peaks:\n",
    "                break\n",
    "            peak = peaks[j]\n",
    "            prefix[i] = peak\n",
    "    return prefix, ln_peaks\n",
    "    \n",
    "def check(n, prefix):\n",
    "    i, flags = 0, n\n",
    "    while i < len(prefix) and flags:\n",
    "        peak = prefix[i]\n",
    "        if peak:\n",
    "            flags -= 1\n",
    "            i = peak + n\n",
    "        else:\n",
    "            break\n",
    "    return flags == 0\n",
    "    \n",
    "def solution(arr):\n",
    "    i, result = 1, 0\n",
    "    prefix, ln_peaks = get_peak_prefix(arr)\n",
    "    while i <= ln_peaks:\n",
    "        if check(i, prefix):\n",
    "            result = i\n",
    "            i += 1\n",
    "        else:\n",
    "            break\n",
    "    return result\n",
    "\n",
    "# https://app.codility.com/demo/results/training2MYUKF-5D8/"
   ]
  },
  {
   "cell_type": "code",
   "execution_count": 41,
   "metadata": {},
   "outputs": [
    {
     "data": {
      "text/plain": [
       "0"
      ]
     },
     "execution_count": 41,
     "metadata": {},
     "output_type": "execute_result"
    }
   ],
   "source": [
    "solution([1])"
   ]
  },
  {
   "cell_type": "code",
   "execution_count": 42,
   "metadata": {},
   "outputs": [
    {
     "data": {
      "text/plain": [
       "3"
      ]
     },
     "execution_count": 42,
     "metadata": {},
     "output_type": "execute_result"
    }
   ],
   "source": [
    "solution([1, 5, 3, 4, 3, 4, 1, 2, 3, 4, 6, 2])"
   ]
  },
  {
   "cell_type": "code",
   "execution_count": 43,
   "metadata": {},
   "outputs": [],
   "source": [
    "def solution(arr):\n",
    "    peaks = [i for i in range(1, len(arr) - 1) if arr[i-1] < arr[i] > arr[i+1]]\n",
    "    ln = flags = len(peaks)\n",
    "    current = flags - 1\n",
    "    while flags > 0:\n",
    "        last = 0\n",
    "        for i in range(1, ln):\n",
    "            if current == 0:\n",
    "                return flags\n",
    "            diff = peaks[i] - peaks[last]\n",
    "            if diff >= flags:\n",
    "                last = i\n",
    "                current -= 1\n",
    "            if current > (ln - i -1):\n",
    "                flags -= 1\n",
    "                current = flags - 1\n",
    "                break\n",
    "    return 0\n",
    "\n",
    "# (60%)"
   ]
  },
  {
   "cell_type": "code",
   "execution_count": null,
   "metadata": {},
   "outputs": [],
   "source": []
  }
 ],
 "metadata": {
  "kernelspec": {
   "display_name": "Python 3",
   "language": "python",
   "name": "python3"
  },
  "language_info": {
   "codemirror_mode": {
    "name": "ipython",
    "version": 3
   },
   "file_extension": ".py",
   "mimetype": "text/x-python",
   "name": "python",
   "nbconvert_exporter": "python",
   "pygments_lexer": "ipython3",
   "version": "3.6.5"
  }
 },
 "nbformat": 4,
 "nbformat_minor": 2
}
