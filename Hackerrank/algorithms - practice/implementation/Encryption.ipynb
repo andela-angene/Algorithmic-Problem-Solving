{
 "cells": [
  {
   "cell_type": "code",
   "execution_count": 8,
   "metadata": {
    "collapsed": true
   },
   "outputs": [],
   "source": [
    "import math\n",
    "from collections import defaultdict as dd"
   ]
  },
  {
   "cell_type": "code",
   "execution_count": 21,
   "metadata": {},
   "outputs": [],
   "source": [
    "sent = 'if man was meant to stay on the ground god would have given us roots'\n",
    "sent = ''.join([s.strip() for s in sent.split()])"
   ]
  },
  {
   "cell_type": "code",
   "execution_count": 22,
   "metadata": {},
   "outputs": [
    {
     "name": "stdout",
     "output_type": "stream",
     "text": [
      "8 7\n"
     ]
    }
   ],
   "source": [
    "ln = len(sent)\n",
    "tp = math.ceil(math.sqrt(ln))\n",
    "fl=  math.floor(math.sqrt(ln))\n",
    "print(tp, fl)"
   ]
  },
  {
   "cell_type": "code",
   "execution_count": 23,
   "metadata": {},
   "outputs": [
    {
     "name": "stdout",
     "output_type": "stream",
     "text": [
      "imtgdvs fearwer mayoogo anouuio ntnnlvt wttddes aohghn sseoau "
     ]
    }
   ],
   "source": [
    "\n",
    "\n",
    "result = dd(list)\n",
    "\n",
    "\n",
    "for i in range(ln):\n",
    "    result[i % tp].append(sent[i])\n",
    "    \n",
    "for wordlist in result:\n",
    "    print(''.join(result[wordlist]), end=' ')"
   ]
  },
  {
   "cell_type": "code",
   "execution_count": null,
   "metadata": {
    "collapsed": true
   },
   "outputs": [],
   "source": [
    "import math\n",
    "from collections import defaultdict as dd\n",
    "sent = ''.join([s.strip() for s in input().split()])\n",
    "ln = len(sent)\n",
    "tp = math.ceil(math.sqrt(ln))\n",
    "fl=  math.floor(math.sqrt(ln))\n",
    "result = dd(list)\n",
    "for i in range(ln):\n",
    "    result[i % tp].append(sent[i])\n",
    "    \n",
    "for wordlist in result:\n",
    "    print(''.join(result[wordlist]), end=' ')"
   ]
  }
 ],
 "metadata": {
  "kernelspec": {
   "display_name": "Python 3",
   "language": "python",
   "name": "python3"
  },
  "language_info": {
   "codemirror_mode": {
    "name": "ipython",
    "version": 3
   },
   "file_extension": ".py",
   "mimetype": "text/x-python",
   "name": "python",
   "nbconvert_exporter": "python",
   "pygments_lexer": "ipython3",
   "version": "3.6.3"
  }
 },
 "nbformat": 4,
 "nbformat_minor": 2
}
