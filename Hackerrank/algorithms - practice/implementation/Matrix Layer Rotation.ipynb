{
 "cells": [
  {
   "cell_type": "code",
   "execution_count": 109,
   "metadata": {},
   "outputs": [],
   "source": [
    "\"\"\"\n",
    "4 4 2\n",
    "1 2 3 4\n",
    "5 6 7 8\n",
    "9 10 11 12\n",
    "13 14 15 16\n",
    "\"\"\"\n",
    "\"\"\"\n",
    "5 4 7\n",
    "1 2 3 4\n",
    "7 8 9 10\n",
    "13 14 15 16\n",
    "19 20 21 22\n",
    "25 26 27 28\n",
    "\"\"\"\n",
    "import math\n",
    "row, col, k = 4, 4, 2\n",
    "grid = {\n",
    "    0: [1, 2, 3, 4],\n",
    "    1: [5, 6, 7, 8],\n",
    "    2: [9, 10, 11, 12],\n",
    "    3: [13, 14, 15, 16]\n",
    "}\n",
    "ngrid = dict(grid)\n",
    "mn = math.ceil(min(row, col)/2.0)"
   ]
  },
  {
   "cell_type": "code",
   "execution_count": 123,
   "metadata": {},
   "outputs": [],
   "source": [
    "row, col, k = 5, 4, 7\n",
    "grid = {\n",
    "    0: [1, 2, 3, 4],\n",
    "    1: [7, 8, 9, 10],\n",
    "    2: [13, 14, 15, 16],\n",
    "    3: [19, 20, 21, 22],\n",
    "    4: [25, 26, 27, 28]\n",
    "}\n",
    "ngrid = dict(grid)\n",
    "mn = math.ceil(min(row, col)/2.0)"
   ]
  },
  {
   "cell_type": "code",
   "execution_count": 124,
   "metadata": {},
   "outputs": [],
   "source": [
    "def add_detail(grid, item, coil, locs):\n",
    "    coil.append(grid[item[0]][item[1]])\n",
    "    locs.append((item[0], item[1]))\n",
    "\n",
    "def get_coil(grid, *corners):\n",
    "    coil, locs = [], []\n",
    "    a, b, c, d = [list(c) for c in corners]\n",
    "    new_a = list(a)\n",
    "    while a != c:\n",
    "        add_detail(grid, a, coil, locs)\n",
    "        a[0] += 1\n",
    "    while c != d:\n",
    "        add_detail(grid, c, coil, locs)\n",
    "        c[1] += 1\n",
    "    while d != b:\n",
    "        add_detail(grid, d, coil, locs)\n",
    "        d[0] -= 1\n",
    "    while b != new_a:\n",
    "        add_detail(grid, b, coil, locs)\n",
    "        b[1] -= 1\n",
    "    return coil, locs"
   ]
  },
  {
   "cell_type": "code",
   "execution_count": 125,
   "metadata": {},
   "outputs": [
    {
     "name": "stdout",
     "output_type": "stream",
     "text": [
      "28 27 26 25\n",
      "22 9 15 19\n",
      "16 8 21 13\n",
      "10 14 20 7\n",
      "4 3 2 1\n"
     ]
    },
    {
     "data": {
      "text/plain": [
       "[None, None, None, None, None]"
      ]
     },
     "execution_count": 125,
     "metadata": {},
     "output_type": "execute_result"
    }
   ],
   "source": [
    "coils, locations = [], []\n",
    "a, b, c, d = [0, 0], [0, col-1], [row-1, 0], [row-1, col-1]\n",
    "for _ in range(mn):\n",
    "    coil, locs = get_coil(grid, a, b, c, d)\n",
    "    coils.append(coil)\n",
    "    locations.append(locs)\n",
    "    a, b, c, d = [a[0]+1, a[0]+1], [b[0]+1, b[1]-1], [c[0]-1, c[1]+1], [d[0]-1, d[1]-1]\n",
    "rotated, dist = [], 0\n",
    "for coil in coils:\n",
    "    ln = len(coil)\n",
    "    rotate = k % ln\n",
    "    coil = [coil[i-rotate] for i in range(ln)]\n",
    "    rotated.append(coil)\n",
    "for coil in rotated:\n",
    "    locs = locations[dist]\n",
    "    for i in range(len(coil)):\n",
    "        loc = locs[i]\n",
    "        ngrid[loc[0]][loc[1]] = coil[i]\n",
    "    dist += 1\n",
    "[print(*ngrid[i]) for i in range(row)]"
   ]
  }
 ],
 "metadata": {
  "kernelspec": {
   "display_name": "Python 3",
   "language": "python",
   "name": "python3"
  },
  "language_info": {
   "codemirror_mode": {
    "name": "ipython",
    "version": 3
   },
   "file_extension": ".py",
   "mimetype": "text/x-python",
   "name": "python",
   "nbconvert_exporter": "python",
   "pygments_lexer": "ipython3",
   "version": "3.6.5"
  }
 },
 "nbformat": 4,
 "nbformat_minor": 2
}
