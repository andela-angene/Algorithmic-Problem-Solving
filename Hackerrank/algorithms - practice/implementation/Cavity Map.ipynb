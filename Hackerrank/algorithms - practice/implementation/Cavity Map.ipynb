{
 "cells": [
  {
   "cell_type": "code",
   "execution_count": 14,
   "metadata": {},
   "outputs": [],
   "source": [
    "arr = {\n",
    "    0: list('1112'),\n",
    "    1: list('1912'),\n",
    "    2: list('1892'),\n",
    "    3: list('1234')\n",
    "}\n",
    "n = 4"
   ]
  },
  {
   "cell_type": "code",
   "execution_count": 15,
   "metadata": {},
   "outputs": [],
   "source": [
    "arr_cp = dict(arr)"
   ]
  },
  {
   "cell_type": "code",
   "execution_count": 17,
   "metadata": {},
   "outputs": [
    {
     "name": "stdout",
     "output_type": "stream",
     "text": [
      "1112\n",
      "1X12\n",
      "18X2\n",
      "1234\n"
     ]
    }
   ],
   "source": [
    "\n",
    "for i in range(1, n - 1):\n",
    "    for j in range(1, n - 1):\n",
    "        x, a, b, c, d = arr[i][j], arr[i][j+1], arr[i][j-1], arr[i+1][j], arr[i-1][j]\n",
    "        if x > a and x > b and x > c and x > d:\n",
    "            arr_cp[i][j] = 'X'\n",
    "            \n",
    "for i in range(n):\n",
    "    print(''.join(arr_cp[i]))"
   ]
  },
  {
   "cell_type": "code",
   "execution_count": null,
   "metadata": {},
   "outputs": [],
   "source": []
  },
  {
   "cell_type": "code",
   "execution_count": null,
   "metadata": {},
   "outputs": [],
   "source": []
  }
 ],
 "metadata": {
  "kernelspec": {
   "display_name": "Python 3",
   "language": "python",
   "name": "python3"
  },
  "language_info": {
   "codemirror_mode": {
    "name": "ipython",
    "version": 3
   },
   "file_extension": ".py",
   "mimetype": "text/x-python",
   "name": "python",
   "nbconvert_exporter": "python",
   "pygments_lexer": "ipython3",
   "version": "3.6.5"
  }
 },
 "nbformat": 4,
 "nbformat_minor": 2
}
