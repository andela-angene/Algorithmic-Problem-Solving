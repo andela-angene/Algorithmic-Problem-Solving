{
 "cells": [
  {
   "cell_type": "code",
   "execution_count": 64,
   "metadata": {},
   "outputs": [],
   "source": [
    "def check(arr, swap=False):\n",
    "    for i in range(len(arr) - 1):\n",
    "        if arr[i] > arr[i+1]:\n",
    "            return i+1 if swap else False\n",
    "    return True if not swap else 0\n",
    "\n",
    "def solution(arr):\n",
    "    for i in range(len(arr) - 1):\n",
    "        if arr[i] > arr[i+1]:\n",
    "            swap = list(arr)\n",
    "            j = i + 1 + check(arr[i+1:], swap=True)\n",
    "            swap[i], swap[j] = swap[j], swap[i]\n",
    "            if check(swap):\n",
    "                print('yes')\n",
    "                return 'swap', i+1, j+1\n",
    "            j = i+1\n",
    "            while j < len(arr) - 1:\n",
    "                if arr[j+1] > arr[j]:\n",
    "                    print(i+1, j+1)\n",
    "                    arr = arr[:i] + list(reversed(arr[i:j+1])) + arr[j+1:]\n",
    "                    if check(arr):\n",
    "                        print('yes')\n",
    "                        return 'reverse', i+1, j+1\n",
    "                    else:\n",
    "                        break\n",
    "                j += 1\n",
    "            return ('no',)\n",
    "    return ('yes',)"
   ]
  },
  {
   "cell_type": "code",
   "execution_count": 65,
   "metadata": {},
   "outputs": [
    {
     "name": "stdout",
     "output_type": "stream",
     "text": [
      "yes\n"
     ]
    },
    {
     "data": {
      "text/plain": [
       "('swap', 4, 5)"
      ]
     },
     "execution_count": 65,
     "metadata": {},
     "output_type": "execute_result"
    }
   ],
   "source": [
    "solution([2,3,4,9,6])"
   ]
  },
  {
   "cell_type": "code",
   "execution_count": 66,
   "metadata": {},
   "outputs": [
    {
     "name": "stdout",
     "output_type": "stream",
     "text": [
      "yes\n",
      "swap 3 4\n",
      "yes\n",
      "yes\n",
      "swap 1 2\n",
      "1 2\n",
      "no\n",
      "2 5\n",
      "yes\n",
      "reverse 2 5\n",
      "2 5\n",
      "no\n",
      "yes\n"
     ]
    }
   ],
   "source": [
    "print(*solution([2,3,5,4])) # 3,4\n",
    "print(*solution([2])) # yes\n",
    "print(*solution([4,2])) # 1 2\n",
    "print(*solution([3,1,2])) # no\n",
    "print(*solution([1, 5, 4, 3, 2, 6])) # rev 2 5\n",
    "print(*solution([1, 5, 4, 3, 2, 6, 3, 4])) # no\n",
    "print(*solution([1,2,3])) # yes"
   ]
  },
  {
   "cell_type": "code",
   "execution_count": null,
   "metadata": {
    "scrolled": true
   },
   "outputs": [],
   "source": [
    "aa = '4104 8529 49984 54956 63034 82534 84473 86411 92941 95929 108831 894947 125082 137123 137276 142534 149840 154703 174744 180537 207563 221088 223069 231982 249517 252211 255192 260283 261543 262406 270616 274600 274709 283838 289532 295589 310856 314991 322201 339198 343271 383392 385869 389367 403468 441925 444543 454300 455366 469896 478627 479055 484516 499114 512738 543943 552836 560153 578730 579688 591631 594436 606033 613146 621500 627475 631582 643754 658309 666435 667186 671190 674741 685292 702340 705383 722375 722776 726812 748441 790023 795574 797416 813164 813248 827778 839998 843708 851728 857147 860454 861956 864994 868755 116375 911042 912634 914500 920825 979477'\n",
    "aa"
   ]
  },
  {
   "cell_type": "code",
   "execution_count": 63,
   "metadata": {},
   "outputs": [
    {
     "name": "stdout",
     "output_type": "stream",
     "text": [
      "[125082, 137123, 137276, 142534, 149840, 154703]\n",
      "here 868755 116375\n",
      "yes\n"
     ]
    },
    {
     "data": {
      "text/plain": [
       "('swap', 12, 95)"
      ]
     },
     "execution_count": 63,
     "metadata": {},
     "output_type": "execute_result"
    }
   ],
   "source": [
    "# aa = aa.split()\n",
    "solution([int(i) for i in aa])"
   ]
  },
  {
   "cell_type": "code",
   "execution_count": null,
   "metadata": {},
   "outputs": [],
   "source": []
  }
 ],
 "metadata": {
  "kernelspec": {
   "display_name": "Python 3",
   "language": "python",
   "name": "python3"
  },
  "language_info": {
   "codemirror_mode": {
    "name": "ipython",
    "version": 3
   },
   "file_extension": ".py",
   "mimetype": "text/x-python",
   "name": "python",
   "nbconvert_exporter": "python",
   "pygments_lexer": "ipython3",
   "version": "3.6.5"
  }
 },
 "nbformat": 4,
 "nbformat_minor": 2
}
