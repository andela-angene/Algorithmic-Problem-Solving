{
 "cells": [
  {
   "cell_type": "code",
   "execution_count": 21,
   "metadata": {
    "collapsed": true
   },
   "outputs": [],
   "source": [
    "h, m = '5', '47'\n",
    "\n",
    "number_list = [\"zero\",\"one\",\"two\",\"three\",\"four\",\"five\",\"six\",\"seven\",\"eight\",\"nine\"]\n",
    "teen_list = [\"ten\",\"eleven\",\"twelve\",\"thirteen\",\"fourteen\",\"fifteen\",\"sixteen\",\"seventeen\",\"eighteen\",\"nineteen\"]\n",
    "decades_list =[\"twenty\"]\n",
    "\n",
    "\n",
    "def convert_to_word(num):\n",
    "    n = int(num)\n",
    "    if n < 10:\n",
    "        return number_list[n]\n",
    "    elif 10 <= n <= 19:\n",
    "        return teen_list[n - 10]\n",
    "    else:\n",
    "        num_word = convert_to_word(num[1])\n",
    "        return 'twenty ' + num_word if num[1] != '0' else 'twenty'"
   ]
  },
  {
   "cell_type": "code",
   "execution_count": 64,
   "metadata": {},
   "outputs": [],
   "source": [
    "def word_time(h, m):\n",
    "    hour = convert_to_word(h)\n",
    "\n",
    "    if int(m) == 0:\n",
    "        return \"{} o' clock\".format(hour)\n",
    "    if int(m) == 30:\n",
    "        return \"half past {}\".format(hour)\n",
    "    if int(m) == 15:\n",
    "        return \"quarter past {}\".format(hour)\n",
    "    if int(m) == 45:\n",
    "        hour = convert_to_word(str(int(h) + 1)) if h != '12' else 'one'\n",
    "        return \"quarter to {}\".format(hour)\n",
    "    if int(m) < 30:\n",
    "        minutes = 'minutes' if int(m) != 1 else 'minute'\n",
    "        mins = convert_to_word(m)\n",
    "        return \"{} {} past {}\".format(mins, minutes, hour)\n",
    "    if int(m) > 30:\n",
    "        hour = convert_to_word(str(int(h) + 1)) if h != '12' else 'one'\n",
    "        \n",
    "        m = str(60 - int(m))\n",
    "        minutes = 'minutes' if int(m) != 1 else 'minute'\n",
    "        mins = convert_to_word(m)\n",
    "        return \"{} {} to {}\".format(mins, minutes, hour)\n",
    "    "
   ]
  },
  {
   "cell_type": "code",
   "execution_count": 65,
   "metadata": {},
   "outputs": [
    {
     "name": "stdout",
     "output_type": "stream",
     "text": [
      "('5', '00') : five o' clock\n",
      "('5', '15') : quarter past five\n",
      "('5', '30') : half past five\n",
      "('5', '45') : quarter to six\n",
      "('5', '01') : one minute past five\n",
      "('5', '28') : twenty eight minutes past five\n",
      "('5', '59') : one minute to six\n",
      "('5', '47') : thirteen minutes to six\n",
      "('8', '47') : thirteen minutes to nine\n",
      "('12', '47') : thirteen minutes to one\n"
     ]
    }
   ],
   "source": [
    "for i in [('5', '00'), ('5', '15'), ('5', '30'), ('5', '45'), ('5', '01'), ('5', '28'), ('5', '59'), \n",
    "          ('5', '47'), ('8', '47'), ('12', '47')]:\n",
    "    print(str(i) + ' : ' + word_time(i[0], i[1]))"
   ]
  },
  {
   "cell_type": "code",
   "execution_count": null,
   "metadata": {
    "collapsed": true
   },
   "outputs": [],
   "source": []
  },
  {
   "cell_type": "code",
   "execution_count": 29,
   "metadata": {},
   "outputs": [
    {
     "name": "stdout",
     "output_type": "stream",
     "text": [
      "five o' clock\n",
      "None\n",
      "quarter past five\n"
     ]
    }
   ],
   "source": []
  },
  {
   "cell_type": "code",
   "execution_count": null,
   "metadata": {
    "collapsed": true
   },
   "outputs": [],
   "source": []
  }
 ],
 "metadata": {
  "kernelspec": {
   "display_name": "Python 3",
   "language": "python",
   "name": "python3"
  },
  "language_info": {
   "codemirror_mode": {
    "name": "ipython",
    "version": 3
   },
   "file_extension": ".py",
   "mimetype": "text/x-python",
   "name": "python",
   "nbconvert_exporter": "python",
   "pygments_lexer": "ipython3",
   "version": "3.6.3"
  }
 },
 "nbformat": 4,
 "nbformat_minor": 2
}
