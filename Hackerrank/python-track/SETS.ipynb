{
 "cells": [
  {
   "cell_type": "markdown",
   "metadata": {},
   "source": [
    "# INTRO"
   ]
  },
  {
   "cell_type": "code",
   "execution_count": 1,
   "metadata": {},
   "outputs": [
    {
     "name": "stdout",
     "output_type": "stream",
     "text": [
      "169.375\n"
     ]
    }
   ],
   "source": [
    "distinct = set([int(i) for i in '161 182 161 154 176 170 167 171 170 174'.split()])\n",
    "\n",
    "print(sum(distinct)/len(distinct))"
   ]
  },
  {
   "cell_type": "code",
   "execution_count": 2,
   "metadata": {},
   "outputs": [
    {
     "data": {
      "text/plain": [
       "{154, 161, 167, 170, 171, 174, 176, 182}"
      ]
     },
     "execution_count": 2,
     "metadata": {},
     "output_type": "execute_result"
    }
   ],
   "source": [
    "distinct"
   ]
  },
  {
   "cell_type": "markdown",
   "metadata": {},
   "source": [
    "# Symmetric Difference\n",
    "## Set: add, update, discard\n",
    "## union, intersection, difference"
   ]
  },
  {
   "cell_type": "code",
   "execution_count": 3,
   "metadata": {
    "collapsed": true
   },
   "outputs": [],
   "source": [
    "_, a = '', set(map(int, '2 4 5 9'.split()))\n",
    "_, b = '', set(map(int, '2 4 11 12'.split()))"
   ]
  },
  {
   "cell_type": "code",
   "execution_count": 4,
   "metadata": {},
   "outputs": [
    {
     "name": "stdout",
     "output_type": "stream",
     "text": [
      "5\n",
      "9\n",
      "11\n",
      "12\n"
     ]
    }
   ],
   "source": [
    "# diff = a.difference(b)\n",
    "# diff.update(b.difference(a))\n",
    "diff = a.symmetric_difference(b)\n",
    "# diff = a^b\n",
    "print('\\n'.join(map(str, sorted(list(diff)))))"
   ]
  },
  {
   "cell_type": "code",
   "execution_count": 5,
   "metadata": {},
   "outputs": [
    {
     "data": {
      "text/plain": [
       "{5, 9, 11, 12}"
      ]
     },
     "execution_count": 5,
     "metadata": {},
     "output_type": "execute_result"
    }
   ],
   "source": [
    "a.symmetric_difference(b)"
   ]
  },
  {
   "cell_type": "code",
   "execution_count": 6,
   "metadata": {},
   "outputs": [
    {
     "data": {
      "text/plain": [
       "{5, 9, 11, 12}"
      ]
     },
     "execution_count": 6,
     "metadata": {},
     "output_type": "execute_result"
    }
   ],
   "source": [
    "a^b"
   ]
  },
  {
   "cell_type": "code",
   "execution_count": 7,
   "metadata": {
    "collapsed": true
   },
   "outputs": [],
   "source": [
    "# shortest ans (python2)\n",
    "# a,b = [set(raw_input().split()) for _ in range(4)][1::2]\n",
    "# print '\\n'.join(sorted(a^b, key=int))"
   ]
  },
  {
   "cell_type": "code",
   "execution_count": 8,
   "metadata": {
    "collapsed": true
   },
   "outputs": [],
   "source": [
    "n, m = 3, 2\n",
    "nums = list(map(int, '1 5 3'.split()))\n",
    "seta = set(map(int, '3 1'.split()))\n",
    "setb = set(map(int, '5 7'.split()))"
   ]
  },
  {
   "cell_type": "code",
   "execution_count": 9,
   "metadata": {},
   "outputs": [
    {
     "data": {
      "text/plain": [
       "1"
      ]
     },
     "execution_count": 9,
     "metadata": {},
     "output_type": "execute_result"
    }
   ],
   "source": [
    "happiness = 0\n",
    "for i in nums:\n",
    "    if i in seta:\n",
    "        happiness += 1\n",
    "    elif i in setb:\n",
    "        happiness -= 1\n",
    "happiness"
   ]
  },
  {
   "cell_type": "code",
   "execution_count": null,
   "metadata": {
    "collapsed": true
   },
   "outputs": [],
   "source": []
  },
  {
   "cell_type": "code",
   "execution_count": 10,
   "metadata": {
    "collapsed": true
   },
   "outputs": [],
   "source": [
    "# Set ADD"
   ]
  },
  {
   "cell_type": "code",
   "execution_count": 11,
   "metadata": {
    "collapsed": true
   },
   "outputs": [],
   "source": [
    "st = set([int(i) for i in '1 2 3 4 5 6 7 8 9'.split()])"
   ]
  },
  {
   "cell_type": "code",
   "execution_count": 12,
   "metadata": {
    "collapsed": true
   },
   "outputs": [],
   "source": [
    "st.pop()\n",
    "st.remove(9)\n",
    "st.discard(9)\n",
    "st.discard(8)\n",
    "st.remove(7)\n",
    "st.pop()\n",
    "st.discard(6)\n",
    "st.remove(5)\n",
    "st.pop()\n",
    "st.discard(5)"
   ]
  },
  {
   "cell_type": "code",
   "execution_count": 13,
   "metadata": {},
   "outputs": [
    {
     "data": {
      "text/plain": [
       "{4}"
      ]
     },
     "execution_count": 13,
     "metadata": {},
     "output_type": "execute_result"
    }
   ],
   "source": [
    "st"
   ]
  },
  {
   "cell_type": "code",
   "execution_count": 14,
   "metadata": {},
   "outputs": [
    {
     "name": "stdout",
     "output_type": "stream",
     "text": [
      "2\n"
     ]
    }
   ],
   "source": [
    "_, st = 9, set(map(int, '1 2 3 4 5 6 7 8 9'.split()))\n",
    "for i in range(int('1')):\n",
    "#     command = input().split()\n",
    "    if command[0] == 'pop':\n",
    "        st.pop()\n",
    "    elif command[0] == 'remove':\n",
    "        st.remove(int(command[1]))\n",
    "    elif command[0] == 'discard':\n",
    "        st.discard(int(command[1]))"
   ]
  },
  {
   "cell_type": "code",
   "execution_count": 15,
   "metadata": {},
   "outputs": [
    {
     "data": {
      "text/plain": [
       "{1, 2, 3, 4, 5, 6, 7, 8, 9}"
      ]
     },
     "execution_count": 15,
     "metadata": {},
     "output_type": "execute_result"
    }
   ],
   "source": [
    "st"
   ]
  },
  {
   "cell_type": "code",
   "execution_count": 16,
   "metadata": {},
   "outputs": [
    {
     "name": "stdout",
     "output_type": "stream",
     "text": [
      "13\n",
      "5\n"
     ]
    }
   ],
   "source": [
    "a = set(map(int, '1 2 3 4 5 6 7 8 9'.split()))\n",
    "b = set(map(int, '10 1 2 3 11 21 55 6 8'.split()))\n",
    "\n",
    "print(len(a.union(b)))\n",
    "print(len(a.intersection(b)))"
   ]
  },
  {
   "cell_type": "code",
   "execution_count": 17,
   "metadata": {
    "collapsed": true
   },
   "outputs": [],
   "source": [
    "# _, a = input(), set(map(int, input().split()))\n",
    "# _, b = input(), set(map(int, input().split()))\n",
    "\n",
    "# print(len(a.symmetric_difference(b)))"
   ]
  },
  {
   "cell_type": "code",
   "execution_count": null,
   "metadata": {
    "collapsed": true
   },
   "outputs": [],
   "source": []
  },
  {
   "cell_type": "markdown",
   "metadata": {},
   "source": [
    "## Check Strict Superset"
   ]
  },
  {
   "cell_type": "code",
   "execution_count": null,
   "metadata": {},
   "outputs": [],
   "source": [
    "_, a, n = input(), set(map(int, input().split())), int(input())\n",
    "\n",
    "for i in range(n):\n",
    "    command, _ = input().split()\n",
    "    if command == 'update':\n",
    "        a.update(set(map(int, input().split())))\n",
    "    if command == 'intersection_update':\n",
    "        a.intersection_update(set(map(int, input().split())))\n",
    "    if command == 'symmetric_difference_update':\n",
    "        a.symmetric_difference_update(set(map(int, input().split())))\n",
    "    if command == 'difference_update':\n",
    "        a.difference_update(set(map(int, input().split())))\n",
    "\n",
    "\n",
    "print(sum(a))"
   ]
  },
  {
   "cell_type": "code",
   "execution_count": null,
   "metadata": {
    "collapsed": true
   },
   "outputs": [],
   "source": []
  },
  {
   "cell_type": "code",
   "execution_count": 46,
   "metadata": {},
   "outputs": [
    {
     "name": "stdout",
     "output_type": "stream",
     "text": [
      "8\n"
     ]
    }
   ],
   "source": [
    "from collections import defaultdict as dd, Counter\n",
    "n, nums = 5, [int(i) for i in '1 2 3 6 5 4 4 2 5 3 6 1 6 5 3 2 4 1 2 5 1 4 3 6 8 4 3 1 5 6 2'.split()]\n",
    "seen = Counter(nums)\n",
    "\n",
    "print((sum([i*n for i in seen]) - sum(nums)) // (n - 1))"
   ]
  },
  {
   "cell_type": "code",
   "execution_count": 35,
   "metadata": {},
   "outputs": [
    {
     "data": {
      "text/plain": [
       "Counter({1: 5, 2: 5, 3: 5, 4: 5, 5: 5, 6: 5, 8: 1})"
      ]
     },
     "execution_count": 35,
     "metadata": {},
     "output_type": "execute_result"
    }
   ],
   "source": [
    "Counter(nums)"
   ]
  },
  {
   "cell_type": "code",
   "execution_count": 44,
   "metadata": {},
   "outputs": [
    {
     "data": {
      "text/plain": [
       "8.0"
      ]
     },
     "execution_count": 44,
     "metadata": {},
     "output_type": "execute_result"
    }
   ],
   "source": [
    "32/4"
   ]
  },
  {
   "cell_type": "code",
   "execution_count": null,
   "metadata": {
    "collapsed": true
   },
   "outputs": [],
   "source": []
  },
  {
   "cell_type": "code",
   "execution_count": 47,
   "metadata": {
    "collapsed": true
   },
   "outputs": [],
   "source": [
    "def is_subset(a, b):\n",
    "    a, b = set([int(i) for i in a.split()]), set([int(i) for i in b.split()])\n",
    "    return a.intersection(b) == a"
   ]
  },
  {
   "cell_type": "code",
   "execution_count": 48,
   "metadata": {},
   "outputs": [
    {
     "data": {
      "text/plain": [
       "True"
      ]
     },
     "execution_count": 48,
     "metadata": {},
     "output_type": "execute_result"
    }
   ],
   "source": [
    "is_subset('1 2 3 5 6', '9 8 5 6 3 2 1 4 7')"
   ]
  },
  {
   "cell_type": "code",
   "execution_count": 49,
   "metadata": {},
   "outputs": [
    {
     "data": {
      "text/plain": [
       "False"
      ]
     },
     "execution_count": 49,
     "metadata": {},
     "output_type": "execute_result"
    }
   ],
   "source": [
    "is_subset('1 2 3 5 6 8 9', '9 8 2')"
   ]
  },
  {
   "cell_type": "code",
   "execution_count": 54,
   "metadata": {},
   "outputs": [
    {
     "name": "stdout",
     "output_type": "stream",
     "text": [
      "True\n"
     ]
    }
   ],
   "source": [
    "A, n = set([int(i) for i in '1 2 3 4 5 6 7 8 9 10 11 12 23 45 84 78'.split()]), int('2')\n",
    "is_superset = True\n",
    "for _ in range(n):\n",
    "    B = set([int(i) for i in '1 2 3 4 5'.split()])\n",
    "    if not A.intersection(B) == B:\n",
    "        is_superset = False\n",
    "print(is_superset)\n",
    "    "
   ]
  },
  {
   "cell_type": "code",
   "execution_count": null,
   "metadata": {
    "collapsed": true
   },
   "outputs": [],
   "source": []
  },
  {
   "cell_type": "code",
   "execution_count": null,
   "metadata": {
    "collapsed": true
   },
   "outputs": [],
   "source": []
  }
 ],
 "metadata": {
  "kernelspec": {
   "display_name": "Python 3",
   "language": "python",
   "name": "python3"
  },
  "language_info": {
   "codemirror_mode": {
    "name": "ipython",
    "version": 3
   },
   "file_extension": ".py",
   "mimetype": "text/x-python",
   "name": "python",
   "nbconvert_exporter": "python",
   "pygments_lexer": "ipython3",
   "version": "3.6.3"
  }
 },
 "nbformat": 4,
 "nbformat_minor": 2
}
