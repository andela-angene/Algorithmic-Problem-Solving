{
 "cells": [
  {
   "cell_type": "markdown",
   "metadata": {},
   "source": [
    "Question: https://app.codility.com/programmers/lessons/2-arrays/odd_occurrences_in_array/\n",
    "\n",
    "100% solution: https://app.codility.com/demo/results/trainingVCQSBS-VDD/"
   ]
  },
  {
   "cell_type": "code",
   "execution_count": 123,
   "metadata": {},
   "outputs": [],
   "source": [
    "function solution(A){\n",
    "    const seen = {}\n",
    "    for (let item of A) {\n",
    "        item = item.toString()\n",
    "        seen[item] = seen[item] ? seen[item] + 1 : 1;\n",
    "    }\n",
    "    for (let item of Object.keys(seen)) {\n",
    "        if (seen[item] % 2 != 0) return Number(item)\n",
    "    }\n",
    "}\n"
   ]
  },
  {
   "cell_type": "code",
   "execution_count": 124,
   "metadata": {},
   "outputs": [],
   "source": [
    "console.assert(solution([9, 3, 9]) === 3)\n",
    "console.assert(solution([9, 3, 9, 3, 7, 9, 9]) === 7)\n",
    "console.assert(solution([2, 2, 2]) === 2)\n",
    "console.assert(solution([2, 2, 3]) === 3)\n",
    "console.assert(solution([2]) === 2)"
   ]
  },
  {
   "cell_type": "code",
   "execution_count": null,
   "metadata": {},
   "outputs": [],
   "source": []
  }
 ],
 "metadata": {
  "kernelspec": {
   "display_name": "Javascript (Node.js)",
   "language": "javascript",
   "name": "javascript"
  },
  "language_info": {
   "file_extension": ".js",
   "mimetype": "application/javascript",
   "name": "javascript",
   "version": "10.7.0"
  }
 },
 "nbformat": 4,
 "nbformat_minor": 2
}
