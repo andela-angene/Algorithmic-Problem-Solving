{
 "cells": [
  {
   "cell_type": "code",
   "execution_count": 21,
   "metadata": {},
   "outputs": [],
   "source": [
    "def solution(arr):\n",
    "    arr = sorted(arr)\n",
    "    i = len(arr) - 1\n",
    "    if i < 2:\n",
    "        return 0\n",
    "    while i > 1:\n",
    "        if arr[i - 2] < 0:\n",
    "            return [-1]\n",
    "        if (arr[i - 1] + arr[i - 2]) > arr[i]:\n",
    "            return [arr[i - 2], arr[i - 1], arr[i]]\n",
    "        i -= 1\n",
    "    return [-1]"
   ]
  },
  {
   "cell_type": "code",
   "execution_count": 23,
   "metadata": {},
   "outputs": [
    {
     "name": "stdout",
     "output_type": "stream",
     "text": [
      "1 3 3\n",
      "-1\n",
      "1 1 1\n"
     ]
    }
   ],
   "source": [
    "print(*solution([1, 1, 1, 3, 3]))\n",
    "print(*solution([1, 2, 3]))\n",
    "print(*solution([1, 1, 1, 2, 3, 5]))"
   ]
  },
  {
   "cell_type": "code",
   "execution_count": null,
   "metadata": {},
   "outputs": [],
   "source": []
  }
 ],
 "metadata": {
  "kernelspec": {
   "display_name": "Python 3",
   "language": "python",
   "name": "python3"
  },
  "language_info": {
   "codemirror_mode": {
    "name": "ipython",
    "version": 3
   },
   "file_extension": ".py",
   "mimetype": "text/x-python",
   "name": "python",
   "nbconvert_exporter": "python",
   "pygments_lexer": "ipython3",
   "version": "3.6.5"
  }
 },
 "nbformat": 4,
 "nbformat_minor": 2
}
