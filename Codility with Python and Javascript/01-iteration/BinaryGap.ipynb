{
 "cells": [
  {
   "cell_type": "markdown",
   "metadata": {},
   "source": [
    "Question: https://app.codility.com/programmers/lessons/1-iterations/binary_gap/\n",
    "\n",
    "100% solution: https://app.codility.com/demo/results/trainingYQN2K6-JE9/"
   ]
  },
  {
   "cell_type": "code",
   "execution_count": 2,
   "metadata": {},
   "outputs": [],
   "source": [
    "def solution(num):\n",
    "    num, gate = str(bin(num)[2:]), False\n",
    "    bin_gap = zeros = 0\n",
    "\n",
    "    for i in range(len(num) - 1):\n",
    "        value, next_value = num[i], num[i + 1]\n",
    "        if value == '1' and next_value == '0':\n",
    "            gate = True\n",
    "        if value == '0' and gate:\n",
    "            zeros += 1\n",
    "        if value == '0' and next_value == '1':\n",
    "            bin_gap = max(zeros, bin_gap)\n",
    "            gate, zeros = False, 0\n",
    "\n",
    "    return bin_gap\n"
   ]
  },
  {
   "cell_type": "code",
   "execution_count": 3,
   "metadata": {},
   "outputs": [
    {
     "data": {
      "text/plain": [
       "5"
      ]
     },
     "execution_count": 3,
     "metadata": {},
     "output_type": "execute_result"
    }
   ],
   "source": [
    "solution(1041)"
   ]
  },
  {
   "cell_type": "code",
   "execution_count": null,
   "metadata": {},
   "outputs": [],
   "source": []
  }
 ],
 "metadata": {
  "kernelspec": {
   "display_name": "Python 3",
   "language": "python",
   "name": "python3"
  },
  "language_info": {
   "codemirror_mode": {
    "name": "ipython",
    "version": 3
   },
   "file_extension": ".py",
   "mimetype": "text/x-python",
   "name": "python",
   "nbconvert_exporter": "python",
   "pygments_lexer": "ipython3",
   "version": "3.6.5"
  }
 },
 "nbformat": 4,
 "nbformat_minor": 2
}
