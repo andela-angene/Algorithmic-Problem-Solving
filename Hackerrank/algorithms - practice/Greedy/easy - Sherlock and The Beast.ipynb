{
 "cells": [
  {
   "cell_type": "code",
   "execution_count": 7,
   "metadata": {},
   "outputs": [],
   "source": [
    "def solution(n):\n",
    "    threes = 0\n",
    "    while n > 0:\n",
    "        if n % 3 != 0:\n",
    "            n -= 5\n",
    "            threes += 5\n",
    "        else:\n",
    "            break\n",
    "    if n < 0:\n",
    "        return -1\n",
    "    return ''.join(map(str, [5]*n + [3]*threes))"
   ]
  },
  {
   "cell_type": "code",
   "execution_count": 9,
   "metadata": {},
   "outputs": [
    {
     "name": "stdout",
     "output_type": "stream",
     "text": [
      "-1\n",
      "555\n",
      "33333\n",
      "55555533333\n"
     ]
    }
   ],
   "source": [
    "print(solution(1))\n",
    "print(solution(3))\n",
    "print(solution(5))\n",
    "print(solution(11))"
   ]
  },
  {
   "cell_type": "code",
   "execution_count": null,
   "metadata": {},
   "outputs": [],
   "source": []
  }
 ],
 "metadata": {
  "kernelspec": {
   "display_name": "Python 3",
   "language": "python",
   "name": "python3"
  },
  "language_info": {
   "codemirror_mode": {
    "name": "ipython",
    "version": 3
   },
   "file_extension": ".py",
   "mimetype": "text/x-python",
   "name": "python",
   "nbconvert_exporter": "python",
   "pygments_lexer": "ipython3",
   "version": "3.6.5"
  }
 },
 "nbformat": 4,
 "nbformat_minor": 2
}
