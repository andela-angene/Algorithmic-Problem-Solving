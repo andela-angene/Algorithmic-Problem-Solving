{
 "cells": [
  {
   "cell_type": "code",
   "execution_count": 2,
   "metadata": {},
   "outputs": [
    {
     "data": {
      "text/plain": [
       "''"
      ]
     },
     "execution_count": 2,
     "metadata": {},
     "output_type": "execute_result"
    }
   ],
   "source": [
    "\"\"\"\n",
    "3 3\n",
    "1 3 4\n",
    "2 2 3\n",
    "1 2 4\n",
    "\"\"\"\n",
    "\"\""
   ]
  },
  {
   "cell_type": "code",
   "execution_count": 7,
   "metadata": {},
   "outputs": [],
   "source": [
    "grid = {\n",
    "    0: [1, 3, 4],\n",
    "    1: [2, 2, 3],\n",
    "    2: [1, 2, 4]\n",
    "}"
   ]
  },
  {
   "cell_type": "code",
   "execution_count": 12,
   "metadata": {},
   "outputs": [
    {
     "name": "stdout",
     "output_type": "stream",
     "text": [
      "11\n",
      "1 2\n",
      "2 1\n",
      "3 2\n",
      "3 2\n",
      "4 3\n",
      "4 4\n",
      "10\n",
      "60\n"
     ]
    }
   ],
   "source": [
    "r = c = 3\n",
    "rsm = csm = 0\n",
    "for i in range(r):\n",
    "    sm = grid[i][0]\n",
    "    for j in range(1, c):\n",
    "        val, prev = grid[i][j], grid[i][j - 1]\n",
    "        if val - prev > 0:\n",
    "            sm += (val - prev)\n",
    "    rsm += sm \n",
    "print(rsm)\n",
    "for i in range(c):\n",
    "    sm = grid[0][i]\n",
    "    for j in range(1, r):\n",
    "        val, prev = grid[j][i], grid[j - 1][i]\n",
    "        print(sm, val)\n",
    "        if val - prev > 0:\n",
    "            sm += (val - prev)\n",
    "    csm += sm\n",
    "print(csm)\n",
    "print(r*c*2 + csm*2 + rsm*2)"
   ]
  },
  {
   "cell_type": "code",
   "execution_count": 13,
   "metadata": {},
   "outputs": [
    {
     "name": "stdout",
     "output_type": "stream",
     "text": [
      "3 3\n",
      "1 3 4\n",
      "2 2 3\n",
      "1 2 4\n",
      "11\n",
      "1 2\n",
      "2 1\n",
      "3 2\n",
      "3 2\n",
      "4 3\n",
      "4 4\n",
      "10\n",
      "60\n"
     ]
    }
   ],
   "source": [
    "\"\"\"\n",
    "3 3\n",
    "1 3 4\n",
    "2 2 3\n",
    "1 2 4\n",
    "\"\"\"\n",
    "grid = {}\n",
    "r, c = [int(i) for i in input().split()]\n",
    "rsm = csm = 0\n",
    "for i in range(r):\n",
    "    cubes = [int(i) for i in input().split()]\n",
    "    grid[i] = cubes\n",
    "    sm = cubes[0]\n",
    "    for j in range(1, c):\n",
    "        val, prev = cubes[j], cubes[j - 1]\n",
    "        if val - prev > 0:\n",
    "            sm += (val - prev)\n",
    "    rsm += sm \n",
    "for i in range(c):\n",
    "    sm = grid[0][i]\n",
    "    for j in range(1, r):\n",
    "        val, prev = grid[j][i], grid[j - 1][i]\n",
    "        if val - prev > 0:\n",
    "            sm += (val - prev)\n",
    "    csm += sm\n",
    "print(r*c*2 + csm*2 + rsm*2)"
   ]
  },
  {
   "cell_type": "code",
   "execution_count": null,
   "metadata": {},
   "outputs": [],
   "source": []
  }
 ],
 "metadata": {
  "kernelspec": {
   "display_name": "Python 3",
   "language": "python",
   "name": "python3"
  },
  "language_info": {
   "codemirror_mode": {
    "name": "ipython",
    "version": 3
   },
   "file_extension": ".py",
   "mimetype": "text/x-python",
   "name": "python",
   "nbconvert_exporter": "python",
   "pygments_lexer": "ipython3",
   "version": "3.6.5"
  }
 },
 "nbformat": 4,
 "nbformat_minor": 2
}
