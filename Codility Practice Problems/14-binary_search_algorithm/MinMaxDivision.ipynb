{
 "cells": [
  {
   "cell_type": "code",
   "execution_count": 46,
   "metadata": {},
   "outputs": [],
   "source": [
    "def get_split(max_, arr, k):\n",
    "    count = 0\n",
    "    splits = 0\n",
    "    for i in arr:\n",
    "        if count + i > max_:\n",
    "            splits += 1\n",
    "            count = 0\n",
    "        if splits > k:\n",
    "            return splits\n",
    "        count += i\n",
    "    return splits + 1\n",
    "\n",
    "def solution(k, m, arr):\n",
    "    high = max_ = m * len(arr)\n",
    "    low = max(arr)\n",
    "    while low <= high:\n",
    "        mid = (high + low) // 2\n",
    "        splits = get_split(mid, arr, k)\n",
    "        if splits <= k:\n",
    "            max_, high = mid, mid - 1\n",
    "        else:\n",
    "            low = mid + 1\n",
    "    return max_\n",
    "    \n",
    "# (100%) https://app.codility.com/demo/results/trainingGUZV2V-RC3/"
   ]
  },
  {
   "cell_type": "code",
   "execution_count": 48,
   "metadata": {},
   "outputs": [
    {
     "data": {
      "text/plain": [
       "6"
      ]
     },
     "execution_count": 48,
     "metadata": {},
     "output_type": "execute_result"
    }
   ],
   "source": [
    "solution(3, 5, [2, 1, 5, 1, 2, 2, 2])"
   ]
  },
  {
   "cell_type": "code",
   "execution_count": null,
   "metadata": {},
   "outputs": [],
   "source": []
  }
 ],
 "metadata": {
  "kernelspec": {
   "display_name": "Python 3",
   "language": "python",
   "name": "python3"
  },
  "language_info": {
   "codemirror_mode": {
    "name": "ipython",
    "version": 3
   },
   "file_extension": ".py",
   "mimetype": "text/x-python",
   "name": "python",
   "nbconvert_exporter": "python",
   "pygments_lexer": "ipython3",
   "version": "3.6.5"
  }
 },
 "nbformat": 4,
 "nbformat_minor": 2
}
