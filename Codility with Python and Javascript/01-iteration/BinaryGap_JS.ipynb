{
 "cells": [
  {
   "cell_type": "markdown",
   "metadata": {},
   "source": [
    "Question: https://app.codility.com/programmers/lessons/1-iterations/binary_gap/\n",
    "\n",
    "100% solution: https://app.codility.com/demo/results/trainingU7WZ98-FUX/"
   ]
  },
  {
   "cell_type": "code",
   "execution_count": 53,
   "metadata": {},
   "outputs": [],
   "source": [
    "function solution(n) {\n",
    "    let num = (n).toString(2), \n",
    "        gate = false,\n",
    "        bin_gap = zeros = 0\n",
    "\n",
    "    for (let i=0; i < num.length-1; i+=1){\n",
    "        let value = num[i], \n",
    "            next_value = num[i + 1]\n",
    "        if (value === '1' && next_value === '0') gate = true\n",
    "        if (value === '0' && gate) zeros += 1\n",
    "        if (value == '0' && next_value == '1'){\n",
    "            bin_gap = Math.max(zeros, bin_gap)\n",
    "            gate = false\n",
    "            zeros = 0\n",
    "        }  \n",
    "    }\n",
    "    return bin_gap\n",
    "}"
   ]
  },
  {
   "cell_type": "code",
   "execution_count": 54,
   "metadata": {},
   "outputs": [
    {
     "data": {
      "text/plain": [
       "5"
      ]
     },
     "execution_count": 54,
     "metadata": {},
     "output_type": "execute_result"
    }
   ],
   "source": [
    "solution(1041)"
   ]
  },
  {
   "cell_type": "code",
   "execution_count": null,
   "metadata": {},
   "outputs": [],
   "source": []
  }
 ],
 "metadata": {
  "kernelspec": {
   "display_name": "Javascript (Node.js)",
   "language": "javascript",
   "name": "javascript"
  },
  "language_info": {
   "file_extension": ".js",
   "mimetype": "application/javascript",
   "name": "javascript",
   "version": "10.7.0"
  }
 },
 "nbformat": 4,
 "nbformat_minor": 2
}
