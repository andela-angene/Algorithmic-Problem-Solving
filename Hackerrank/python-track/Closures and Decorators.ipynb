{
 "cells": [
  {
   "cell_type": "markdown",
   "metadata": {},
   "source": [
    "## Standardize Mobile Number Using Decorators"
   ]
  },
  {
   "cell_type": "code",
   "execution_count": 1,
   "metadata": {
    "collapsed": true
   },
   "outputs": [],
   "source": [
    "import re"
   ]
  },
  {
   "cell_type": "code",
   "execution_count": 2,
   "metadata": {
    "collapsed": true
   },
   "outputs": [],
   "source": [
    "pattern = re.compile(r'^(0|91|\\+91)?(\\d{10})$')"
   ]
  },
  {
   "cell_type": "code",
   "execution_count": 16,
   "metadata": {},
   "outputs": [
    {
     "name": "stdout",
     "output_type": "stream",
     "text": [
      "['7895462130', '9875641230', '9195969878']\n"
     ]
    },
    {
     "data": {
      "text/plain": [
       "['7895462130', '9195969878', '9875641230']"
      ]
     },
     "execution_count": 16,
     "metadata": {},
     "output_type": "execute_result"
    }
   ],
   "source": [
    "vals = \"07895462130 919875641230 9195969878\".split()\n",
    "rs = [pattern.search(x).group(2) for x in vals]\n",
    "print(rs)\n",
    "rs = sorted(rs, key=int)\n",
    "rs"
   ]
  },
  {
   "cell_type": "code",
   "execution_count": 10,
   "metadata": {},
   "outputs": [
    {
     "name": "stdout",
     "output_type": "stream",
     "text": [
      "+91 98756 41230\n"
     ]
    }
   ],
   "source": [
    "print('+91', rs[:5], rs[5:])"
   ]
  },
  {
   "cell_type": "code",
   "execution_count": 12,
   "metadata": {},
   "outputs": [
    {
     "data": {
      "text/plain": [
       "['07895462130', '919875641230', '9195969878']"
      ]
     },
     "execution_count": 12,
     "metadata": {},
     "output_type": "execute_result"
    }
   ],
   "source": [
    "vals"
   ]
  },
  {
   "cell_type": "code",
   "execution_count": 36,
   "metadata": {},
   "outputs": [],
   "source": [
    "import re\n",
    "def wrapper(f):\n",
    "    pattern = re.compile(r'^(0|91|\\+91)?(\\d{10})$')\n",
    "    def fun(l):\n",
    "        vals = [pattern.search(x).group(2) for x in l]\n",
    "        f(['+91 {} {}'.format(rs[:5], rs[5:]) for rs in vals])\n",
    "    return fun"
   ]
  },
  {
   "cell_type": "code",
   "execution_count": 37,
   "metadata": {},
   "outputs": [
    {
     "name": "stdout",
     "output_type": "stream",
     "text": [
      "+91 78954 62130\n",
      "+91 91959 69878\n",
      "+91 98756 41230\n"
     ]
    }
   ],
   "source": [
    "@wrapper\n",
    "def sort_phone(l):\n",
    "    print(*sorted(l), sep='\\n')\n",
    "\n",
    "l = \"07895462130 919875641230 9195969878\".split()\n",
    "sort_phone(l)"
   ]
  },
  {
   "cell_type": "code",
   "execution_count": 38,
   "metadata": {
    "collapsed": true
   },
   "outputs": [],
   "source": [
    "# Alt solution\n",
    "import re\n",
    "def wrapper(f):\n",
    "    def fun(l):\n",
    "    \t# regex to match tel. number and parse it into groups \n",
    "        pat = re.compile(r'(0|91|\\+91)?(\\d{5})(\\d{5})')\n",
    "        # give it standard prefix and copy the groups\n",
    "        l = [re.sub(pat, r\"+91 \\2 \\3\", x) for x in l]\n",
    "        f(l)        \n",
    "    return fun"
   ]
  },
  {
   "cell_type": "code",
   "execution_count": null,
   "metadata": {
    "collapsed": true
   },
   "outputs": [],
   "source": []
  }
 ],
 "metadata": {
  "kernelspec": {
   "display_name": "Python 3",
   "language": "python",
   "name": "python3"
  },
  "language_info": {
   "codemirror_mode": {
    "name": "ipython",
    "version": 3
   },
   "file_extension": ".py",
   "mimetype": "text/x-python",
   "name": "python",
   "nbconvert_exporter": "python",
   "pygments_lexer": "ipython3",
   "version": "3.6.3"
  }
 },
 "nbformat": 4,
 "nbformat_minor": 2
}
