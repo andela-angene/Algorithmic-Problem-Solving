{
 "cells": [
  {
   "cell_type": "code",
   "execution_count": 9,
   "metadata": {},
   "outputs": [],
   "source": [
    "def closest_numbers(nums):\n",
    "    min_diff, result = float('inf'), []\n",
    "    for i in range(1, len(nums)):\n",
    "        min_diff = min(min_diff, abs(nums[i] - nums[i-1]))\n",
    "    for i in range(1, len(nums)):\n",
    "        if abs(nums[i] - nums[i-1]) == min_diff:\n",
    "            result += [nums[i-1], nums[i]]\n",
    "    print(*result)"
   ]
  },
  {
   "cell_type": "code",
   "execution_count": 10,
   "metadata": {},
   "outputs": [
    {
     "name": "stdout",
     "output_type": "stream",
     "text": [
      "-20 30\n"
     ]
    }
   ],
   "source": [
    "closest_numbers(sorted(map(int, '-20 -3916237 -357920 -3620601 7374819 -7330761 30 6246457 -6461594 266854 '.split())))"
   ]
  },
  {
   "cell_type": "code",
   "execution_count": 11,
   "metadata": {},
   "outputs": [
    {
     "name": "stdout",
     "output_type": "stream",
     "text": [
      "-520 -470 -20 30\n"
     ]
    }
   ],
   "source": [
    "closest_numbers(sorted(map(int, '-20 -3916237 -357920 -3620601 7374819 -7330761 30 6246457 -6461594 266854 -520 -470'.split())))"
   ]
  },
  {
   "cell_type": "code",
   "execution_count": null,
   "metadata": {},
   "outputs": [],
   "source": []
  }
 ],
 "metadata": {
  "kernelspec": {
   "display_name": "Python 3",
   "language": "python",
   "name": "python3"
  },
  "language_info": {
   "codemirror_mode": {
    "name": "ipython",
    "version": 3
   },
   "file_extension": ".py",
   "mimetype": "text/x-python",
   "name": "python",
   "nbconvert_exporter": "python",
   "pygments_lexer": "ipython3",
   "version": "3.6.5"
  }
 },
 "nbformat": 4,
 "nbformat_minor": 2
}
