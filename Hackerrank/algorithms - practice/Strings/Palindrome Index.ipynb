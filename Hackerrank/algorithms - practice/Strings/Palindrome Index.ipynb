{
 "cells": [
  {
   "cell_type": "code",
   "execution_count": 33,
   "metadata": {},
   "outputs": [],
   "source": [
    "def check(word):\n",
    "    ln = len(word)\n",
    "    for i in range(ln//2):\n",
    "        if abs(ord(word[i]) - ord(word[ln-i-1])) != 0:\n",
    "            return (i, ln-i-1)\n",
    "    return False\n",
    "def palindrome_index(word):\n",
    "    issue = check(word)\n",
    "    if issue is False:\n",
    "        return -1\n",
    "    for i in issue:\n",
    "        if check(word[:i] + word[i+1:]) is False:\n",
    "            return i\n",
    "    return -1"
   ]
  },
  {
   "cell_type": "code",
   "execution_count": 34,
   "metadata": {},
   "outputs": [
    {
     "name": "stdout",
     "output_type": "stream",
     "text": [
      "1\n",
      "3\n",
      "0\n",
      "-1\n",
      "-1\n"
     ]
    }
   ],
   "source": [
    "print(palindrome_index('aaba'))\n",
    "print(palindrome_index('aaab'))\n",
    "print(palindrome_index('baa'))\n",
    "print(palindrome_index('aaa'))\n",
    "print(palindrome_index('abcd'))"
   ]
  },
  {
   "cell_type": "code",
   "execution_count": 19,
   "metadata": {},
   "outputs": [
    {
     "data": {
      "text/plain": [
       "(1, 2)"
      ]
     },
     "execution_count": 19,
     "metadata": {},
     "output_type": "execute_result"
    }
   ],
   "source": [
    "check('aaba')"
   ]
  },
  {
   "cell_type": "code",
   "execution_count": 28,
   "metadata": {},
   "outputs": [
    {
     "data": {
      "text/plain": [
       "'sfsdf'"
      ]
     },
     "execution_count": 28,
     "metadata": {},
     "output_type": "execute_result"
    }
   ],
   "source": [
    "aa = 'sdfsdf'\n",
    "aa[:1] + aa[1+1:]"
   ]
  },
  {
   "cell_type": "code",
   "execution_count": null,
   "metadata": {},
   "outputs": [],
   "source": []
  }
 ],
 "metadata": {
  "kernelspec": {
   "display_name": "Python 3",
   "language": "python",
   "name": "python3"
  },
  "language_info": {
   "codemirror_mode": {
    "name": "ipython",
    "version": 3
   },
   "file_extension": ".py",
   "mimetype": "text/x-python",
   "name": "python",
   "nbconvert_exporter": "python",
   "pygments_lexer": "ipython3",
   "version": "3.6.5"
  }
 },
 "nbformat": 4,
 "nbformat_minor": 2
}
