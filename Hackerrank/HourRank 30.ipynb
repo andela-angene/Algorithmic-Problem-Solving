{
 "cells": [
  {
   "cell_type": "code",
   "execution_count": 99,
   "metadata": {},
   "outputs": [],
   "source": [
    "def conference_names(names):\n",
    "    seen_names = {}\n",
    "    rs = []\n",
    "    rs_seen = set()\n",
    "    \n",
    "    for name in names:\n",
    "        s = ''\n",
    "        not_set = True\n",
    "        for char in name:\n",
    "            s += char\n",
    "            if s not in rs_seen and s not in seen_names and not_set:\n",
    "                rs.append(s)\n",
    "                not_set = False\n",
    "            rs_seen.add(s)\n",
    "        if not_set:\n",
    "            if name in seen_names:\n",
    "                seen_names[name] += 1\n",
    "                rs.append('{} {}'.format(name, seen_names[name]))\n",
    "            else:\n",
    "                rs.append(name)\n",
    "                seen_names[name] = 1\n",
    "        else:\n",
    "            seen_names[name] = 1\n",
    "\n",
    "    [print(name) for name in rs]\n"
   ]
  },
  {
   "cell_type": "code",
   "execution_count": 102,
   "metadata": {},
   "outputs": [
    {
     "name": "stdout",
     "output_type": "stream",
     "text": [
      "a\n",
      "ali\n",
      "alvin 2\n"
     ]
    }
   ],
   "source": [
    "conference_names(\"\"\"alvin\n",
    "alice\n",
    "alvin\"\"\".split())"
   ]
  },
  {
   "cell_type": "code",
   "execution_count": 103,
   "metadata": {},
   "outputs": [
    {
     "name": "stdout",
     "output_type": "stream",
     "text": [
      "m\n",
      "s\n",
      "sa\n",
      "samu\n",
      "sam 2\n",
      "mi\n"
     ]
    }
   ],
   "source": [
    "conference_names(\"\"\"mary\n",
    "stacy\n",
    "sam\n",
    "samuel\n",
    "sam\n",
    "miguel\"\"\".split())"
   ]
  },
  {
   "cell_type": "code",
   "execution_count": 104,
   "metadata": {},
   "outputs": [
    {
     "name": "stdout",
     "output_type": "stream",
     "text": [
      "a\n",
      "aa\n",
      "aa 2\n"
     ]
    }
   ],
   "source": [
    "conference_names(['a', 'aa', 'aa'])"
   ]
  },
  {
   "cell_type": "code",
   "execution_count": null,
   "metadata": {},
   "outputs": [],
   "source": []
  },
  {
   "cell_type": "code",
   "execution_count": null,
   "metadata": {},
   "outputs": [],
   "source": []
  },
  {
   "cell_type": "code",
   "execution_count": null,
   "metadata": {},
   "outputs": [],
   "source": []
  },
  {
   "cell_type": "code",
   "execution_count": 50,
   "metadata": {},
   "outputs": [
    {
     "name": "stdout",
     "output_type": "stream",
     "text": [
      "m\n",
      "s\n",
      "sa\n",
      "samu\n",
      "sam 3\n",
      "mi\n"
     ]
    }
   ],
   "source": []
  },
  {
   "cell_type": "code",
   "execution_count": null,
   "metadata": {},
   "outputs": [],
   "source": []
  }
 ],
 "metadata": {
  "kernelspec": {
   "display_name": "Python 3",
   "language": "python",
   "name": "python3"
  },
  "language_info": {
   "codemirror_mode": {
    "name": "ipython",
    "version": 3
   },
   "file_extension": ".py",
   "mimetype": "text/x-python",
   "name": "python",
   "nbconvert_exporter": "python",
   "pygments_lexer": "ipython3",
   "version": "3.6.5"
  }
 },
 "nbformat": 4,
 "nbformat_minor": 2
}
