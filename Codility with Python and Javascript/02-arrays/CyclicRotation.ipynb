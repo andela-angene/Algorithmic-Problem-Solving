{
 "cells": [
  {
   "cell_type": "markdown",
   "metadata": {},
   "source": [
    "Question: https://app.codility.com/programmers/lessons/2-arrays/cyclic_rotation/\n",
    "\n",
    "100% solution: https://app.codility.com/demo/results/trainingKUCFVP-ZQA/"
   ]
  },
  {
   "cell_type": "code",
   "execution_count": 1,
   "metadata": {},
   "outputs": [],
   "source": [
    "def solution(A, K):\n",
    "    length = len(A)\n",
    "    if length < 1:\n",
    "        return []\n",
    "    rotate = K % length\n",
    "    result = [0] * length\n",
    "\n",
    "    for i in range(0, length):\n",
    "        result[(i + rotate) % length] = A[i]\n",
    "\n",
    "    return result\n"
   ]
  },
  {
   "cell_type": "code",
   "execution_count": 7,
   "metadata": {},
   "outputs": [
    {
     "name": "stdout",
     "output_type": "stream",
     "text": [
      "[9, 7, 6, 3, 8]\n",
      "[6, 3, 8, 9, 7]\n",
      "[3, 8, 9, 7, 6]\n",
      "[3]\n",
      "[]\n"
     ]
    }
   ],
   "source": [
    "print(solution([3, 8, 9, 7, 6], 3))  # 9, 7, 6, 3, 8\n",
    "print(solution([3, 8, 9, 7, 6], 1))  # 6, 3, 8, 9, 7\n",
    "print(solution([3, 8, 9, 7, 6], 10))  # 3, 8, 9, 7, 6\n",
    "print(solution([3], 5))  # [3]\n",
    "print(solution([], 5))  # []"
   ]
  },
  {
   "cell_type": "code",
   "execution_count": null,
   "metadata": {},
   "outputs": [],
   "source": []
  }
 ],
 "metadata": {
  "kernelspec": {
   "display_name": "Python 3",
   "language": "python",
   "name": "python3"
  },
  "language_info": {
   "codemirror_mode": {
    "name": "ipython",
    "version": 3
   },
   "file_extension": ".py",
   "mimetype": "text/x-python",
   "name": "python",
   "nbconvert_exporter": "python",
   "pygments_lexer": "ipython3",
   "version": "3.6.5"
  }
 },
 "nbformat": 4,
 "nbformat_minor": 2
}
