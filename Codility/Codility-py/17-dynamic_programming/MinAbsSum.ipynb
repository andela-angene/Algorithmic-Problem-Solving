{
 "cells": [
  {
   "cell_type": "code",
   "execution_count": 165,
   "metadata": {},
   "outputs": [],
   "source": [
    "import bisect\n",
    "def greedy_method(arr):\n",
    "    l_sum = r_sum = 0\n",
    "    sum_arr_l, sum_arr_r = [], []\n",
    "    for i in range(len(arr)-1, -1, -1):\n",
    "        item = arr[i]\n",
    "        if l_sum > r_sum:\n",
    "            sum_arr_r.append(item)\n",
    "            r_sum += item\n",
    "        else:\n",
    "            sum_arr_l.append(item)\n",
    "            l_sum += item\n",
    "    min_ = abs(l_sum - r_sum)\n",
    "    return min_, list(reversed(sum_arr_l)), list(reversed(sum_arr_r))\n",
    "\n",
    "def halve_method(arr):\n",
    "    halve, sum_  = sum(arr)/2, 0\n",
    "    halve_arr_l, halve_arr_r = [], []\n",
    "    for i in range(len(arr)):\n",
    "        if sum_ + arr[i] < halve:\n",
    "            halve_arr_l.append(arr[i])\n",
    "            sum_ += arr[i]\n",
    "        else:\n",
    "            first_diff = abs(sum_ - sum(arr[i:]))\n",
    "            second_diff = abs(sum_ + arr[i] - sum( arr[i+1:]))\n",
    "            if first_diff < second_diff:\n",
    "                return first_diff, halve_arr_l, arr[i:]\n",
    "            else:\n",
    "                halve_arr_l.append(arr[i])\n",
    "                return second_diff, halve_arr_l, arr[i+1:]\n",
    "    return 0, [], []\n",
    "\n",
    "def find(num, arr):\n",
    "    n = bisect.bisect_right(arr, num)\n",
    "    if n == 0:\n",
    "        return arr[0], 0\n",
    "    elif n >= len(arr):\n",
    "        return arr[-1], len(arr)-1\n",
    "    elif (arr[n]-num) != 0:\n",
    "        return arr[n-1], n-1\n",
    "    return arr[n],n\n",
    "\n",
    "def solution(arr):\n",
    "    arr = sorted(map(abs, arr))\n",
    "    grd = greedy_method(arr)\n",
    "    hlv = halve_method(arr)\n",
    "    min_ = min(grd[0], hlv[0])\n",
    "\n",
    "    if min_ == 0:\n",
    "        return 0\n",
    "    elif min_ == grd[0]:\n",
    "        arr_l, arr_r = grd[1], grd[2]\n",
    "    else:\n",
    "        arr_l, arr_r = hlv[1], hlv[2]\n",
    "    if not (arr_l and arr_r):\n",
    "        return min_\n",
    "    i = 0\n",
    "    sl, sr = sum(arr_l), sum(arr_r)\n",
    "    while i < len(arr_l):\n",
    "        num = arr_l[i]\n",
    "        next_ = (sr - sl + 2*num)/2\n",
    "        next_ = find(next_, arr_r)\n",
    "        nsl = sl - num + next_[0]\n",
    "        nsr = sr - next_[0] + num\n",
    "        if abs(nsl-nsr) < abs(sl-sr):\n",
    "            arr_l[i] = next_[0]\n",
    "            arr_r[next_[1]] = num\n",
    "            sr,sl = nsr,nsl\n",
    "            i = -1\n",
    "        i += 1\n",
    "    return abs(sl-sr)\n",
    "\n",
    "# (60%) https://app.codility.com/demo/results/trainingWYC5ZS-MXN/ greedy alone\n",
    "# (45%) https://app.codility.com/demo/results/trainingDCJKUD-XGC/ halve alone\n",
    "# (90%) https://app.codility.com/demo/results/trainingSBMM3F-PMG/ greedy + halve\n",
    "# (100%) https://app.codility.com/demo/results/trainingKR3CA5-XRQ/ greedy + halve + nlog(n) swapping"
   ]
  },
  {
   "cell_type": "code",
   "execution_count": 166,
   "metadata": {},
   "outputs": [
    {
     "data": {
      "text/plain": [
       "0"
      ]
     },
     "execution_count": 166,
     "metadata": {},
     "output_type": "execute_result"
    }
   ],
   "source": [
    "solution([3,3,3,4,5]) # 1"
   ]
  },
  {
   "cell_type": "code",
   "execution_count": 167,
   "metadata": {},
   "outputs": [
    {
     "data": {
      "text/plain": [
       "1"
      ]
     },
     "execution_count": 167,
     "metadata": {},
     "output_type": "execute_result"
    }
   ],
   "source": [
    "solution([1,1,1,-1,5]) # 1"
   ]
  },
  {
   "cell_type": "code",
   "execution_count": 168,
   "metadata": {},
   "outputs": [
    {
     "data": {
      "text/plain": [
       "0"
      ]
     },
     "execution_count": 168,
     "metadata": {},
     "output_type": "execute_result"
    }
   ],
   "source": [
    "solution([])"
   ]
  },
  {
   "cell_type": "code",
   "execution_count": 169,
   "metadata": {},
   "outputs": [
    {
     "data": {
      "text/plain": [
       "0"
      ]
     },
     "execution_count": 169,
     "metadata": {},
     "output_type": "execute_result"
    }
   ],
   "source": [
    "solution([3, 3, 3, 4, 5]) # 0"
   ]
  },
  {
   "cell_type": "code",
   "execution_count": 170,
   "metadata": {},
   "outputs": [
    {
     "data": {
      "text/plain": [
       "0"
      ]
     },
     "execution_count": 170,
     "metadata": {},
     "output_type": "execute_result"
    }
   ],
   "source": [
    "solution([1,5,2,-2]) # 0"
   ]
  },
  {
   "cell_type": "code",
   "execution_count": 173,
   "metadata": {},
   "outputs": [
    {
     "data": {
      "text/plain": [
       "2"
      ]
     },
     "execution_count": 173,
     "metadata": {},
     "output_type": "execute_result"
    }
   ],
   "source": [
    "solution([2])"
   ]
  },
  {
   "cell_type": "code",
   "execution_count": null,
   "metadata": {},
   "outputs": [],
   "source": []
  }
 ],
 "metadata": {
  "kernelspec": {
   "display_name": "Python 3",
   "language": "python",
   "name": "python3"
  },
  "language_info": {
   "codemirror_mode": {
    "name": "ipython",
    "version": 3
   },
   "file_extension": ".py",
   "mimetype": "text/x-python",
   "name": "python",
   "nbconvert_exporter": "python",
   "pygments_lexer": "ipython3",
   "version": "3.6.5"
  }
 },
 "nbformat": 4,
 "nbformat_minor": 2
}
