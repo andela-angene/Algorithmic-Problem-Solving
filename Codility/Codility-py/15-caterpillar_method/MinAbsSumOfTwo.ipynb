{
 "cells": [
  {
   "cell_type": "code",
   "execution_count": 10,
   "metadata": {},
   "outputs": [],
   "source": [
    "from bisect import bisect_right"
   ]
  },
  {
   "cell_type": "code",
   "execution_count": 69,
   "metadata": {},
   "outputs": [],
   "source": [
    "from bisect import bisect_right\n",
    "def solution(arr):\n",
    "    arr, ln = sorted(arr), len(arr)\n",
    "    posv, negv, min_ = [], [], float('inf')\n",
    "    for i in range(len(arr)):\n",
    "        num = arr[i]\n",
    "        if num < 0:\n",
    "            negv.append(-num)\n",
    "        else:\n",
    "            posv.append(num)\n",
    "        if i < ln - 1:\n",
    "            min_ = min(min_, abs(num + arr[i + 1]))\n",
    "        min_ = min(min_, abs(num + num))\n",
    "    if posv:\n",
    "        for el in negv:\n",
    "            loc = bisect_right(posv, el)\n",
    "            if loc > 0:\n",
    "                min_ = min(min_, (el - posv[loc - 1]))\n",
    "            if loc < len(posv):\n",
    "                min_ = min(min_, (posv[loc] - el))\n",
    "    return min_\n",
    "\n",
    "# (54%) https://app.codility.com/demo/results/trainingCD3VYJ-9U7/\n",
    "# (100%) https://app.codility.com/demo/results/trainingKAGUPU-FGJ/"
   ]
  },
  {
   "cell_type": "code",
   "execution_count": 70,
   "metadata": {},
   "outputs": [
    {
     "data": {
      "text/plain": [
       "6"
      ]
     },
     "execution_count": 70,
     "metadata": {},
     "output_type": "execute_result"
    }
   ],
   "source": [
    "solution([3, 4, 5, 6, 8, 8])"
   ]
  },
  {
   "cell_type": "code",
   "execution_count": 56,
   "metadata": {},
   "outputs": [
    {
     "data": {
      "text/plain": [
       "1"
      ]
     },
     "execution_count": 56,
     "metadata": {},
     "output_type": "execute_result"
    }
   ],
   "source": [
    "solution([1, 4, -3]) # 1"
   ]
  },
  {
   "cell_type": "code",
   "execution_count": 57,
   "metadata": {},
   "outputs": [
    {
     "data": {
      "text/plain": [
       "3"
      ]
     },
     "execution_count": 57,
     "metadata": {},
     "output_type": "execute_result"
    }
   ],
   "source": [
    "solution([-8, 4, 5, -10, 3]) # 3"
   ]
  },
  {
   "cell_type": "code",
   "execution_count": 63,
   "metadata": {},
   "outputs": [
    {
     "name": "stdout",
     "output_type": "stream",
     "text": [
      "0\n",
      "6\n",
      "5\n",
      "4\n",
      "3\n"
     ]
    }
   ],
   "source": [
    "print(solution([3]))\n",
    "print(solution([3, 3]))\n",
    "print(solution([1, 4, 5, 6]))\n",
    "print(solution([-5, -3, -1]))\n",
    "print(solution([4, 4, 4, 2, 5,1]))"
   ]
  },
  {
   "cell_type": "code",
   "execution_count": null,
   "metadata": {},
   "outputs": [],
   "source": [
    "solu"
   ]
  }
 ],
 "metadata": {
  "kernelspec": {
   "display_name": "Python 3",
   "language": "python",
   "name": "python3"
  },
  "language_info": {
   "codemirror_mode": {
    "name": "ipython",
    "version": 3
   },
   "file_extension": ".py",
   "mimetype": "text/x-python",
   "name": "python",
   "nbconvert_exporter": "python",
   "pygments_lexer": "ipython3",
   "version": "3.6.5"
  }
 },
 "nbformat": 4,
 "nbformat_minor": 2
}
