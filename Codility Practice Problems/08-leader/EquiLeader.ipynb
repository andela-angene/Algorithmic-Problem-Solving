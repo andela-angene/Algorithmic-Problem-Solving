{
 "cells": [
  {
   "cell_type": "code",
   "execution_count": 22,
   "metadata": {},
   "outputs": [],
   "source": [
    "def find_max(el, max_, items):\n",
    "    if el in items:\n",
    "        items[el] += 1\n",
    "    else:\n",
    "        items[el] = 1\n",
    "    if items[el] > max_['count']:\n",
    "        max_ = {'count': items[el], 'item': el}\n",
    "    return max_\n",
    "\n",
    "def solution(arr):\n",
    "    items, max_, ln = {}, {'count': 0}, len(arr)\n",
    "    prefix = [-1] * ln\n",
    "    \n",
    "    for i in range(ln):\n",
    "        el = arr[i]\n",
    "        max_ = find_max(el, max_, items)\n",
    "        if max_['count'] > (i + 1)//2:\n",
    "            prefix[i] = max_['item']\n",
    "    equi, items, max_ = 0, {}, {'count': 0}\n",
    "    for i in range(ln - 2, -1, -1):\n",
    "        el = arr[i + 1]\n",
    "        max_ = find_max(el, max_, items)\n",
    "        if max_['count'] > (ln - i - 1)//2 and prefix[i] == max_['item']:\n",
    "            equi += 1\n",
    "    return equi"
   ]
  },
  {
   "cell_type": "code",
   "execution_count": 23,
   "metadata": {},
   "outputs": [
    {
     "data": {
      "text/plain": [
       "2"
      ]
     },
     "execution_count": 23,
     "metadata": {},
     "output_type": "execute_result"
    }
   ],
   "source": [
    "solution([4, 3, 4, 4, 4, 2]) # 2"
   ]
  },
  {
   "cell_type": "code",
   "execution_count": 25,
   "metadata": {},
   "outputs": [
    {
     "data": {
      "text/plain": [
       "2"
      ]
     },
     "execution_count": 25,
     "metadata": {},
     "output_type": "execute_result"
    }
   ],
   "source": [
    "solution([4, 4, 4]) # 2"
   ]
  },
  {
   "cell_type": "code",
   "execution_count": 26,
   "metadata": {},
   "outputs": [
    {
     "data": {
      "text/plain": [
       "0"
      ]
     },
     "execution_count": 26,
     "metadata": {},
     "output_type": "execute_result"
    }
   ],
   "source": [
    "solution([7, 3, 4])"
   ]
  },
  {
   "cell_type": "code",
   "execution_count": 27,
   "metadata": {},
   "outputs": [
    {
     "data": {
      "text/plain": [
       "4"
      ]
     },
     "execution_count": 27,
     "metadata": {},
     "output_type": "execute_result"
    }
   ],
   "source": [
    "solution([7, 7, 3, 7, 7]) # 4"
   ]
  },
  {
   "cell_type": "code",
   "execution_count": null,
   "metadata": {},
   "outputs": [],
   "source": []
  }
 ],
 "metadata": {
  "kernelspec": {
   "display_name": "Python 3",
   "language": "python",
   "name": "python3"
  },
  "language_info": {
   "codemirror_mode": {
    "name": "ipython",
    "version": 3
   },
   "file_extension": ".py",
   "mimetype": "text/x-python",
   "name": "python",
   "nbconvert_exporter": "python",
   "pygments_lexer": "ipython3",
   "version": "3.6.5"
  }
 },
 "nbformat": 4,
 "nbformat_minor": 2
}
