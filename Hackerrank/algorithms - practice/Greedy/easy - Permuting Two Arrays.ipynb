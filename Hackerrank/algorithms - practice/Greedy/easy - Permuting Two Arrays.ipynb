{
 "cells": [
  {
   "cell_type": "code",
   "execution_count": 6,
   "metadata": {},
   "outputs": [],
   "source": [
    "def solution(k, a, b):\n",
    "    a = sorted(a)\n",
    "    b = sorted(b)\n",
    "    ln = len(a)\n",
    "    for i in range(ln):\n",
    "        if a[i] + b[ln-i-1] < k:\n",
    "            return 'NO'\n",
    "    return 'YES'"
   ]
  },
  {
   "cell_type": "code",
   "execution_count": 7,
   "metadata": {},
   "outputs": [
    {
     "name": "stdout",
     "output_type": "stream",
     "text": [
      "YES\n",
      "NO\n"
     ]
    }
   ],
   "source": [
    "print(solution(10, [2,1,3], [7,8,9])) # yes\n",
    "print(solution(5, [1,2,2,1], [3,3,3,4]))"
   ]
  },
  {
   "cell_type": "code",
   "execution_count": null,
   "metadata": {},
   "outputs": [],
   "source": [
    "for _ in range(int(input())):\n",
    "    _, k = [int(i) for i in input().split()]\n",
    "    a, b = [[int(i) for i in input().split()] for _ in range(2)]\n",
    "    print(solution(k, a, b))"
   ]
  }
 ],
 "metadata": {
  "kernelspec": {
   "display_name": "Python 3",
   "language": "python",
   "name": "python3"
  },
  "language_info": {
   "codemirror_mode": {
    "name": "ipython",
    "version": 3
   },
   "file_extension": ".py",
   "mimetype": "text/x-python",
   "name": "python",
   "nbconvert_exporter": "python",
   "pygments_lexer": "ipython3",
   "version": "3.6.5"
  }
 },
 "nbformat": 4,
 "nbformat_minor": 2
}
