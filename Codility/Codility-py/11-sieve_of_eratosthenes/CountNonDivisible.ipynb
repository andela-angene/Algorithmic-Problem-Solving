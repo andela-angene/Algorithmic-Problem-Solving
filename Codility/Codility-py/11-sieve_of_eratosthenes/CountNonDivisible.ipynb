{
 "cells": [
  {
   "cell_type": "code",
   "execution_count": 31,
   "metadata": {},
   "outputs": [],
   "source": [
    "from collections import Counter\n",
    "\n",
    "def solution(arr):\n",
    "    ln = len(arr)\n",
    "    arr_sorted, result = sorted(set(arr)), []\n",
    "    counts, max_ = Counter(arr), arr_sorted[-1]\n",
    "    sieve = [0] * (max_ + 1)\n",
    "\n",
    "    for i in arr_sorted:\n",
    "        count = counts[i]\n",
    "        \n",
    "        divisors = sieve[i] + count - 1\n",
    "        sieve[i] = ln - divisors - 1\n",
    "        j = i + i\n",
    "        while j <= max_:\n",
    "            sieve[j] += count\n",
    "            j += i\n",
    "    return [sieve[i] for i in arr]\n",
    "  \n",
    "# https://app.codility.com/demo/results/trainingRMS9P5-5VM/"
   ]
  },
  {
   "cell_type": "code",
   "execution_count": 28,
   "metadata": {},
   "outputs": [
    {
     "data": {
      "text/plain": [
       "[2, 4, 3, 2, 0]"
      ]
     },
     "execution_count": 28,
     "metadata": {},
     "output_type": "execute_result"
    }
   ],
   "source": [
    "solution([3, 1, 2, 3, 6])"
   ]
  },
  {
   "cell_type": "code",
   "execution_count": 29,
   "metadata": {},
   "outputs": [
    {
     "data": {
      "text/plain": [
       "[4, 4, 4, 2, 3]"
      ]
     },
     "execution_count": 29,
     "metadata": {},
     "output_type": "execute_result"
    }
   ],
   "source": [
    "solution([3, 7, 2, 12, 8]) # 4, 4, 4, 2, 3"
   ]
  },
  {
   "cell_type": "code",
   "execution_count": 30,
   "metadata": {},
   "outputs": [
    {
     "data": {
      "text/plain": [
       "[0]"
      ]
     },
     "execution_count": 30,
     "metadata": {},
     "output_type": "execute_result"
    }
   ],
   "source": [
    "solution([3])"
   ]
  },
  {
   "cell_type": "code",
   "execution_count": null,
   "metadata": {},
   "outputs": [],
   "source": []
  }
 ],
 "metadata": {
  "kernelspec": {
   "display_name": "Python 3",
   "language": "python",
   "name": "python3"
  },
  "language_info": {
   "codemirror_mode": {
    "name": "ipython",
    "version": 3
   },
   "file_extension": ".py",
   "mimetype": "text/x-python",
   "name": "python",
   "nbconvert_exporter": "python",
   "pygments_lexer": "ipython3",
   "version": "3.6.5"
  }
 },
 "nbformat": 4,
 "nbformat_minor": 2
}
