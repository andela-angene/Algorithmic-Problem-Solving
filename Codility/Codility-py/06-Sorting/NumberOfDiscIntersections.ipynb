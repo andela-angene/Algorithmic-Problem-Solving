{
 "cells": [
  {
   "cell_type": "code",
   "execution_count": 29,
   "metadata": {},
   "outputs": [],
   "source": [
    "def solution(arr):\n",
    "    ln, intersects = len(arr), 0\n",
    "    prefixes, cum_el = [0] * ln, 0\n",
    "\n",
    "    for i in range(ln):\n",
    "        el = arr[i]\n",
    "        forward_radius = min(ln - i - 1, el)\n",
    "        intersects += forward_radius\n",
    "\n",
    "        prefixes[i] += cum_el\n",
    "        cum_el = prefixes[i] + 1\n",
    "        stop = el + i + 1\n",
    "        if stop < ln:\n",
    "            prefixes[stop] -= 1\n",
    "\n",
    "        back_radius = min(i, el)\n",
    "        b_intersect = back_radius - prefixes[i]\n",
    "        intersects += b_intersect\n",
    "        if i - el > 0:\n",
    "            intersects += prefixes[i - el]\n",
    "\n",
    "        if intersects > 10000000:\n",
    "            return -1\n",
    "\n",
    "    return intersects\n",
    "\n"
   ]
  },
  {
   "cell_type": "code",
   "execution_count": 30,
   "metadata": {
    "scrolled": true
   },
   "outputs": [
    {
     "data": {
      "text/plain": [
       "3"
      ]
     },
     "execution_count": 30,
     "metadata": {},
     "output_type": "execute_result"
    }
   ],
   "source": [
    "solution([1, 1, 1])"
   ]
  },
  {
   "cell_type": "code",
   "execution_count": 31,
   "metadata": {},
   "outputs": [
    {
     "data": {
      "text/plain": [
       "11"
      ]
     },
     "execution_count": 31,
     "metadata": {},
     "output_type": "execute_result"
    }
   ],
   "source": [
    "solution([1, 5, 2, 1, 4, 0])"
   ]
  },
  {
   "cell_type": "code",
   "execution_count": null,
   "metadata": {},
   "outputs": [],
   "source": []
  },
  {
   "cell_type": "code",
   "execution_count": null,
   "metadata": {},
   "outputs": [],
   "source": []
  }
 ],
 "metadata": {
  "kernelspec": {
   "display_name": "Python 3",
   "language": "python",
   "name": "python3"
  },
  "language_info": {
   "codemirror_mode": {
    "name": "ipython",
    "version": 3
   },
   "file_extension": ".py",
   "mimetype": "text/x-python",
   "name": "python",
   "nbconvert_exporter": "python",
   "pygments_lexer": "ipython3",
   "version": "3.6.5"
  }
 },
 "nbformat": 4,
 "nbformat_minor": 2
}
