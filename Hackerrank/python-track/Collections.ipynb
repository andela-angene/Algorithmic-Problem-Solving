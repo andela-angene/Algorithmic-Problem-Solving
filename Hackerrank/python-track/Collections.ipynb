{
 "cells": [
  {
   "cell_type": "markdown",
   "metadata": {},
   "source": [
    "## collections.Counter()"
   ]
  },
  {
   "cell_type": "code",
   "execution_count": 5,
   "metadata": {},
   "outputs": [
    {
     "name": "stdout",
     "output_type": "stream",
     "text": [
      "6 30\n",
      "6 20\n",
      "6 50\n",
      "50\n"
     ]
    }
   ],
   "source": [
    "from collections import Counter\n",
    "n, shoes, total = int(input().split()), Counter(input()), 0\n",
    "\n",
    "for i in range(n):\n",
    "    size, price = input().split()\n",
    "    if shoes[size] > 0:\n",
    "        total += int(price)\n",
    "        shoes[size] -= 1\n",
    "        \n",
    "print(total)"
   ]
  },
  {
   "cell_type": "code",
   "execution_count": 17,
   "metadata": {},
   "outputs": [
    {
     "name": "stdout",
     "output_type": "stream",
     "text": [
      "200\n"
     ]
    }
   ],
   "source": [
    "from collections import Counter\n",
    "_, shoes, n, total = 10, Counter('2 3 4 5 6 8 7 6 5 18'.split()), 6, 0\n",
    "ss = ['6 55', '6 45', '6 55', '4 40', '18 60', '10 50']\n",
    "for i in range(n):\n",
    "    size, price = ss[i].split()\n",
    "    if shoes[size] > 0:\n",
    "        total += int(price)\n",
    "        shoes[size] -= 1\n",
    "print(total)"
   ]
  },
  {
   "cell_type": "code",
   "execution_count": null,
   "metadata": {
    "collapsed": true
   },
   "outputs": [],
   "source": []
  },
  {
   "cell_type": "code",
   "execution_count": 34,
   "metadata": {},
   "outputs": [
    {
     "name": "stdout",
     "output_type": "stream",
     "text": [
      "1 2 4\n",
      "3 5\n"
     ]
    }
   ],
   "source": [
    "from collections import defaultdict as dd\n",
    "n, m, chars = 5, 2, dd(list)\n",
    "ss = ['a', 'a', 'b', 'a', 'b', 'a', 'b']\n",
    "for i in range(n):\n",
    "    chars[ss[i]].append(i + 1)\n",
    "for i in range(n, n + m):\n",
    "    print(*chars[ss[i]])"
   ]
  },
  {
   "cell_type": "code",
   "execution_count": null,
   "metadata": {},
   "outputs": [],
   "source": []
  },
  {
   "cell_type": "code",
   "execution_count": null,
   "metadata": {
    "collapsed": true
   },
   "outputs": [],
   "source": []
  },
  {
   "cell_type": "code",
   "execution_count": null,
   "metadata": {
    "collapsed": true
   },
   "outputs": [],
   "source": []
  },
  {
   "cell_type": "code",
   "execution_count": 31,
   "metadata": {},
   "outputs": [
    {
     "data": {
      "text/plain": [
       "42"
      ]
     },
     "execution_count": 31,
     "metadata": {},
     "output_type": "execute_result"
    }
   ],
   "source": [
    "cc = dd(lambda: -1)\n",
    "cc[5] = 42\n",
    "cc[5]"
   ]
  },
  {
   "cell_type": "markdown",
   "metadata": {},
   "source": [
    "## NamedTuple"
   ]
  },
  {
   "cell_type": "code",
   "execution_count": 67,
   "metadata": {},
   "outputs": [
    {
     "data": {
      "text/plain": [
       "[2, 3]"
      ]
     },
     "execution_count": 67,
     "metadata": {},
     "output_type": "execute_result"
    }
   ],
   "source": [
    "from collections import namedtuple\n",
    "\n",
    "Point = namedtuple('point', 'x y')\n",
    "pt1 = Point('2', 'ds')\n",
    "pt2 = Point'3', 'sd')\n",
    "z = [pt1, pt2]\n",
    "[int(pt.x) for pt in z]"
   ]
  },
  {
   "cell_type": "code",
   "execution_count": 58,
   "metadata": {},
   "outputs": [
    {
     "data": {
      "text/plain": [
       "'2'"
      ]
     },
     "execution_count": 58,
     "metadata": {},
     "output_type": "execute_result"
    }
   ],
   "source": [
    "pt1.x"
   ]
  },
  {
   "cell_type": "code",
   "execution_count": 74,
   "metadata": {},
   "outputs": [
    {
     "name": "stdout",
     "output_type": "stream",
     "text": [
      "3          91         Adrian     9\n",
      "3          91         Adrian     9\n",
      "91.0\n"
     ]
    }
   ],
   "source": [
    "n, Student = int('2'), namedtuple('Student', 'ID         MARKS      NAME       CLASS'.split())\n",
    "students = [Student(*input().split()) for _ in range(2)]\n",
    "print(round((sum([int(std.MARKS) for std in students]) / n), 2))"
   ]
  },
  {
   "cell_type": "code",
   "execution_count": 62,
   "metadata": {},
   "outputs": [
    {
     "data": {
      "text/plain": [
       "point(a=2, b=3)"
      ]
     },
     "execution_count": 62,
     "metadata": {},
     "output_type": "execute_result"
    }
   ],
   "source": [
    "n, Student = int(input()), namedtuple(input().split())\n",
    "students = [Student(*input().split()) for _ in range(n)]\n",
    "print(round(sum([int(std.MARKS) for std in students]) / n))"
   ]
  },
  {
   "cell_type": "code",
   "execution_count": 78,
   "metadata": {},
   "outputs": [
    {
     "data": {
      "text/plain": [
       "2.43"
      ]
     },
     "execution_count": 78,
     "metadata": {},
     "output_type": "execute_result"
    }
   ],
   "source": [
    "round(2.4323, 2)"
   ]
  },
  {
   "cell_type": "code",
   "execution_count": null,
   "metadata": {
    "collapsed": true
   },
   "outputs": [],
   "source": []
  },
  {
   "cell_type": "code",
   "execution_count": 87,
   "metadata": {},
   "outputs": [
    {
     "name": "stdout",
     "output_type": "stream",
     "text": [
      "2\n",
      "sd 22\n",
      "sd 10\n",
      "sd 32\n"
     ]
    }
   ],
   "source": [
    "from collections import OrderedDict\n",
    "items = OrderedDict()\n",
    "\n",
    "for i in range(int(input())):\n",
    "    item = input().split()\n",
    "    name, price = ' '.join(item[:-1]), int(item[-1])\n",
    "    if name in items:\n",
    "        items[name] = items.get(name, 0) + price\n",
    "        \n",
    "for name in items:\n",
    "    print(name, items[name])"
   ]
  },
  {
   "cell_type": "code",
   "execution_count": 88,
   "metadata": {},
   "outputs": [
    {
     "name": "stdout",
     "output_type": "stream",
     "text": [
      "sdk sdf aa 32\n",
      "('sdk sdf aa', ' ', '32')\n"
     ]
    }
   ],
   "source": [
    "print(input().rpartition(' '))"
   ]
  },
  {
   "cell_type": "code",
   "execution_count": 97,
   "metadata": {},
   "outputs": [
    {
     "name": "stdout",
     "output_type": "stream",
     "text": [
      "3\n",
      "2 1 1\n"
     ]
    }
   ],
   "source": [
    "words = \"\"\"bcdef abcdefg bcde bcdef\"\"\".split()\n",
    "seen = OrderedDict()\n",
    "for i in range(4):\n",
    "    seen[words[i]] = seen.get(words[i], 0) + 1\n",
    "print(len(seen))\n",
    "print(*[seen[i] for i in seen])"
   ]
  },
  {
   "cell_type": "code",
   "execution_count": 98,
   "metadata": {},
   "outputs": [
    {
     "name": "stdout",
     "output_type": "stream",
     "text": [
      "3\n",
      "as\n",
      "dds\n",
      "as\n",
      "2\n",
      "2 1\n"
     ]
    }
   ],
   "source": [
    "# words = input().split()\n",
    "seen = OrderedDict()\n",
    "for i in range(int(input())):\n",
    "    word = input().strip()\n",
    "    seen[word] = seen.get(word, 0) + 1\n",
    "print(len(seen))\n",
    "print(*[seen[i] for i in seen])"
   ]
  },
  {
   "cell_type": "code",
   "execution_count": 105,
   "metadata": {},
   "outputs": [
    {
     "name": "stdout",
     "output_type": "stream",
     "text": [
      "2\n",
      "append 5\n",
      "append 2\n",
      "deque([5, 2])\n"
     ]
    }
   ],
   "source": [
    "from collections import deque\n",
    "dq = deque()\n",
    "for i in range(int(input())):\n",
    "    command = input().split()\n",
    "    if command[0] == 'append':\n",
    "        dq.append(int(command[1]))\n",
    "    if command[0] == 'appendleft':\n",
    "        dq.appendleft(int(command[1]))\n",
    "    if command[0] == 'pop':\n",
    "        dq.pop()\n",
    "    if command[0] === 'popleft':\n",
    "        dq.popleft()\n",
    "    \n",
    "print(*dq)"
   ]
  },
  {
   "cell_type": "code",
   "execution_count": 108,
   "metadata": {
    "scrolled": false
   },
   "outputs": [
    {
     "name": "stdout",
     "output_type": "stream",
     "text": [
      "5 2\n"
     ]
    }
   ],
   "source": [
    "print(*dq)"
   ]
  },
  {
   "cell_type": "markdown",
   "metadata": {},
   "source": [
    "## Piling Up!"
   ]
  },
  {
   "cell_type": "code",
   "execution_count": 111,
   "metadata": {},
   "outputs": [],
   "source": [
    "def piling_up(nums):\n",
    "    prev = current = None\n",
    "    while nums:\n",
    "        head, tail = nums[0], nums[-1]\n",
    "        current = nums.pop() if tail > head else nums.pop(0)\n",
    "        if prev is not None and current > prev:\n",
    "            return 'No'\n",
    "        prev = current\n",
    "    return 'Yes'"
   ]
  },
  {
   "cell_type": "code",
   "execution_count": 113,
   "metadata": {},
   "outputs": [
    {
     "name": "stdout",
     "output_type": "stream",
     "text": [
      "2\n",
      "4 3 2 1 3 4\n",
      "Yes\n"
     ]
    }
   ],
   "source": [
    "_, nums = input(),list(map(int, input().split()))\n",
    "print(piling_up(nums))"
   ]
  },
  {
   "cell_type": "code",
   "execution_count": 117,
   "metadata": {},
   "outputs": [
    {
     "name": "stdout",
     "output_type": "stream",
     "text": [
      "3\n",
      "4 2 5 3\n",
      "No\n"
     ]
    }
   ],
   "source": [
    "_, nums = input(),list(map(int, input().split()))\n",
    "print(piling_up(nums))"
   ]
  },
  {
   "cell_type": "code",
   "execution_count": null,
   "metadata": {
    "collapsed": true
   },
   "outputs": [],
   "source": []
  },
  {
   "cell_type": "markdown",
   "metadata": {},
   "source": [
    "## Company Logo"
   ]
  },
  {
   "cell_type": "code",
   "execution_count": 142,
   "metadata": {
    "collapsed": true
   },
   "outputs": [],
   "source": [
    "from collections import Counter, defaultdict\n",
    "def three_words(name):\n",
    "    words, nums, num_count = Counter(name), set(), defaultdict(list)\n",
    "    for char in words:\n",
    "        nums.add(words[char])\n",
    "        num_count[words[char]].append(char)\n",
    "    selected, nums = [], sorted(list(nums))\n",
    "    while len(selected) < 3:\n",
    "        selected += sorted(num_count[nums[-1]])[:3]\n",
    "        nums.pop(-1)\n",
    "    for c in selected[:3]:\n",
    "        print(c, words[c])"
   ]
  },
  {
   "cell_type": "code",
   "execution_count": 143,
   "metadata": {},
   "outputs": [
    {
     "name": "stdout",
     "output_type": "stream",
     "text": [
      "G 2\n",
      "O 2\n",
      "E 1\n"
     ]
    }
   ],
   "source": [
    "three_words('GOOGLE')"
   ]
  },
  {
   "cell_type": "code",
   "execution_count": 144,
   "metadata": {},
   "outputs": [
    {
     "name": "stdout",
     "output_type": "stream",
     "text": [
      "b 3\n",
      "a 2\n",
      "c 2\n"
     ]
    }
   ],
   "source": [
    "three_words('aabbbccde')"
   ]
  },
  {
   "cell_type": "code",
   "execution_count": 145,
   "metadata": {},
   "outputs": [
    {
     "name": "stdout",
     "output_type": "stream",
     "text": [
      "a 1\n",
      "b 1\n",
      "c 1\n"
     ]
    }
   ],
   "source": [
    "three_words('abcde')"
   ]
  },
  {
   "cell_type": "code",
   "execution_count": 146,
   "metadata": {},
   "outputs": [
    {
     "name": "stdout",
     "output_type": "stream",
     "text": [
      "abcde\n",
      "a 1\n",
      "b 1\n",
      "c 1\n"
     ]
    },
    {
     "data": {
      "text/plain": [
       "[None, None, None]"
      ]
     },
     "execution_count": 146,
     "metadata": {},
     "output_type": "execute_result"
    }
   ],
   "source": [
    "from collections import Counter, OrderedDict\n",
    "\n",
    "class OrderedCounter(Counter, OrderedDict):\n",
    "    pass\n",
    "[print(*c) for c in OrderedCounter(sorted(input())).most_common(3)]"
   ]
  },
  {
   "cell_type": "code",
   "execution_count": 153,
   "metadata": {},
   "outputs": [
    {
     "data": {
      "text/plain": [
       "[('z', 2), ('u', 2), ('i', 2)]"
      ]
     },
     "execution_count": 153,
     "metadata": {},
     "output_type": "execute_result"
    }
   ],
   "source": [
    "a = Counter('zzuuiiaabbcceeddffgg')\n",
    "a.most_common(3)"
   ]
  },
  {
   "cell_type": "code",
   "execution_count": null,
   "metadata": {
    "collapsed": true
   },
   "outputs": [],
   "source": []
  },
  {
   "cell_type": "code",
   "execution_count": null,
   "metadata": {
    "collapsed": true
   },
   "outputs": [],
   "source": []
  }
 ],
 "metadata": {
  "kernelspec": {
   "display_name": "Python 3",
   "language": "python",
   "name": "python3"
  },
  "language_info": {
   "codemirror_mode": {
    "name": "ipython",
    "version": 3
   },
   "file_extension": ".py",
   "mimetype": "text/x-python",
   "name": "python",
   "nbconvert_exporter": "python",
   "pygments_lexer": "ipython3",
   "version": "3.6.3"
  }
 },
 "nbformat": 4,
 "nbformat_minor": 2
}
