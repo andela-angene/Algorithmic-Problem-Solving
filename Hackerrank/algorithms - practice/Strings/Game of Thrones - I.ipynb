{
 "cells": [
  {
   "cell_type": "code",
   "execution_count": 1,
   "metadata": {},
   "outputs": [],
   "source": [
    "from collections import Counter\n",
    "def confirm(word):\n",
    "    counts = Counter(word)\n",
    "    middle = False\n",
    "    for c in counts:\n",
    "        if counts[c] % 2 != 0 and middle:\n",
    "            return 'NO'\n",
    "        if counts[c] % 2 != 0:\n",
    "            middle = True\n",
    "    return 'YES'"
   ]
  },
  {
   "cell_type": "code",
   "execution_count": 5,
   "metadata": {},
   "outputs": [
    {
     "name": "stdout",
     "output_type": "stream",
     "text": [
      "YES\n",
      "YES\n",
      "NO\n"
     ]
    }
   ],
   "source": [
    "print(confirm('aaabbbb'))\n",
    "print(confirm('cdcdcdcdeeeef'))\n",
    "print(confirm('cdefghmnopqrstuvw'))"
   ]
  },
  {
   "cell_type": "code",
   "execution_count": null,
   "metadata": {},
   "outputs": [],
   "source": []
  }
 ],
 "metadata": {
  "kernelspec": {
   "display_name": "Python 3",
   "language": "python",
   "name": "python3"
  },
  "language_info": {
   "codemirror_mode": {
    "name": "ipython",
    "version": 3
   },
   "file_extension": ".py",
   "mimetype": "text/x-python",
   "name": "python",
   "nbconvert_exporter": "python",
   "pygments_lexer": "ipython3",
   "version": "3.6.5"
  }
 },
 "nbformat": 4,
 "nbformat_minor": 2
}
