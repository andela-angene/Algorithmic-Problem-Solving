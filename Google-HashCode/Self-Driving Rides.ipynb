{
 "cells": [
  {
   "cell_type": "code",
   "execution_count": 392,
   "metadata": {},
   "outputs": [],
   "source": [
    "import sys\n",
    "from collections import defaultdict as dd\n",
    "\n",
    "test_data = []\n",
    "with open('data/e_high_bonus.in') as data:\n",
    "    for line in data:\n",
    "        test_data.append([int(i) for i in line.strip().split()])\n",
    "# test_data"
   ]
  },
  {
   "cell_type": "code",
   "execution_count": 393,
   "metadata": {},
   "outputs": [
    {
     "name": "stdout",
     "output_type": "stream",
     "text": [
      "[1500, 2000, 350, 10000, 1000, 150000]\n"
     ]
    }
   ],
   "source": [
    "rows, cols, cars, num_rides, bonus, timer = test_data[0]\n",
    "\n",
    "print([rows, cols, cars, num_rides, bonus, timer])"
   ]
  },
  {
   "cell_type": "code",
   "execution_count": null,
   "metadata": {
    "collapsed": true,
    "scrolled": true
   },
   "outputs": [],
   "source": []
  },
  {
   "cell_type": "code",
   "execution_count": 394,
   "metadata": {
    "collapsed": true
   },
   "outputs": [],
   "source": [
    "rides = []\n",
    "for i in range(1, num_rides + 1):\n",
    "    rides.append(tuple(test_data[i] + [i - 1]))\n",
    "# rides"
   ]
  },
  {
   "cell_type": "code",
   "execution_count": null,
   "metadata": {
    "collapsed": true
   },
   "outputs": [],
   "source": []
  },
  {
   "cell_type": "code",
   "execution_count": 395,
   "metadata": {
    "collapsed": true
   },
   "outputs": [],
   "source": [
    "def gen_min_ride(car, rides):\n",
    "    min_ride = {\n",
    "        'val': float('inf'),\n",
    "        'ride': None\n",
    "    }\n",
    "    for ride in rides:\n",
    "        start = abs(car[0] - ride[0]) + abs(car[1] - ride[1])\n",
    "        distance = abs(ride[0] - ride[2]) + abs(ride[1] - ride[3])\n",
    "        total = start + distance\n",
    "        if total <= ride[5] and total < min_ride['val']:\n",
    "            min_ride = {\n",
    "                'val': total,\n",
    "                'ride': ride\n",
    "            }\n",
    "    return min_ride"
   ]
  },
  {
   "cell_type": "code",
   "execution_count": 396,
   "metadata": {
    "scrolled": true
   },
   "outputs": [
    {
     "data": {
      "text/plain": [
       "{'ride': (41, 156, 90, 189, 40539, 40785, 2574), 'val': 279}"
      ]
     },
     "execution_count": 396,
     "metadata": {},
     "output_type": "execute_result"
    }
   ],
   "source": [
    "resultss = dd(list)\n",
    "gen_min_ride((0, 0), rides)\n",
    "# rides\n",
    "# result[1]"
   ]
  },
  {
   "cell_type": "code",
   "execution_count": 397,
   "metadata": {
    "collapsed": true
   },
   "outputs": [],
   "source": [
    "stack = dd(list)\n",
    "\n",
    "for i in range(1, cars + 1):\n",
    "    car = (0, 0, i)\n",
    "    stack[0].append(car)\n",
    "# stack[0]"
   ]
  },
  {
   "cell_type": "code",
   "execution_count": 398,
   "metadata": {},
   "outputs": [],
   "source": [
    "for i in range(timer + 1):\n",
    "    carss = stack[i]\n",
    "#     print(carss)\n",
    "    while carss and rides:\n",
    "#         print('==', carss)\n",
    "        min_val = (float('inf'), None)\n",
    "        for car in carss:\n",
    "            min_ride = gen_min_ride(car, rides)\n",
    "            if min_ride['val'] < min_val[0]:\n",
    "                min_val = (min_ride['val'], car, min_ride)\n",
    "#         print(rides)\n",
    "        car, ride = min_val[1], min_val[2]['ride']\n",
    "        \n",
    "        resultss[car[2]].append(ride[6])\n",
    "        carss.pop(carss.index(car))\n",
    "        rides.pop(rides.index(ride))\n",
    "        \n",
    "        new_car = (ride[2], ride[3], car[2])\n",
    "        stack[min_val[0]].append(new_car) \n",
    "#         print(resultss)\n",
    "        "
   ]
  },
  {
   "cell_type": "code",
   "execution_count": 399,
   "metadata": {
    "collapsed": true
   },
   "outputs": [],
   "source": [
    "a = {'ds': 'ds'}"
   ]
  },
  {
   "cell_type": "code",
   "execution_count": 400,
   "metadata": {},
   "outputs": [
    {
     "data": {
      "text/plain": [
       "dict_items([('ds', 'ds')])"
      ]
     },
     "execution_count": 400,
     "metadata": {},
     "output_type": "execute_result"
    }
   ],
   "source": [
    "a.items()"
   ]
  },
  {
   "cell_type": "code",
   "execution_count": 401,
   "metadata": {
    "collapsed": true
   },
   "outputs": [],
   "source": [
    "# resultss"
   ]
  },
  {
   "cell_type": "code",
   "execution_count": 402,
   "metadata": {
    "collapsed": true
   },
   "outputs": [],
   "source": [
    "\n",
    "with open('results_e.txt', 'a') as out:\n",
    "    \n",
    "\n",
    "    for key, value in resultss.items():\n",
    "        if value:\n",
    "            value = [str(i) for i in value]\n",
    "            rs = str(len(value)) + ' ' + ' '.join(value)\n",
    "            out.write(rs + '\\n')"
   ]
  },
  {
   "cell_type": "code",
   "execution_count": null,
   "metadata": {
    "collapsed": true
   },
   "outputs": [],
   "source": []
  }
 ],
 "metadata": {
  "kernelspec": {
   "display_name": "Python 3",
   "language": "python",
   "name": "python3"
  },
  "language_info": {
   "codemirror_mode": {
    "name": "ipython",
    "version": 3
   },
   "file_extension": ".py",
   "mimetype": "text/x-python",
   "name": "python",
   "nbconvert_exporter": "python",
   "pygments_lexer": "ipython3",
   "version": "3.6.3"
  }
 },
 "nbformat": 4,
 "nbformat_minor": 2
}
