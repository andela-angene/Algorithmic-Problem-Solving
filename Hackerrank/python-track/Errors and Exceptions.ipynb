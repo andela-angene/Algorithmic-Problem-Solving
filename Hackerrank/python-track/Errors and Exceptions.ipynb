{
 "cells": [
  {
   "cell_type": "code",
   "execution_count": 3,
   "metadata": {},
   "outputs": [
    {
     "name": "stdout",
     "output_type": "stream",
     "text": [
      "1\n",
      "1 0\n",
      "Error Code: integer division or modulo by zero\n"
     ]
    }
   ],
   "source": [
    "for _ in range(int(input())):\n",
    "    try:\n",
    "        nums = list(map(int, input().split()))\n",
    "        print(nums[0] // nums[1])\n",
    "    except ZeroDivisionError as e:\n",
    "        print('Error Code:', e)\n",
    "    except ValueError as e:\n",
    "        print('Error Code:', e)"
   ]
  },
  {
   "cell_type": "code",
   "execution_count": 8,
   "metadata": {},
   "outputs": [],
   "source": [
    "import re\n",
    "\n",
    "p = re.compile('.*\\+')"
   ]
  },
  {
   "cell_type": "code",
   "execution_count": null,
   "metadata": {},
   "outputs": [],
   "source": [
    "p = re.compile('.*+')"
   ]
  },
  {
   "cell_type": "code",
   "execution_count": null,
   "metadata": {
    "collapsed": true
   },
   "outputs": [],
   "source": []
  },
  {
   "cell_type": "markdown",
   "metadata": {},
   "source": [
    "## Classes: Dealing with Complex Numbers"
   ]
  },
  {
   "cell_type": "code",
   "execution_count": 82,
   "metadata": {
    "collapsed": true
   },
   "outputs": [],
   "source": [
    "import math\n",
    "\n",
    "class Complex(object):\n",
    "    def __init__(self, a, b):\n",
    "        self.x = float(a)\n",
    "        self.y = float(b)\n",
    "        \n",
    "    def add(self, other):\n",
    "        return Complex(self.x + other.x, self.y + other.y)\n",
    "    \n",
    "    def __add__(self, other):\n",
    "        return self.add(other)\n",
    "    \n",
    "    def substract(self, other):\n",
    "        return Complex(self.x - other.x, self.y - other.y)\n",
    "    \n",
    "    def __sub__(self, other):\n",
    "        return self.substract(other)\n",
    "    \n",
    "    def multiply(self, other):\n",
    "        x, y, u, v = self.x, self.y, other.x, other.y\n",
    "        return Complex((x*u - y*v), (x*v + y*u))\n",
    "    \n",
    "    def divide(self, other):\n",
    "        x, y, u, v = self.x, self.y, other.x, other.y\n",
    "        divisor = u**2 + v**2\n",
    "        real = (x*u + y*v) / divisor\n",
    "        complx = (y*u - x*v) / divisor\n",
    "        return Complex(real, complx)\n",
    "    \n",
    "    def __truediv__(self, other):\n",
    "        return self.divide(other)\n",
    "    \n",
    "    def __mul__(self, other):\n",
    "        return self.multiply(other)\n",
    "    \n",
    "    def mod(self):\n",
    "        return Complex(math.sqrt(self.x**2 + self.y**2), 0)\n",
    "    \n",
    "    def __repr__(self):\n",
    "        sign = '+' if self.y >= 0 else ''\n",
    "        return '{:.2f}{}{:.2f}i'.format(self.x, sign, self.y)\n",
    "    \n",
    "x = Complex(*'2 1'.split())\n",
    "y = Complex(*'5 6'.split())"
   ]
  },
  {
   "cell_type": "code",
   "execution_count": 83,
   "metadata": {},
   "outputs": [
    {
     "data": {
      "text/plain": [
       "7.00+7.00i"
      ]
     },
     "execution_count": 83,
     "metadata": {},
     "output_type": "execute_result"
    }
   ],
   "source": [
    "sp + sq"
   ]
  },
  {
   "cell_type": "code",
   "execution_count": 84,
   "metadata": {},
   "outputs": [
    {
     "data": {
      "text/plain": [
       "-3.00-5.00i"
      ]
     },
     "execution_count": 84,
     "metadata": {},
     "output_type": "execute_result"
    }
   ],
   "source": [
    "sp - sq"
   ]
  },
  {
   "cell_type": "code",
   "execution_count": 85,
   "metadata": {},
   "outputs": [
    {
     "data": {
      "text/plain": [
       "4.00+17.00i"
      ]
     },
     "execution_count": 85,
     "metadata": {},
     "output_type": "execute_result"
    }
   ],
   "source": [
    "sp * sq"
   ]
  },
  {
   "cell_type": "code",
   "execution_count": 86,
   "metadata": {},
   "outputs": [
    {
     "data": {
      "text/plain": [
       "0.26-0.11i"
      ]
     },
     "execution_count": 86,
     "metadata": {},
     "output_type": "execute_result"
    }
   ],
   "source": [
    "sp / sq"
   ]
  },
  {
   "cell_type": "code",
   "execution_count": null,
   "metadata": {},
   "outputs": [],
   "source": []
  },
  {
   "cell_type": "code",
   "execution_count": 87,
   "metadata": {},
   "outputs": [
    {
     "data": {
      "text/plain": [
       "2.24+0.00i"
      ]
     },
     "execution_count": 87,
     "metadata": {},
     "output_type": "execute_result"
    }
   ],
   "source": [
    "sp.mod()"
   ]
  },
  {
   "cell_type": "code",
   "execution_count": 88,
   "metadata": {},
   "outputs": [
    {
     "data": {
      "text/plain": [
       "7.81+0.00i"
      ]
     },
     "execution_count": 88,
     "metadata": {},
     "output_type": "execute_result"
    }
   ],
   "source": [
    "sq.mod()"
   ]
  },
  {
   "cell_type": "code",
   "execution_count": 89,
   "metadata": {},
   "outputs": [
    {
     "name": "stdout",
     "output_type": "stream",
     "text": [
      "7.00+7.00i\n",
      "-3.00-5.00i\n",
      "4.00+17.00i\n",
      "0.26-0.11i\n",
      "2.24+0.00i\n",
      "7.81+0.00i\n"
     ]
    }
   ],
   "source": [
    "print(*map(str, [x+y, x-y, x*y, x/y, x.mod(), y.mod()]), sep='\\n')"
   ]
  },
  {
   "cell_type": "code",
   "execution_count": null,
   "metadata": {
    "collapsed": true
   },
   "outputs": [],
   "source": []
  }
 ],
 "metadata": {
  "kernelspec": {
   "display_name": "Python 3",
   "language": "python",
   "name": "python3"
  },
  "language_info": {
   "codemirror_mode": {
    "name": "ipython",
    "version": 3
   },
   "file_extension": ".py",
   "mimetype": "text/x-python",
   "name": "python",
   "nbconvert_exporter": "python",
   "pygments_lexer": "ipython3",
   "version": "3.6.3"
  }
 },
 "nbformat": 4,
 "nbformat_minor": 2
}
