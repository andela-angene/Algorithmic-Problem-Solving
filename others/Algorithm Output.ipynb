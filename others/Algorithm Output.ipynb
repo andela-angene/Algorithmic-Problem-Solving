{
 "cells": [
  {
   "cell_type": "markdown",
   "metadata": {},
   "source": [
    "## Linear Search\n",
    "Simply loops through the array looking for the item.\n",
    "Similar to list.index or str.find in python."
   ]
  },
  {
   "cell_type": "code",
   "execution_count": 60,
   "metadata": {
    "code_folding": []
   },
   "outputs": [
    {
     "name": "stdout",
     "output_type": "stream",
     "text": [
      "== linear search ==\n",
      "3\n",
      "-1\n"
     ]
    }
   ],
   "source": [
    "def linear(item, arr):\n",
    "    for i in range(len(arr)):\n",
    "        if item == arr[i]:\n",
    "            return i\n",
    "    return -1\n",
    "\n",
    "print('== linear search ==')\n",
    "print(linear(4, [3, 23, 5, 4, 8]))\n",
    "print(linear(400, [3, 23, 5, 4, 8]))"
   ]
  },
  {
   "cell_type": "markdown",
   "metadata": {},
   "source": [
    " ## Binary Search\n",
    " Uses the divide and conquer approach and works on a sorted array. \n",
    " - Pick the element at the center\n",
    " - if it's the same as the item, mission accomplished.\n",
    " - if it's greater than the item, narrow the search to lower half of the array\n",
    " - otherwise, narrow the search to the upper half of the array\n",
    " - repeat until element is found or search range equals zero"
   ]
  },
  {
   "cell_type": "code",
   "execution_count": 61,
   "metadata": {},
   "outputs": [
    {
     "name": "stdout",
     "output_type": "stream",
     "text": [
      "== binary search ==\n",
      "2\n",
      "-1\n"
     ]
    }
   ],
   "source": [
    "def binary_search(item, arr):\n",
    "    first, last = 0, len(arr) - 1\n",
    "    while first <= last:\n",
    "        mid = (first + last) // 2\n",
    "        if arr[mid] == item:\n",
    "            return mid\n",
    "        elif arr[mid] > item:\n",
    "            last = mid - 1\n",
    "        else:\n",
    "            first = mid + 1\n",
    "    return -1\n",
    "\n",
    "print('== binary search ==')\n",
    "print(binary_search(4, [1, 2, 4, 5, 6]))\n",
    "print(binary_search(400, sorted([4, 55, 67])))"
   ]
  },
  {
   "cell_type": "markdown",
   "metadata": {},
   "source": [
    "## Tree Traversal\n",
    "\n",
    "Sample Tree:\n",
    "![sample tree](https://www.geeksforgeeks.org/wp-content/uploads/2009/06/tree12.gif)\n",
    "\n",
    "Tree traversal techniques are ways to visit each node of a tree.\n",
    "### In-order\n",
    "- traverse the left sub-tree; in-order(left)\n",
    "- visit the root\n",
    "- traverse the right sub-tree; in-order(right)\n",
    "\n",
    "Should give '4 2 5 1 3' for the image above.\n",
    "\n",
    "### Pre-order\n",
    "- visit the root\n",
    "- traverse the left sub-tree; pre-order(left)\n",
    "- traverse the right sub-tree; pre-order(right)\n",
    "\n",
    "Should give '1 2 4 5 3' for the image above.\n",
    "\n",
    "### Post-order\n",
    "- traverse the left sub-tree; post-order(left)\n",
    "- traverse the right sub-tree; post-order(right)\n",
    "- visit the root\n",
    "\n",
    "Should give '4 5 2 3 1' for the image above.\n",
    "\n",
    "These are all types of Depth First Search."
   ]
  },
  {
   "cell_type": "code",
   "execution_count": 54,
   "metadata": {},
   "outputs": [],
   "source": [
    "class Node:\n",
    "    def __init__(self, val, left=None, right=None):\n",
    "        self.val = val\n",
    "        self.left = left if isinstance(left, Node) else None\n",
    "        self.right = right if isinstance(right, Node) else None\n",
    "    def __repr__(self):\n",
    "        return '<Node {}>'.format(self.val)\n",
    "    \n",
    "def in_order(node):\n",
    "    if node:\n",
    "        in_order(node.left)\n",
    "        print(node.val, end=' ')\n",
    "        in_order(node.right)\n",
    "\n",
    "def pre_order(node):\n",
    "    if node:\n",
    "        print(node.val, end=' ')\n",
    "        pre_order(node.left)\n",
    "        pre_order(node.right)\n",
    "        \n",
    "def post_order(node):\n",
    "    if node:\n",
    "        post_order(node.left)\n",
    "        post_order(node.right)\n",
    "        print(node.val, end=' ')"
   ]
  },
  {
   "cell_type": "code",
   "execution_count": 55,
   "metadata": {},
   "outputs": [
    {
     "name": "stdout",
     "output_type": "stream",
     "text": [
      "== in-order ==\n",
      "4 2 5 1 3 \n",
      "\n",
      "== pre-order ==\n",
      "1 2 4 5 3 \n",
      "\n",
      "== post-order ==\n",
      "4 5 2 3 1 "
     ]
    }
   ],
   "source": [
    "node = Node(1, right=Node(3))\n",
    "node.left = Node(2, left=Node(4), right=Node(5))\n",
    "\n",
    "print('== in-order ==')\n",
    "in_order(node)\n",
    "\n",
    "print('\\n\\n== pre-order ==')\n",
    "pre_order(node)\n",
    "\n",
    "print('\\n\\n== post-order ==')\n",
    "post_order(node)"
   ]
  },
  {
   "cell_type": "markdown",
   "metadata": {},
   "source": [
    "## Breadth First Search\n",
    "This traverses the graph by visiting every vertex once in a well defined order or in layers.\n",
    "\n",
    "Calling Breadth First Search on the sample tree above should return '1 2 3 4, 5'."
   ]
  },
  {
   "cell_type": "code",
   "execution_count": 70,
   "metadata": {},
   "outputs": [
    {
     "name": "stdout",
     "output_type": "stream",
     "text": [
      "== breadth first search ==\n",
      "1 2 3 4 5 "
     ]
    }
   ],
   "source": [
    "def breadth_first(node):\n",
    "    queue = [node]\n",
    "    while queue:\n",
    "        node = queue.pop(0)\n",
    "        print(node.val, end=' ')\n",
    "        if node.left:\n",
    "            queue.append(node.left)\n",
    "        if node.right:\n",
    "            queue.append(node.right)\n",
    "            \n",
    "print('== breadth first search ==')\n",
    "breadth_first(node)"
   ]
  },
  {
   "cell_type": "markdown",
   "metadata": {},
   "source": [
    "## Depth First Search\n",
    "This picks a branch from the root and explores by it going as deeply as possible, visiting related vertexes, before backtracking.\n",
    "\n",
    "In-order, Post-order and Pre-order tree traversals above are all examples of Depth first search."
   ]
  },
  {
   "cell_type": "code",
   "execution_count": null,
   "metadata": {},
   "outputs": [],
   "source": []
  },
  {
   "cell_type": "markdown",
   "metadata": {},
   "source": [
    "## Dijkstra's Algorithm\n",
    "\n",
    "Dijkstra's algorithm is used to find the shortest path in a graph.\n",
    "To find the shortest path from a source to a destination:\n",
    "- Assign the source a tentative distance value of 0 and assign other nodes a value of infinity\n",
    "- Keep a queue of unvisited nodes sorted by distance of each node to the origin\n",
    "- For the current node, consider all of its unvisited neighbors and calculate the distance from the current node to each neighbor. If this is less than the neighbor's tentative distance, replace it.\n",
    "- add its unvisited neighbors to the queue, mark the current node as visited and remove it from the queue.\n",
    "- if the destination node is marked visited, return it's distance. Otherwise select the node with the smallest tentative distance from the unvisited queue and go back to step 3.\n",
    "\n",
    "Consider the graph below:\n",
    "![Dijkstra](https://i.imgur.com/tiFCgu2.png)\n",
    "The shortest path from A to F is A -> B -> D -> F, this gives a total of 11 in length.\n",
    "Dijkstra's algorithm is implemented below:"
   ]
  },
  {
   "cell_type": "code",
   "execution_count": 1,
   "metadata": {},
   "outputs": [
    {
     "name": "stdout",
     "output_type": "stream",
     "text": [
      "11\n"
     ]
    }
   ],
   "source": [
    "import bisect\n",
    "\n",
    "class Vertex(object):\n",
    "    def __init__(self, name, nodes=[]):\n",
    "        self.name = name\n",
    "        self.nodes = nodes\n",
    "        self.distance = float('inf')\n",
    "        self.completed = False\n",
    "\n",
    "    def __lt__(self, other):\n",
    "        return self.distance < other.distance\n",
    "\n",
    "    def __repr__(self):\n",
    "        return 'Vertex({}, {})'.format(self.name, self.distance)\n",
    "\n",
    "\n",
    "def dijkstra(source, end, graph):\n",
    "    queue = [graph[source]]\n",
    "    queue[0].distance = 0\n",
    "\n",
    "    while queue:\n",
    "        current = queue.pop(0)\n",
    "        if current.name == end:\n",
    "            return current.distance\n",
    "        current.completed = True\n",
    "\n",
    "        for edge in current.nodes:\n",
    "            vertex = graph[edge['name']]\n",
    "            if not vertex.completed:\n",
    "                distance = current.distance + edge['size']\n",
    "                if distance < vertex.distance:\n",
    "                    vertex.distance = distance\n",
    "                    bisect.insort(queue, vertex)\n",
    "    return -1\n",
    "\n",
    "\n",
    "graph = {\n",
    "    'a': Vertex(name='a', nodes=[\n",
    "        {'name': 'b', 'size': 4}, \n",
    "        {'name': 'e', 'size': 7},\n",
    "        {'name': 'c', 'size': 3}]),\n",
    "    'b': Vertex(name='b', nodes=[\n",
    "        {'name': 'a', 'size': 4}, \n",
    "        {'name': 'c', 'size': 6},  \n",
    "        {'name': 'd', 'size': 5}]),\n",
    "    'c': Vertex('c', nodes=[\n",
    "        {'name': 'b', 'size': 6}, \n",
    "        {'name': 'a', 'size': 3},  \n",
    "        {'name': 'd', 'size': 11}, \n",
    "        {'name': 'e', 'size': 8}]),\n",
    "    'd': Vertex(name='d', nodes=[\n",
    "        {'name': 'b', 'size': 5}, \n",
    "        {'name': 'c', 'size': 11},\n",
    "        {'name': 'e', 'size': 2}, \n",
    "        {'name': 'f', 'size': 2},\n",
    "        {'name': 'g', 'size': 10}]),\n",
    "    'e': Vertex('e', [\n",
    "        {'name': 'c', 'size': 8}, \n",
    "        {'name': 'd', 'size': 2},\n",
    "        {'name': 'a', 'size': 7}, \n",
    "        {'name': 'g', 'size': 5}]),\n",
    "    'f': Vertex('f', [\n",
    "        {'name': 'd', 'size': 2}, \n",
    "        {'name': 'g', 'size': 3}]),\n",
    "    'g': Vertex('g', [\n",
    "        {'name': 'f', 'size': 3}, \n",
    "        {'name': 'd', 'size': 10},\n",
    "        {'name': 'e', 'size': 5}]),\n",
    "}\n",
    "print(dijkstra('a', 'f', graph))\n"
   ]
  },
  {
   "cell_type": "code",
   "execution_count": null,
   "metadata": {},
   "outputs": [],
   "source": []
  }
 ],
 "metadata": {
  "kernelspec": {
   "display_name": "Python 3",
   "language": "python",
   "name": "python3"
  },
  "language_info": {
   "codemirror_mode": {
    "name": "ipython",
    "version": 3
   },
   "file_extension": ".py",
   "mimetype": "text/x-python",
   "name": "python",
   "nbconvert_exporter": "python",
   "pygments_lexer": "ipython3",
   "version": "3.6.5"
  }
 },
 "nbformat": 4,
 "nbformat_minor": 2
}
