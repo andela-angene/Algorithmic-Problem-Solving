{
 "cells": [
  {
   "cell_type": "markdown",
   "metadata": {},
   "source": [
    "Question: https://app.codility.com/programmers/lessons/2-arrays/odd_occurrences_in_array/\n",
    "\n",
    "100% solution: https://app.codility.com/demo/results/trainingRVEASM-9DA/"
   ]
  },
  {
   "cell_type": "code",
   "execution_count": 1,
   "metadata": {},
   "outputs": [],
   "source": [
    "from collections import Counter\n",
    "def solution(A):\n",
    "    counts = Counter(A)\n",
    "    for num, val in counts.items():\n",
    "        if val % 2 != 0:\n",
    "            return num\n",
    "\n",
    "# https://app.codility.com/demo/results/trainingRVEASM-9DA/"
   ]
  },
  {
   "cell_type": "code",
   "execution_count": 2,
   "metadata": {},
   "outputs": [],
   "source": [
    "assert solution([9, 3, 9]) == 3\n",
    "assert solution([9, 3, 9, 3, 7, 9, 9]) == 7\n",
    "assert solution([2, 2, 2]) == 2\n",
    "assert solution([2, 2, 3]) == 3\n",
    "assert solution([2]) == 2"
   ]
  },
  {
   "cell_type": "code",
   "execution_count": null,
   "metadata": {},
   "outputs": [],
   "source": []
  }
 ],
 "metadata": {
  "kernelspec": {
   "display_name": "Python 3",
   "language": "python",
   "name": "python3"
  },
  "language_info": {
   "codemirror_mode": {
    "name": "ipython",
    "version": 3
   },
   "file_extension": ".py",
   "mimetype": "text/x-python",
   "name": "python",
   "nbconvert_exporter": "python",
   "pygments_lexer": "ipython3",
   "version": "3.6.5"
  }
 },
 "nbformat": 4,
 "nbformat_minor": 2
}
