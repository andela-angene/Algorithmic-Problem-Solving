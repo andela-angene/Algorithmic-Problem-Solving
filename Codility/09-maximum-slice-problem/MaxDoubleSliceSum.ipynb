{
 "cells": [
  {
   "cell_type": "code",
   "execution_count": 47,
   "metadata": {},
   "outputs": [],
   "source": [
    "def solution(arr):\n",
    "    ln, current, max_sum = len(arr), 0, -float('inf')\n",
    "    prefix = [0] * ln\n",
    "    for i in range(1, ln - 1):\n",
    "        current = max(arr[i], current + arr[i])\n",
    "        max_sum = max(max_sum, current)\n",
    "        prefix[i] = current\n",
    "\n",
    "    max_slice = current = 0\n",
    "    for i in range(ln - 2, 0, -1):\n",
    "        max_slice = max(max_slice, current + prefix[i - 1], prefix[i - 1], current)\n",
    "        current = max(arr[i], current + arr[i])\n",
    "    return max_slice\n",
    "\n",
    "# https://app.codility.com/demo/results/trainingZ4ZSWX-GZQ/"
   ]
  },
  {
   "cell_type": "code",
   "execution_count": 48,
   "metadata": {},
   "outputs": [
    {
     "data": {
      "text/plain": [
       "17"
      ]
     },
     "execution_count": 48,
     "metadata": {},
     "output_type": "execute_result"
    }
   ],
   "source": [
    "solution([3, 2, 6, -1, 4, 5, -1, 2])  # 17"
   ]
  },
  {
   "cell_type": "code",
   "execution_count": 49,
   "metadata": {},
   "outputs": [
    {
     "name": "stdout",
     "output_type": "stream",
     "text": [
      "22\n",
      "10\n",
      "17\n",
      "17\n",
      "6\n",
      "0\n",
      "22\n",
      "2\n",
      "0\n",
      "6\n"
     ]
    }
   ],
   "source": [
    "print(solution([20, 2, 1, -3, -5, -2, 10, -2, 12, 10]))\n",
    "print(solution([0, 10, -5, -2, 0]))  # 10\n",
    "print(solution([5, 17, 0, 3]))  # 17\n",
    "\n",
    "#\n",
    "print(solution([3, 2, 6, -1, 4, 5, -1, 2]))  # 17\n",
    "print(solution([1, 2, -3, 4, 4]))  # 6\n",
    "print(solution([1, 2, -3]))  # 0\n",
    "print(solution([20, 2, 1, -3, -5, -2, 10, -2, 12, 10]))  # 22\n",
    "print(solution([1, -1, 1, -1, -1, 1, 1, 0, 1]))  # 2\n",
    "print(solution([-3, -2, -4, -5]))  # 0\n",
    "print(solution([-3, 2, 3, 3, -5]))  # 6"
   ]
  },
  {
   "cell_type": "code",
   "execution_count": 50,
   "metadata": {},
   "outputs": [
    {
     "data": {
      "text/plain": [
       "10"
      ]
     },
     "execution_count": 50,
     "metadata": {},
     "output_type": "execute_result"
    }
   ],
   "source": [
    "solution([0, 10, -5, -2, 0]) # 10"
   ]
  },
  {
   "cell_type": "code",
   "execution_count": 51,
   "metadata": {},
   "outputs": [
    {
     "data": {
      "text/plain": [
       "9"
      ]
     },
     "execution_count": 51,
     "metadata": {},
     "output_type": "execute_result"
    }
   ],
   "source": [
    "solution([2, 3, 4, 5, 5]) # 9"
   ]
  },
  {
   "cell_type": "code",
   "execution_count": 52,
   "metadata": {},
   "outputs": [
    {
     "data": {
      "text/plain": [
       "10"
      ]
     },
     "execution_count": 52,
     "metadata": {},
     "output_type": "execute_result"
    }
   ],
   "source": [
    "solution([0, -2, -5, 10, 0]) # 10"
   ]
  },
  {
   "cell_type": "code",
   "execution_count": 53,
   "metadata": {},
   "outputs": [
    {
     "data": {
      "text/plain": [
       "0"
      ]
     },
     "execution_count": 53,
     "metadata": {},
     "output_type": "execute_result"
    }
   ],
   "source": [
    "solution([4, 5, 5]) # 0"
   ]
  },
  {
   "cell_type": "code",
   "execution_count": null,
   "metadata": {},
   "outputs": [],
   "source": []
  }
 ],
 "metadata": {
  "kernelspec": {
   "display_name": "Python 3",
   "language": "python",
   "name": "python3"
  },
  "language_info": {
   "codemirror_mode": {
    "name": "ipython",
    "version": 3
   },
   "file_extension": ".py",
   "mimetype": "text/x-python",
   "name": "python",
   "nbconvert_exporter": "python",
   "pygments_lexer": "ipython3",
   "version": "3.6.5"
  }
 },
 "nbformat": 4,
 "nbformat_minor": 2
}
