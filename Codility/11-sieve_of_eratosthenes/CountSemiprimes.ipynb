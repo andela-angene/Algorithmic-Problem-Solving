{
 "cells": [
  {
   "cell_type": "code",
   "execution_count": 62,
   "metadata": {},
   "outputs": [],
   "source": [
    "def get_semi_primes(n):\n",
    "    arr, primes, i = [0] * (n + 1), [], 2\n",
    "    while i + i <= n:\n",
    "        if arr[i] is 0:\n",
    "            j = i + i\n",
    "            while j <= n:\n",
    "                arr[j] = False\n",
    "                j += i\n",
    "            primes.append(i)\n",
    "            for prime in primes:\n",
    "                semi = prime * i\n",
    "                if semi > n:\n",
    "                    break\n",
    "                arr[semi] = True\n",
    "        i += 1\n",
    "    semi_primes = 0\n",
    "    for i in range(n + 1):\n",
    "        if arr[i] is True:\n",
    "            semi_primes += 1\n",
    "        arr[i] = semi_primes\n",
    "    return arr\n",
    "\n",
    "def solution(n, p_arr, q_arr):\n",
    "    semi_primes = get_semi_primes(n)\n",
    "    result = []\n",
    "    for i in range(len(p_arr)):\n",
    "        low = p_arr[i] - 1 if p_arr[i] != 0 else 0\n",
    "        high = q_arr[i]\n",
    "        result.append(semi_primes[high] - semi_primes[low])\n",
    "    return result\n",
    "\n",
    "# https://app.codility.com/demo/results/trainingVJQSJA-DX7/"
   ]
  },
  {
   "cell_type": "code",
   "execution_count": 63,
   "metadata": {},
   "outputs": [
    {
     "data": {
      "text/plain": [
       "[10, 4, 0]"
      ]
     },
     "execution_count": 63,
     "metadata": {},
     "output_type": "execute_result"
    }
   ],
   "source": [
    "solution(26, [1, 4, 16], [26, 10, 20])"
   ]
  },
  {
   "cell_type": "code",
   "execution_count": 64,
   "metadata": {},
   "outputs": [
    {
     "data": {
      "text/plain": [
       "[0]"
      ]
     },
     "execution_count": 64,
     "metadata": {},
     "output_type": "execute_result"
    }
   ],
   "source": [
    "solution(1, [1], [1])"
   ]
  },
  {
   "cell_type": "code",
   "execution_count": 65,
   "metadata": {},
   "outputs": [
    {
     "data": {
      "text/plain": [
       "[0]"
      ]
     },
     "execution_count": 65,
     "metadata": {},
     "output_type": "execute_result"
    }
   ],
   "source": [
    "solution(26, [5], [5])"
   ]
  },
  {
   "cell_type": "code",
   "execution_count": 66,
   "metadata": {},
   "outputs": [
    {
     "data": {
      "text/plain": [
       "[1]"
      ]
     },
     "execution_count": 66,
     "metadata": {},
     "output_type": "execute_result"
    }
   ],
   "source": [
    "solution(26, [4], [4])"
   ]
  },
  {
   "cell_type": "code",
   "execution_count": null,
   "metadata": {},
   "outputs": [],
   "source": []
  }
 ],
 "metadata": {
  "kernelspec": {
   "display_name": "Python 3",
   "language": "python",
   "name": "python3"
  },
  "language_info": {
   "codemirror_mode": {
    "name": "ipython",
    "version": 3
   },
   "file_extension": ".py",
   "mimetype": "text/x-python",
   "name": "python",
   "nbconvert_exporter": "python",
   "pygments_lexer": "ipython3",
   "version": "3.6.5"
  }
 },
 "nbformat": 4,
 "nbformat_minor": 2
}
