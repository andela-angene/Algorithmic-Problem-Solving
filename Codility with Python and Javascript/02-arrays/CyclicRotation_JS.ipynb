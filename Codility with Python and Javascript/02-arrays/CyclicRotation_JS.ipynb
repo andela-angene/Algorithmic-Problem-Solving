{
 "cells": [
  {
   "cell_type": "markdown",
   "metadata": {},
   "source": [
    "Question: https://app.codility.com/programmers/lessons/2-arrays/cyclic_rotation/\n",
    "\n",
    "100% solution: https://app.codility.com/demo/results/trainingUERWV6-TKP/"
   ]
  },
  {
   "cell_type": "code",
   "execution_count": 2,
   "metadata": {},
   "outputs": [],
   "source": [
    "function solution(A, K) {\n",
    "    ln = A.length\n",
    "    if (ln < 1) return []\n",
    "    rotate = K % ln\n",
    "    result = []\n",
    "    for (let i=0; i < ln; i++) {\n",
    "        result[(i + rotate) % ln] = A[i]\n",
    "    }\n",
    "    return result\n",
    "}\n"
   ]
  },
  {
   "cell_type": "code",
   "execution_count": 8,
   "metadata": {},
   "outputs": [
    {
     "name": "stdout",
     "output_type": "stream",
     "text": [
      "[ 9, 7, 6, 3, 8 ]\n",
      "[ 6, 3, 8, 9, 7 ]\n",
      "[ 3, 8, 9, 7, 6 ]\n",
      "[ 3 ]\n",
      "[]\n"
     ]
    }
   ],
   "source": [
    "console.log(solution([3, 8, 9, 7, 6], 3))  // 9, 7, 6, 3, 8\n",
    "console.log(solution([3, 8, 9, 7, 6], 1))  // 6, 3, 8, 9, 7\n",
    "console.log(solution([3, 8, 9, 7, 6], 10))  // 3, 8, 9, 7, 6\n",
    "console.log(solution([3], 5))  // [3]\n",
    "console.log(solution([], 5))  // []"
   ]
  },
  {
   "cell_type": "code",
   "execution_count": null,
   "metadata": {},
   "outputs": [],
   "source": []
  }
 ],
 "metadata": {
  "kernelspec": {
   "display_name": "Javascript (Node.js)",
   "language": "javascript",
   "name": "javascript"
  },
  "language_info": {
   "file_extension": ".js",
   "mimetype": "application/javascript",
   "name": "javascript",
   "version": "10.7.0"
  }
 },
 "nbformat": 4,
 "nbformat_minor": 2
}
