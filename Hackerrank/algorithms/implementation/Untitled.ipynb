{
 "cells": [
  {
   "cell_type": "code",
   "execution_count": 2,
   "metadata": {},
   "outputs": [],
   "source": [
    "def grid_search(Grid, Pattern):\n",
    "    grid, R, C = Grid['val'], Grid['rows'], Grid['cols']\n",
    "    pattern, r, c = Pattern['val'], Pattern['rows'], Pattern['cols']\n",
    "    for i in range(R):\n",
    "        loc = grid[i].find(pattern[0])\n",
    "        while loc != -1:\n",
    "            complete, index = True, i\n",
    "            for j in range(1, r):\n",
    "                index += 1\n",
    "                if pattern[j] != grid[index][loc:loc + c]:\n",
    "                    complete = False\n",
    "                    break\n",
    "            if complete:\n",
    "                return 'YES'\n",
    "            else:\n",
    "                loc = grid[i].find(pattern[0], loc + 1)\n",
    "    return 'NO'"
   ]
  },
  {
   "cell_type": "code",
   "execution_count": 3,
   "metadata": {},
   "outputs": [
    {
     "data": {
      "text/plain": [
       "'YES'"
      ]
     },
     "execution_count": 3,
     "metadata": {},
     "output_type": "execute_result"
    }
   ],
   "source": [
    "aa  = \"\"\"\n",
    "7283455864\n",
    "6795058619\n",
    "8988242643\n",
    "3830589324\n",
    "2229505813\n",
    "5633845374\n",
    "6473530293\n",
    "7053106601\n",
    "0834282956\n",
    "4607924137\n",
    "\"\"\"\n",
    "bb = \"\"\"\n",
    "9505\n",
    "3845\n",
    "3530\n",
    "\"\"\"\n",
    "grid, pattern = aa.split(), bb.split()\n",
    "R, C, r, c = 10, 10, 3, 4\n",
    "Grid = {'val': grid, 'rows': R, 'cols': C}\n",
    "Pattern = {'val': pattern, 'rows': r, 'cols': c}\n",
    "grid_search(Grid, Pattern)"
   ]
  },
  {
   "cell_type": "code",
   "execution_count": 4,
   "metadata": {},
   "outputs": [
    {
     "data": {
      "text/plain": [
       "'NO'"
      ]
     },
     "execution_count": 4,
     "metadata": {},
     "output_type": "execute_result"
    }
   ],
   "source": [
    "R, C, r, c = 15, 15, 2, 2\n",
    "grid = \"\"\"\n",
    "400453592126560\n",
    "114213133098692\n",
    "474386082879648\n",
    "522356951189169\n",
    "887109450487496\n",
    "252802633388782\n",
    "502771484966748\n",
    "075975207693780\n",
    "511799789562806\n",
    "404007454272504\n",
    "549043809916080\n",
    "962410809534811\n",
    "445893523733475\n",
    "768705303214174\n",
    "650629270887160\n",
    "\"\"\".split()\n",
    "pattern = \"\"\"\n",
    "99\n",
    "99\n",
    "\"\"\".split()\n",
    "Grid = {\n",
    "    'val': grid,\n",
    "    'rows': R,\n",
    "    'cols': C\n",
    "}\n",
    "Pattern = {\n",
    "    'val': pattern,\n",
    "    'rows': r,\n",
    "    'cols': c\n",
    "}\n",
    "grid_search(Grid, Pattern)"
   ]
  },
  {
   "cell_type": "code",
   "execution_count": 5,
   "metadata": {},
   "outputs": [
    {
     "data": {
      "text/plain": [
       "'YES'"
      ]
     },
     "execution_count": 5,
     "metadata": {},
     "output_type": "execute_result"
    }
   ],
   "source": [
    "R, C, r, c = 2, 6, 2, 2\n",
    "grid = \"\"\"\n",
    "999999\n",
    "121211\n",
    "\"\"\".split()\n",
    "pattern = \"\"\"\n",
    "99\n",
    "11\n",
    "\"\"\".split()\n",
    "Grid = {\n",
    "    'val': grid,\n",
    "    'rows': R,\n",
    "    'cols': C\n",
    "}\n",
    "Pattern = {\n",
    "    'val': pattern,\n",
    "    'rows': r,\n",
    "    'cols': c\n",
    "}\n",
    "grid_search(Grid, Pattern)"
   ]
  },
  {
   "cell_type": "code",
   "execution_count": 33,
   "metadata": {},
   "outputs": [
    {
     "data": {
      "text/plain": [
       "1"
      ]
     },
     "execution_count": 33,
     "metadata": {},
     "output_type": "execute_result"
    }
   ],
   "source": [
    "a = 'a121211'\n",
    "b = '12'\n",
    "a.find(b, 1)"
   ]
  },
  {
   "cell_type": "code",
   "execution_count": null,
   "metadata": {},
   "outputs": [],
   "source": []
  }
 ],
 "metadata": {
  "kernelspec": {
   "display_name": "Python 3",
   "language": "python",
   "name": "python3"
  },
  "language_info": {
   "codemirror_mode": {
    "name": "ipython",
    "version": 3
   },
   "file_extension": ".py",
   "mimetype": "text/x-python",
   "name": "python",
   "nbconvert_exporter": "python",
   "pygments_lexer": "ipython3",
   "version": "3.6.5"
  }
 },
 "nbformat": 4,
 "nbformat_minor": 2
}
