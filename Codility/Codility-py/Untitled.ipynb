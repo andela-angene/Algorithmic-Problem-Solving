{
 "cells": [
  {
   "cell_type": "code",
   "execution_count": 7,
   "metadata": {},
   "outputs": [],
   "source": [
    "import re"
   ]
  },
  {
   "cell_type": "code",
   "execution_count": 2,
   "metadata": {},
   "outputs": [],
   "source": [
    "aa = [\n",
    "    {\n",
    "        \"details\": \"Release:Jun 15, 2018Genre:Action, Adventure, Amination, Now ShowingLanguage:English \",\n",
    "        \"duration\": \"01 hours 58 minutes\",\n",
    "        \"id\": 1,\n",
    "        \"name\": \"Incredibles 2\",\n",
    "        \"time\": \"Showtime: MON - THUR:  10:00AM, 12:20PM, 2:40PM, 4:50PM, 7:00PM\"\n",
    "    },\n",
    "    {\n",
    "        \"details\": \"Release:Jun 08, 2018Genre:Action, Adventure, Now Showing, Sci-fiLanguage:English \",\n",
    "        \"duration\": \"02 hours 08 minutes\",\n",
    "        \"id\": 2,\n",
    "        \"name\": \"JURASSIC WORLD: FALLEN KINGDOM\",\n",
    "        \"time\": \"Showtime: FRI - THUR: 10:00AM, 12:20PM, 2:40PM, 5:00PM, 7:20PM, 9:40PM\"\n",
    "    },\n",
    "    {\n",
    "        \"details\": \"Release:May 17, 2018Genre:Action, Adventure, Comedy, Now ShowingLanguage:English\",\n",
    "        \"duration\": \"01 hours 59 minutes\",\n",
    "        \"id\": 3,\n",
    "        \"name\": \"Deadpool 2\",\n",
    "        \"time\": \"Showtime: FRI - THUR: 12:50PM, 12:50PM, 6:30PM, 9:20PM\"\n",
    "    },\n",
    "    {\n",
    "        \"details\": \"Release:Apr 27, 2018Genre:Action, Adventure, Now ShowingLanguage:English \",\n",
    "        \"duration\": \"02 hours 29 minutes\",\n",
    "        \"id\": 4,\n",
    "        \"name\": \"Avengers : Infinity War\",\n",
    "        \"time\": \"Showtime: MON - THUR: 10:00AM, 3:20PM, 4:30PM\"\n",
    "    },\n",
    "    {\n",
    "        \"details\": \"Release:Jun 15, 2018Genre:Action, Adventure, Drama, Now ShowingLanguage:English \",\n",
    "        \"duration\": \"01 hours 36 minutes\",\n",
    "        \"id\": 5,\n",
    "        \"name\": \"ADRIFT\",\n",
    "        \"time\": \"Showtime: MON - THUR:  12:30PM, 2:30PM, 7:30PM, 9:30PM\"\n",
    "    },\n",
    "    {\n",
    "        \"details\": \"Release:Mar 23, 2018Genre:Adventure, Amination, ComedyLanguage:English \",\n",
    "        \"duration\": \"01 hours 26 minutes\",\n",
    "        \"id\": 6,\n",
    "        \"name\": \"Sherlock Gnomes\",\n",
    "        \"time\": \"Showtime: FRI - THUR:  10:00AM\"\n",
    "    },\n",
    "    {\n",
    "        \"details\": \"Release:Jun 01, 2018Genre:Now Showing, ThrillerLanguage:English \",\n",
    "        \"duration\": \"01 hours 36 minutes\",\n",
    "        \"id\": 7,\n",
    "        \"name\": \"TRAFFIK\",\n",
    "        \"time\": \"Showtime: MON:  4:30PM, 9:30PM\"\n",
    "    },\n",
    "    {\n",
    "        \"details\": \"Release:May 25, 2018Genre:Action, AdventureLanguage:English \",\n",
    "        \"duration\": \"02 hours 15 minutes\",\n",
    "        \"id\": 8,\n",
    "        \"name\": \"SOLO : A STAR WARS STORY\",\n",
    "        \"time\": \"Showtime: FRI - THUR:  10:00AM\"\n",
    "    },\n",
    "    {\n",
    "        \"details\": \"Release:Jun 08, 2018Genre:Action, DramaLanguage:English \",\n",
    "        \"duration\": \"01 hours 50 minutes\",\n",
    "        \"id\": 9,\n",
    "        \"name\": \"Samson\",\n",
    "        \"time\": \"Showtime: MON:  12:30PM, 2:30PM\"\n",
    "    },\n",
    "    {\n",
    "        \"details\": \"Release:May 11, 2018Genre:Action, Crime, DramaLanguage:English \",\n",
    "        \"duration\": \"01 hours 28 minutes\",\n",
    "        \"id\": 10,\n",
    "        \"name\": \"Breaking In\",\n",
    "        \"time\": \"Showtime: TUE - THUR :  7:00PM\"\n",
    "    }\n",
    "]"
   ]
  },
  {
   "cell_type": "code",
   "execution_count": 3,
   "metadata": {},
   "outputs": [
    {
     "data": {
      "text/plain": [
       "[{'details': 'Release:Jun 15, 2018Genre:Action, Adventure, Amination, Now ShowingLanguage:English ',\n",
       "  'duration': '01 hours 58 minutes',\n",
       "  'id': 1,\n",
       "  'name': 'Incredibles 2',\n",
       "  'time': 'Showtime: MON - THUR:  10:00AM, 12:20PM, 2:40PM, 4:50PM, 7:00PM'},\n",
       " {'details': 'Release:Jun 08, 2018Genre:Action, Adventure, Now Showing, Sci-fiLanguage:English ',\n",
       "  'duration': '02 hours 08 minutes',\n",
       "  'id': 2,\n",
       "  'name': 'JURASSIC WORLD: FALLEN KINGDOM',\n",
       "  'time': 'Showtime: FRI - THUR: 10:00AM, 12:20PM, 2:40PM, 5:00PM, 7:20PM, 9:40PM'},\n",
       " {'details': 'Release:May 17, 2018Genre:Action, Adventure, Comedy, Now ShowingLanguage:English',\n",
       "  'duration': '01 hours 59 minutes',\n",
       "  'id': 3,\n",
       "  'name': 'Deadpool 2',\n",
       "  'time': 'Showtime: FRI - THUR: 12:50PM, 12:50PM, 6:30PM, 9:20PM'},\n",
       " {'details': 'Release:Apr 27, 2018Genre:Action, Adventure, Now ShowingLanguage:English ',\n",
       "  'duration': '02 hours 29 minutes',\n",
       "  'id': 4,\n",
       "  'name': 'Avengers : Infinity War',\n",
       "  'time': 'Showtime: MON - THUR: 10:00AM, 3:20PM, 4:30PM'},\n",
       " {'details': 'Release:Jun 15, 2018Genre:Action, Adventure, Drama, Now ShowingLanguage:English ',\n",
       "  'duration': '01 hours 36 minutes',\n",
       "  'id': 5,\n",
       "  'name': 'ADRIFT',\n",
       "  'time': 'Showtime: MON - THUR:  12:30PM, 2:30PM, 7:30PM, 9:30PM'},\n",
       " {'details': 'Release:Mar 23, 2018Genre:Adventure, Amination, ComedyLanguage:English ',\n",
       "  'duration': '01 hours 26 minutes',\n",
       "  'id': 6,\n",
       "  'name': 'Sherlock Gnomes',\n",
       "  'time': 'Showtime: FRI - THUR:  10:00AM'},\n",
       " {'details': 'Release:Jun 01, 2018Genre:Now Showing, ThrillerLanguage:English ',\n",
       "  'duration': '01 hours 36 minutes',\n",
       "  'id': 7,\n",
       "  'name': 'TRAFFIK',\n",
       "  'time': 'Showtime: MON:  4:30PM, 9:30PM'},\n",
       " {'details': 'Release:May 25, 2018Genre:Action, AdventureLanguage:English ',\n",
       "  'duration': '02 hours 15 minutes',\n",
       "  'id': 8,\n",
       "  'name': 'SOLO : A STAR WARS STORY',\n",
       "  'time': 'Showtime: FRI - THUR:  10:00AM'},\n",
       " {'details': 'Release:Jun 08, 2018Genre:Action, DramaLanguage:English ',\n",
       "  'duration': '01 hours 50 minutes',\n",
       "  'id': 9,\n",
       "  'name': 'Samson',\n",
       "  'time': 'Showtime: MON:  12:30PM, 2:30PM'},\n",
       " {'details': 'Release:May 11, 2018Genre:Action, Crime, DramaLanguage:English ',\n",
       "  'duration': '01 hours 28 minutes',\n",
       "  'id': 10,\n",
       "  'name': 'Breaking In',\n",
       "  'time': 'Showtime: TUE - THUR :  7:00PM'}]"
      ]
     },
     "execution_count": 3,
     "metadata": {},
     "output_type": "execute_result"
    }
   ],
   "source": [
    "aa"
   ]
  },
  {
   "cell_type": "code",
   "execution_count": 6,
   "metadata": {},
   "outputs": [
    {
     "data": {
      "text/plain": [
       "[{'details': 'Release:Jun 15, 2018Genre:Action, Adventure, Drama, Now ShowingLanguage:English ',\n",
       "  'duration': '01 hours 36 minutes',\n",
       "  'id': 5,\n",
       "  'name': 'ADRIFT',\n",
       "  'time': 'Showtime: MON - THUR:  12:30PM, 2:30PM, 7:30PM, 9:30PM'},\n",
       " {'details': 'Release:Apr 27, 2018Genre:Action, Adventure, Now ShowingLanguage:English ',\n",
       "  'duration': '02 hours 29 minutes',\n",
       "  'id': 4,\n",
       "  'name': 'Avengers : Infinity War',\n",
       "  'time': 'Showtime: MON - THUR: 10:00AM, 3:20PM, 4:30PM'},\n",
       " {'details': 'Release:May 11, 2018Genre:Action, Crime, DramaLanguage:English ',\n",
       "  'duration': '01 hours 28 minutes',\n",
       "  'id': 10,\n",
       "  'name': 'Breaking In',\n",
       "  'time': 'Showtime: TUE - THUR :  7:00PM'},\n",
       " {'details': 'Release:May 17, 2018Genre:Action, Adventure, Comedy, Now ShowingLanguage:English',\n",
       "  'duration': '01 hours 59 minutes',\n",
       "  'id': 3,\n",
       "  'name': 'Deadpool 2',\n",
       "  'time': 'Showtime: FRI - THUR: 12:50PM, 12:50PM, 6:30PM, 9:20PM'},\n",
       " {'details': 'Release:Jun 15, 2018Genre:Action, Adventure, Amination, Now ShowingLanguage:English ',\n",
       "  'duration': '01 hours 58 minutes',\n",
       "  'id': 1,\n",
       "  'name': 'Incredibles 2',\n",
       "  'time': 'Showtime: MON - THUR:  10:00AM, 12:20PM, 2:40PM, 4:50PM, 7:00PM'},\n",
       " {'details': 'Release:Jun 08, 2018Genre:Action, Adventure, Now Showing, Sci-fiLanguage:English ',\n",
       "  'duration': '02 hours 08 minutes',\n",
       "  'id': 2,\n",
       "  'name': 'JURASSIC WORLD: FALLEN KINGDOM',\n",
       "  'time': 'Showtime: FRI - THUR: 10:00AM, 12:20PM, 2:40PM, 5:00PM, 7:20PM, 9:40PM'},\n",
       " {'details': 'Release:May 25, 2018Genre:Action, AdventureLanguage:English ',\n",
       "  'duration': '02 hours 15 minutes',\n",
       "  'id': 8,\n",
       "  'name': 'SOLO : A STAR WARS STORY',\n",
       "  'time': 'Showtime: FRI - THUR:  10:00AM'},\n",
       " {'details': 'Release:Jun 08, 2018Genre:Action, DramaLanguage:English ',\n",
       "  'duration': '01 hours 50 minutes',\n",
       "  'id': 9,\n",
       "  'name': 'Samson',\n",
       "  'time': 'Showtime: MON:  12:30PM, 2:30PM'},\n",
       " {'details': 'Release:Mar 23, 2018Genre:Adventure, Amination, ComedyLanguage:English ',\n",
       "  'duration': '01 hours 26 minutes',\n",
       "  'id': 6,\n",
       "  'name': 'Sherlock Gnomes',\n",
       "  'time': 'Showtime: FRI - THUR:  10:00AM'},\n",
       " {'details': 'Release:Jun 01, 2018Genre:Now Showing, ThrillerLanguage:English ',\n",
       "  'duration': '01 hours 36 minutes',\n",
       "  'id': 7,\n",
       "  'name': 'TRAFFIK',\n",
       "  'time': 'Showtime: MON:  4:30PM, 9:30PM'}]"
      ]
     },
     "execution_count": 6,
     "metadata": {},
     "output_type": "execute_result"
    }
   ],
   "source": [
    "sorted(aa, key=lambda x: x['name'])"
   ]
  },
  {
   "cell_type": "code",
   "execution_count": 15,
   "metadata": {},
   "outputs": [
    {
     "data": {
      "text/plain": [
       "'FRI'"
      ]
     },
     "execution_count": 15,
     "metadata": {},
     "output_type": "execute_result"
    }
   ],
   "source": []
  },
  {
   "cell_type": "code",
   "execution_count": 61,
   "metadata": {},
   "outputs": [],
   "source": [
    "def get_earliest_movie_date(movie_time):\n",
    "    days = ['MON', 'TUE', 'WED', 'THUR', 'FRI']\n",
    "\n",
    "    day = re.search(r'{}'.format('|'.join(days)), str(movie_time)).group()\n",
    "    start_time = re.search(r'(\\d+):(\\d+)(AM|PM)', str(movie_time)).groups()\n",
    "    return days.index(day), start_time[2], int(start_time[0]), int(start_time[1])"
   ]
  },
  {
   "cell_type": "code",
   "execution_count": 62,
   "metadata": {},
   "outputs": [
    {
     "data": {
      "text/plain": [
       "(4, 'PM', 12, 50)"
      ]
     },
     "execution_count": 62,
     "metadata": {},
     "output_type": "execute_result"
    }
   ],
   "source": [
    "get_earliest_movie_date(aa[2])"
   ]
  },
  {
   "cell_type": "code",
   "execution_count": null,
   "metadata": {},
   "outputs": [],
   "source": [
    "get_earliest_movie_date(aa[2])\n",
    "aa.append({'details': 'Release:Jun 15, 2018Genre:Action, Adventure, Amination, Now ShowingLanguage:English ',\n",
    "  'duration': '01 hours 58 minutes',\n",
    "  'id': 1,\n",
    "  'name': 'Incredibles 2',\n",
    "  'time': 'Showtime: MON - THUR:  9:00AM, 12:20PM, 2:40PM, 4:50PM, 7:00PM'})\n",
    "\n",
    "aa"
   ]
  },
  {
   "cell_type": "code",
   "execution_count": 64,
   "metadata": {},
   "outputs": [
    {
     "data": {
      "text/plain": [
       "[{'details': 'Release:Jun 15, 2018Genre:Action, Adventure, Amination, Now ShowingLanguage:English ',\n",
       "  'duration': '01 hours 58 minutes',\n",
       "  'id': 1,\n",
       "  'name': 'Incredibles 2',\n",
       "  'time': 'Showtime: MON - THUR:  9:00AM, 12:20PM, 2:40PM, 4:50PM, 7:00PM'},\n",
       " {'details': 'Release:Jun 15, 2018Genre:Action, Adventure, Amination, Now ShowingLanguage:English ',\n",
       "  'duration': '01 hours 58 minutes',\n",
       "  'id': 1,\n",
       "  'name': 'Incredibles 2',\n",
       "  'time': 'Showtime: MON - THUR:  9:00AM, 12:20PM, 2:40PM, 4:50PM, 7:00PM'},\n",
       " {'details': 'Release:Jun 15, 2018Genre:Action, Adventure, Amination, Now ShowingLanguage:English ',\n",
       "  'duration': '01 hours 58 minutes',\n",
       "  'id': 1,\n",
       "  'name': 'Incredibles 2',\n",
       "  'time': 'Showtime: MON - THUR:  9:00AM, 12:20PM, 2:40PM, 4:50PM, 7:00PM'},\n",
       " {'details': 'Release:Jun 15, 2018Genre:Action, Adventure, Amination, Now ShowingLanguage:English ',\n",
       "  'duration': '01 hours 58 minutes',\n",
       "  'id': 1,\n",
       "  'name': 'Incredibles 2',\n",
       "  'time': 'Showtime: MON - THUR:  10:00AM, 12:20PM, 2:40PM, 4:50PM, 7:00PM'},\n",
       " {'details': 'Release:Apr 27, 2018Genre:Action, Adventure, Now ShowingLanguage:English ',\n",
       "  'duration': '02 hours 29 minutes',\n",
       "  'id': 4,\n",
       "  'name': 'Avengers : Infinity War',\n",
       "  'time': 'Showtime: MON - THUR: 10:00AM, 3:20PM, 4:30PM'},\n",
       " {'details': 'Release:Jun 01, 2018Genre:Now Showing, ThrillerLanguage:English ',\n",
       "  'duration': '01 hours 36 minutes',\n",
       "  'id': 7,\n",
       "  'name': 'TRAFFIK',\n",
       "  'time': 'Showtime: MON:  4:30PM, 9:30PM'},\n",
       " {'details': 'Release:Jun 15, 2018Genre:Action, Adventure, Drama, Now ShowingLanguage:English ',\n",
       "  'duration': '01 hours 36 minutes',\n",
       "  'id': 5,\n",
       "  'name': 'ADRIFT',\n",
       "  'time': 'Showtime: MON - THUR:  12:30PM, 2:30PM, 7:30PM, 9:30PM'},\n",
       " {'details': 'Release:Jun 08, 2018Genre:Action, DramaLanguage:English ',\n",
       "  'duration': '01 hours 50 minutes',\n",
       "  'id': 9,\n",
       "  'name': 'Samson',\n",
       "  'time': 'Showtime: MON:  12:30PM, 2:30PM'},\n",
       " {'details': 'Release:May 11, 2018Genre:Action, Crime, DramaLanguage:English ',\n",
       "  'duration': '01 hours 28 minutes',\n",
       "  'id': 10,\n",
       "  'name': 'Breaking In',\n",
       "  'time': 'Showtime: TUE - THUR :  7:00PM'},\n",
       " {'details': 'Release:Jun 08, 2018Genre:Action, Adventure, Now Showing, Sci-fiLanguage:English ',\n",
       "  'duration': '02 hours 08 minutes',\n",
       "  'id': 2,\n",
       "  'name': 'JURASSIC WORLD: FALLEN KINGDOM',\n",
       "  'time': 'Showtime: FRI - THUR: 10:00AM, 12:20PM, 2:40PM, 5:00PM, 7:20PM, 9:40PM'},\n",
       " {'details': 'Release:Mar 23, 2018Genre:Adventure, Amination, ComedyLanguage:English ',\n",
       "  'duration': '01 hours 26 minutes',\n",
       "  'id': 6,\n",
       "  'name': 'Sherlock Gnomes',\n",
       "  'time': 'Showtime: FRI - THUR:  10:00AM'},\n",
       " {'details': 'Release:May 25, 2018Genre:Action, AdventureLanguage:English ',\n",
       "  'duration': '02 hours 15 minutes',\n",
       "  'id': 8,\n",
       "  'name': 'SOLO : A STAR WARS STORY',\n",
       "  'time': 'Showtime: FRI - THUR:  10:00AM'},\n",
       " {'details': 'Release:May 17, 2018Genre:Action, Adventure, Comedy, Now ShowingLanguage:English',\n",
       "  'duration': '01 hours 59 minutes',\n",
       "  'id': 3,\n",
       "  'name': 'Deadpool 2',\n",
       "  'time': 'Showtime: FRI - THUR: 12:50PM, 12:50PM, 6:30PM, 9:20PM'}]"
      ]
     },
     "execution_count": 64,
     "metadata": {},
     "output_type": "execute_result"
    }
   ],
   "source": [
    "sorted(aa, key=lambda movie: get_earliest_movie_date(movie))"
   ]
  },
  {
   "cell_type": "code",
   "execution_count": null,
   "metadata": {},
   "outputs": [],
   "source": []
  }
 ],
 "metadata": {
  "kernelspec": {
   "display_name": "Python 3",
   "language": "python",
   "name": "python3"
  },
  "language_info": {
   "codemirror_mode": {
    "name": "ipython",
    "version": 3
   },
   "file_extension": ".py",
   "mimetype": "text/x-python",
   "name": "python",
   "nbconvert_exporter": "python",
   "pygments_lexer": "ipython3",
   "version": "3.6.5"
  }
 },
 "nbformat": 4,
 "nbformat_minor": 2
}
