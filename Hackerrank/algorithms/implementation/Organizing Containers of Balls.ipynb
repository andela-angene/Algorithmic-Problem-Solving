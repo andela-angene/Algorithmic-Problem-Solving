{
 "cells": [
  {
   "cell_type": "code",
   "execution_count": 5,
   "metadata": {
    "collapsed": true
   },
   "outputs": [],
   "source": [
    "def organize_balls(n, balls):\n",
    "    ball_sums = [0] * n\n",
    "    container_cap = []\n",
    "\n",
    "    for items in balls:\n",
    "        container_cap.append(sum(items))\n",
    "        for i in range(len(items)):\n",
    "            ball_sums[i] += items[i]\n",
    "\n",
    "    possible = sorted(ball_sums) == sorted(container_cap)\n",
    "    return 'Possible' if possible else 'Impossible'"
   ]
  },
  {
   "cell_type": "code",
   "execution_count": 6,
   "metadata": {},
   "outputs": [
    {
     "data": {
      "text/plain": [
       "'Possible'"
      ]
     },
     "execution_count": 6,
     "metadata": {},
     "output_type": "execute_result"
    }
   ],
   "source": [
    "n = 2\n",
    "balls = [\n",
    "    [1, 1],\n",
    "    [1, 1]\n",
    "]\n",
    "organize_balls(n, balls)"
   ]
  },
  {
   "cell_type": "code",
   "execution_count": 7,
   "metadata": {},
   "outputs": [
    {
     "data": {
      "text/plain": [
       "'Possible'"
      ]
     },
     "execution_count": 7,
     "metadata": {},
     "output_type": "execute_result"
    }
   ],
   "source": [
    "n = 3\n",
    "balls = [\n",
    "    [2, 4, 2],\n",
    "    [5, 2, 3],\n",
    "    [3, 2, 1]\n",
    "]\n",
    "organize_balls(n, balls)"
   ]
  },
  {
   "cell_type": "code",
   "execution_count": 8,
   "metadata": {},
   "outputs": [
    {
     "data": {
      "text/plain": [
       "'Impossible'"
      ]
     },
     "execution_count": 8,
     "metadata": {},
     "output_type": "execute_result"
    }
   ],
   "source": [
    "n = 2\n",
    "balls = [\n",
    "    [0, 2],\n",
    "    [1, 1]\n",
    "]\n",
    "organize_balls(n, balls)"
   ]
  },
  {
   "cell_type": "code",
   "execution_count": null,
   "metadata": {
    "collapsed": true
   },
   "outputs": [],
   "source": []
  }
 ],
 "metadata": {
  "kernelspec": {
   "display_name": "Python 3",
   "language": "python",
   "name": "python3"
  },
  "language_info": {
   "codemirror_mode": {
    "name": "ipython",
    "version": 3
   },
   "file_extension": ".py",
   "mimetype": "text/x-python",
   "name": "python",
   "nbconvert_exporter": "python",
   "pygments_lexer": "ipython3",
   "version": "3.6.3"
  }
 },
 "nbformat": 4,
 "nbformat_minor": 2
}
