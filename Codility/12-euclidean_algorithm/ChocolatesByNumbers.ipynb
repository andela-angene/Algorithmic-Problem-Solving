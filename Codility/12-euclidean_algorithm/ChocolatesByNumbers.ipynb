{
 "cells": [
  {
   "cell_type": "code",
   "execution_count": 34,
   "metadata": {},
   "outputs": [],
   "source": [
    "def solution(m, n):\n",
    "    result, choc, i = 0, [False]*m, 0\n",
    "    for _ in range(m + 1):\n",
    "        if choc[i]:\n",
    "            return result\n",
    "        choc[i] = True\n",
    "        result += 1\n",
    "        i = (i + n) % m\n",
    "# (50%) https://app.codility.com/demo/results/trainingRHP7B5-73C/\n",
    "\n",
    "def solution(m, n):\n",
    "    old_m = m\n",
    "    while n >= 1:\n",
    "        if m % n == 0:\n",
    "            return old_m // n\n",
    "        m = m % n\n",
    "        n, m = m, n\n",
    "# https://app.codility.com/demo/results/trainingQQ5T7S-XHM/"
   ]
  },
  {
   "cell_type": "code",
   "execution_count": 35,
   "metadata": {},
   "outputs": [
    {
     "data": {
      "text/plain": [
       "5"
      ]
     },
     "execution_count": 35,
     "metadata": {},
     "output_type": "execute_result"
    }
   ],
   "source": [
    "solution(10, 4)"
   ]
  },
  {
   "cell_type": "code",
   "execution_count": 36,
   "metadata": {},
   "outputs": [
    {
     "data": {
      "text/plain": [
       "13"
      ]
     },
     "execution_count": 36,
     "metadata": {},
     "output_type": "execute_result"
    }
   ],
   "source": [
    "solution(13, 5)"
   ]
  },
  {
   "cell_type": "code",
   "execution_count": null,
   "metadata": {},
   "outputs": [],
   "source": []
  }
 ],
 "metadata": {
  "kernelspec": {
   "display_name": "Python 3",
   "language": "python",
   "name": "python3"
  },
  "language_info": {
   "codemirror_mode": {
    "name": "ipython",
    "version": 3
   },
   "file_extension": ".py",
   "mimetype": "text/x-python",
   "name": "python",
   "nbconvert_exporter": "python",
   "pygments_lexer": "ipython3",
   "version": "3.6.5"
  }
 },
 "nbformat": 4,
 "nbformat_minor": 2
}
