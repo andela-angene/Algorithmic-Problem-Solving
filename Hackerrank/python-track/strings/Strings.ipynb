{
 "cells": [
  {
   "cell_type": "code",
   "execution_count": 1,
   "metadata": {
    "collapsed": true
   },
   "outputs": [],
   "source": [
    "import textwrap"
   ]
  },
  {
   "cell_type": "code",
   "execution_count": 3,
   "metadata": {},
   "outputs": [
    {
     "name": "stdout",
     "output_type": "stream",
     "text": [
      "ABCD\n",
      "EFGH\n",
      "IJKL\n",
      "IMNO\n",
      "QRST\n",
      "UVWX\n",
      "YZ\n"
     ]
    }
   ],
   "source": [
    "txt = 'ABCDEFGHIJKLIMNOQRSTUVWXYZ'\n",
    "print(textwrap.fill(txt, 4))"
   ]
  },
  {
   "cell_type": "code",
   "execution_count": null,
   "metadata": {
    "collapsed": true
   },
   "outputs": [],
   "source": []
  },
  {
   "cell_type": "markdown",
   "metadata": {},
   "source": [
    "# Designer Door Mat"
   ]
  },
  {
   "cell_type": "code",
   "execution_count": 32,
   "metadata": {},
   "outputs": [
    {
     "name": "stdout",
     "output_type": "stream",
     "text": [
      "---------.|.---------\n",
      "------.|..|..|.------\n",
      "---.|..|..|..|..|.---\n",
      "-------WELCOME-------\n",
      "---.|..|..|..|..|.---\n",
      "------.|..|..|.------\n",
      "---------.|.---------\n"
     ]
    }
   ],
   "source": [
    "N, M = 7, 21\n",
    "# mid = n // 2 + 1\n",
    "# odd = 1\n",
    "# for i in range(1, mid):\n",
    "#     print(('.|.' * odd).center(tr, '-'))\n",
    "#     odd += 2\n",
    "# print('WELCOME'.center(tr, '-'))\n",
    "# for i in range(1, mid):\n",
    "#     odd -= 2\n",
    "#     print(('.|.' * odd).center(tr, '-'))\n",
    "    \n",
    "for i in range(1,N,2): \n",
    "    print (('.|.' * i).center(M, '-'))\n",
    "print('WELCOME'.center(M, '-'))\n",
    "for i in range(N-2,-1,-2): \n",
    "    print (('.|.' * i).center(M, '-'))\n",
    "    "
   ]
  },
  {
   "cell_type": "code",
   "execution_count": 20,
   "metadata": {},
   "outputs": [
    {
     "data": {
      "text/plain": [
       "7"
      ]
     },
     "execution_count": 20,
     "metadata": {},
     "output_type": "execute_result"
    }
   ],
   "source": [
    "1 + (4 - 1)* 2"
   ]
  },
  {
   "cell_type": "markdown",
   "metadata": {},
   "source": [
    "# String Formatting"
   ]
  },
  {
   "cell_type": "code",
   "execution_count": 35,
   "metadata": {},
   "outputs": [
    {
     "data": {
      "text/plain": [
       "'21'"
      ]
     },
     "execution_count": 35,
     "metadata": {},
     "output_type": "execute_result"
    }
   ],
   "source": [
    "oct(17)[2:]"
   ]
  },
  {
   "cell_type": "code",
   "execution_count": 38,
   "metadata": {},
   "outputs": [
    {
     "data": {
      "text/plain": [
       "'0o21 '"
      ]
     },
     "execution_count": 38,
     "metadata": {},
     "output_type": "execute_result"
    }
   ],
   "source": [
    "'{:5}'.format(oct(17))"
   ]
  },
  {
   "cell_type": "code",
   "execution_count": 41,
   "metadata": {},
   "outputs": [
    {
     "data": {
      "text/plain": [
       "'11'"
      ]
     },
     "execution_count": 41,
     "metadata": {},
     "output_type": "execute_result"
    }
   ],
   "source": [
    "hex(17)[2:]"
   ]
  },
  {
   "cell_type": "code",
   "execution_count": 43,
   "metadata": {},
   "outputs": [
    {
     "data": {
      "text/plain": [
       "'10001'"
      ]
     },
     "execution_count": 43,
     "metadata": {},
     "output_type": "execute_result"
    }
   ],
   "source": [
    "bin(17)[2:]"
   ]
  },
  {
   "cell_type": "code",
   "execution_count": 66,
   "metadata": {},
   "outputs": [
    {
     "name": "stdout",
     "output_type": "stream",
     "text": [
      "     1     1     1     1\n",
      "     2     2     2    10\n",
      "     3     3     3    11\n",
      "     4     4     4   100\n",
      "     5     5     5   101\n",
      "     6     6     6   110\n",
      "     7     7     7   111\n",
      "     8    10     8  1000\n",
      "     9    11     9  1001\n",
      "    10    12     A  1010\n",
      "    11    13     B  1011\n",
      "    12    14     C  1100\n",
      "    13    15     D  1101\n",
      "    14    16     E  1110\n",
      "    15    17     F  1111\n",
      "    16    20    10 10000\n",
      "    17    21    11 10001\n"
     ]
    }
   ],
   "source": [
    "n = 17\n",
    "width = len(str(bin(n)[2:])) + 1\n",
    "for i in range(1, n + 1):\n",
    "    deci = str(i).rjust(width, ' ')\n",
    "    octal = str(oct(i)[2:]).rjust(width, ' ')\n",
    "    hexa = str(hex(i)[2:]).rjust(width, ' ').upper()\n",
    "    binary = str(bin(i)[2:]).rjust(width, ' ')\n",
    "    \n",
    "    print(deci + octal + hexa + binary)"
   ]
  },
  {
   "cell_type": "code",
   "execution_count": 52,
   "metadata": {},
   "outputs": [
    {
     "data": {
      "text/plain": [
       "5"
      ]
     },
     "execution_count": 52,
     "metadata": {},
     "output_type": "execute_result"
    }
   ],
   "source": [
    "len(str(bin(17)[2:]))"
   ]
  },
  {
   "cell_type": "code",
   "execution_count": null,
   "metadata": {
    "collapsed": true
   },
   "outputs": [],
   "source": []
  },
  {
   "cell_type": "markdown",
   "metadata": {
    "collapsed": true
   },
   "source": [
    "# Alphabet Rangoli"
   ]
  },
  {
   "cell_type": "code",
   "execution_count": 106,
   "metadata": {},
   "outputs": [
    {
     "name": "stdout",
     "output_type": "stream",
     "text": [
      "----------f----------\n",
      "--------f-e-f--------\n",
      "------f-e-d-e-f------\n",
      "----f-e-d-c-d-e-f----\n",
      "--f-e-d-c-b-c-d-e-f--\n",
      "f-e-d-c-b-a-b-c-d-e-f\n",
      "--f-e-d-c-b-c-d-e-f--\n",
      "----f-e-d-c-d-e-f----\n",
      "------f-e-d-e-f------\n",
      "--------f-e-f--------\n",
      "----------f----------\n"
     ]
    }
   ],
   "source": [
    "n, letters = 6, []\n",
    "width = 4 * n - 3\n",
    "\n",
    "for i in range(n, 0, -1):\n",
    "    c = chr(96 + i)\n",
    "    text = '-'.join(letters + [c] + list(reversed(letters)))\n",
    "    print(text.center(width, '-'))\n",
    "    letters.append(c)\n",
    "for i in range(n - 1):\n",
    "    letters.pop()\n",
    "    text = '-'.join(letters + list(reversed(letters))[1:])\n",
    "    print(text.center(width, '-'))\n",
    "    "
   ]
  },
  {
   "cell_type": "code",
   "execution_count": 108,
   "metadata": {},
   "outputs": [
    {
     "data": {
      "text/plain": [
       "'abcdefghijklmnopqrstuvwxyz'"
      ]
     },
     "execution_count": 108,
     "metadata": {},
     "output_type": "execute_result"
    }
   ],
   "source": [
    "string.ascii_lowercase"
   ]
  },
  {
   "cell_type": "code",
   "execution_count": 107,
   "metadata": {},
   "outputs": [
    {
     "name": "stdout",
     "output_type": "stream",
     "text": [
      "4\n",
      "------d------\n",
      "----d-c-d----\n",
      "--d-c-b-c-d--\n",
      "d-c-b-a-b-c-d\n",
      "--d-c-b-c-d--\n",
      "----d-c-d----\n",
      "------d------\n"
     ]
    }
   ],
   "source": [
    "import string\n",
    "alpha = string.ascii_lowercase\n",
    "\n",
    "n = int(input())\n",
    "L = []\n",
    "for i in range(n):\n",
    "    s = \"-\".join(alpha[i:n])\n",
    "    L.append((s[::-1]+s[1:]).center(4*n-3, \"-\"))\n",
    "print('\\n'.join(L[:0:-1]+L))"
   ]
  },
  {
   "cell_type": "code",
   "execution_count": null,
   "metadata": {
    "collapsed": true
   },
   "outputs": [],
   "source": [
    "----------f----------\n",
    "--------f-e-f--------\n",
    "------f-e-d-e-f------\n",
    "----f-e-d-c-d-e-f----\n",
    "--f-e-d-c-b-c-d-e-f--\n",
    "f-e-d-c-b-a-b-c-d-e-f\n",
    "--f-e-d-c-b-c-d-e-f--\n",
    "----f-e-d-c-d-e-f----\n",
    "------f-e-d-e-f------\n",
    "--------f-e-f--------\n",
    "----------f----------\n",
    "\n",
    "----------f----------\n",
    "--------f-e-f--------\n",
    "------f-e-d-e-f------\n",
    "----f-e-d-c-d-e-f----\n",
    "--f-e-d-c-b-c-d-e-f--\n",
    "f-e-d-c-b-a-b-c-d-e-f\n",
    "--f-e-d-c-b-c-d-e-f--\n",
    "----f-e-d-c-d-e-f----\n",
    "------f-e-d-e-f------\n",
    "--------f-e-f--------\n",
    "----------f----------"
   ]
  },
  {
   "cell_type": "code",
   "execution_count": null,
   "metadata": {
    "collapsed": true
   },
   "outputs": [],
   "source": []
  },
  {
   "cell_type": "code",
   "execution_count": 118,
   "metadata": {},
   "outputs": [
    {
     "data": {
      "text/plain": [
       "'Sdf      32kdsf  Sdffd'"
      ]
     },
     "execution_count": 118,
     "metadata": {},
     "output_type": "execute_result"
    }
   ],
   "source": [
    "a = 'sdf      32kdsf  sdffd'\n",
    "(' '.join([t.capitalize() for t in a.split(' ')]))"
   ]
  },
  {
   "cell_type": "code",
   "execution_count": 19,
   "metadata": {},
   "outputs": [
    {
     "name": "stdout",
     "output_type": "stream",
     "text": [
      "Stuart 12\n"
     ]
    }
   ],
   "source": [
    "vowels =  set('AEIOU')\n",
    "stuart, kevin = [0, 'Stuart'], [0, 'Kevin']\n",
    "word = 'BANANA'\n",
    "ln = len(word)\n",
    "\n",
    "for i in range(ln):\n",
    "    if word[i] in vowels:\n",
    "        kevin[0] += ln - i\n",
    "    else:\n",
    "        stuart[0] += ln - i\n",
    "        \n",
    "if stuart[0] == kevin[0]:\n",
    "    print('Draw')\n",
    "else:\n",
    "    winner = stuart if stuart[0] > kevin[0] else kevin\n",
    "    print(winner[1], winner[0])"
   ]
  },
  {
   "cell_type": "code",
   "execution_count": 17,
   "metadata": {},
   "outputs": [
    {
     "data": {
      "text/plain": [
       "3"
      ]
     },
     "execution_count": 17,
     "metadata": {},
     "output_type": "execute_result"
    }
   ],
   "source": [
    "6 - 3"
   ]
  },
  {
   "cell_type": "markdown",
   "metadata": {},
   "source": [
    "# Merge the Tools!"
   ]
  },
  {
   "cell_type": "code",
   "execution_count": 30,
   "metadata": {},
   "outputs": [],
   "source": [
    "def merge_tools(word, n):\n",
    "    for i in range(0, len(word), n):\n",
    "        sub = list(word[i:i + n])\n",
    "        result = ''\n",
    "        unique = set()\n",
    "        for c in sub:\n",
    "            if c not in unique:\n",
    "                unique.add(c)\n",
    "                result += c\n",
    "        print(result)"
   ]
  },
  {
   "cell_type": "code",
   "execution_count": 31,
   "metadata": {},
   "outputs": [
    {
     "name": "stdout",
     "output_type": "stream",
     "text": [
      "AB\n",
      "CA\n",
      "AD\n"
     ]
    }
   ],
   "source": [
    "merge_tools('AABCAAADA', 3)"
   ]
  },
  {
   "cell_type": "code",
   "execution_count": 32,
   "metadata": {},
   "outputs": [
    {
     "name": "stdout",
     "output_type": "stream",
     "text": [
      "ZAFE\n",
      "EZ\n"
     ]
    }
   ],
   "source": [
    "merge_tools('ZAFEEEZE', 4)"
   ]
  },
  {
   "cell_type": "code",
   "execution_count": 35,
   "metadata": {},
   "outputs": [
    {
     "name": "stdout",
     "output_type": "stream",
     "text": [
      "e\n",
      "a\n"
     ]
    }
   ],
   "source": [
    "merge_tools('ea', 1)"
   ]
  },
  {
   "cell_type": "code",
   "execution_count": 43,
   "metadata": {},
   "outputs": [
    {
     "name": "stdout",
     "output_type": "stream",
     "text": [
      "{'H', 'a', 'e', 'k', 'n', 'c', 'R', 'r'}\n"
     ]
    }
   ],
   "source": [
    "print(set('HackerRank'))"
   ]
  },
  {
   "cell_type": "markdown",
   "metadata": {},
   "source": [
    "# Intro to Sets"
   ]
  },
  {
   "cell_type": "code",
   "execution_count": 46,
   "metadata": {},
   "outputs": [
    {
     "name": "stdout",
     "output_type": "stream",
     "text": [
      "169.375\n"
     ]
    }
   ],
   "source": [
    "distinct = set([int(i) for i in '161 182 161 154 176 170 167 171 170 174'.split()])\n",
    "\n",
    "print(sum(distinct)/len(distinct))"
   ]
  },
  {
   "cell_type": "code",
   "execution_count": null,
   "metadata": {
    "collapsed": true
   },
   "outputs": [],
   "source": []
  }
 ],
 "metadata": {
  "kernelspec": {
   "display_name": "Python 3",
   "language": "python",
   "name": "python3"
  },
  "language_info": {
   "codemirror_mode": {
    "name": "ipython",
    "version": 3
   },
   "file_extension": ".py",
   "mimetype": "text/x-python",
   "name": "python",
   "nbconvert_exporter": "python",
   "pygments_lexer": "ipython3",
   "version": "3.6.3"
  }
 },
 "nbformat": 4,
 "nbformat_minor": 2
}
