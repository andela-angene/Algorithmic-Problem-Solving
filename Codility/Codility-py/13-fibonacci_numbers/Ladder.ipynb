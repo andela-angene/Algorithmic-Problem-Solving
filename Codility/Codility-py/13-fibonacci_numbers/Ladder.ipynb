{
 "cells": [
  {
   "cell_type": "code",
   "execution_count": 3,
   "metadata": {},
   "outputs": [],
   "source": [
    "from collections import deque\n",
    "def brute(n):\n",
    "    queue = deque([1, 2])\n",
    "    steps = 0\n",
    "    while queue:\n",
    "        i = queue.popleft()\n",
    "        if i > n:\n",
    "            continue\n",
    "        if i == n:\n",
    "            steps += 1\n",
    "            continue\n",
    "        queue.append(i + 1)\n",
    "        queue.append(i + 2)\n",
    "    return steps"
   ]
  },
  {
   "cell_type": "code",
   "execution_count": 13,
   "metadata": {},
   "outputs": [
    {
     "data": {
      "text/plain": [
       "21"
      ]
     },
     "execution_count": 13,
     "metadata": {},
     "output_type": "execute_result"
    }
   ],
   "source": [
    "brute(7) # 1, 2, 3, 5, 8, 13, 21 (fibonacci)"
   ]
  },
  {
   "cell_type": "code",
   "execution_count": 91,
   "metadata": {},
   "outputs": [],
   "source": [
    "def get_fibs(n, mod):\n",
    "    fibs = [1, 1]\n",
    "    for i in range(1, n):\n",
    "        fibs.append((fibs[i] + fibs[i - 1]) % mod)\n",
    "    return fibs\n",
    "    \n",
    "def solution(arr, brr):\n",
    "    ln = len(arr)\n",
    "    fibs = get_fibs(ln, 2**30)\n",
    "    return [fibs[arr[i]] % 2**brr[i] for i in range(ln)]\n",
    "\n",
    "# (37%): https://app.codility.com/demo/results/training9FWWEU-UH6/\n",
    "# (100%): https://app.codility.com/demo/results/trainingEP8ZWQ-MQK/"
   ]
  },
  {
   "cell_type": "code",
   "execution_count": 92,
   "metadata": {},
   "outputs": [
    {
     "data": {
      "text/plain": [
       "[5, 1, 8, 0, 1]"
      ]
     },
     "execution_count": 92,
     "metadata": {},
     "output_type": "execute_result"
    }
   ],
   "source": [
    "solution([4,4,5,5,1], [3,2,4,3,1]) # [5,1,8,0,1]"
   ]
  },
  {
   "cell_type": "code",
   "execution_count": null,
   "metadata": {},
   "outputs": [],
   "source": []
  },
  {
   "cell_type": "code",
   "execution_count": null,
   "metadata": {},
   "outputs": [],
   "source": []
  }
 ],
 "metadata": {
  "kernelspec": {
   "display_name": "Python 3",
   "language": "python",
   "name": "python3"
  },
  "language_info": {
   "codemirror_mode": {
    "name": "ipython",
    "version": 3
   },
   "file_extension": ".py",
   "mimetype": "text/x-python",
   "name": "python",
   "nbconvert_exporter": "python",
   "pygments_lexer": "ipython3",
   "version": "3.6.5"
  }
 },
 "nbformat": 4,
 "nbformat_minor": 2
}
