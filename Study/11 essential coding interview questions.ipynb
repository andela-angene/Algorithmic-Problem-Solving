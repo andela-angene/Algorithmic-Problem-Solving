{
 "cells": [
  {
   "cell_type": "code",
   "execution_count": 38,
   "metadata": {},
   "outputs": [],
   "source": [
    "# Find two numbers in an array that add up to n\n",
    "# numbers in the array are unique\n",
    "def find_two(arr, n):\n",
    "    seen = set(arr)\n",
    "    for first in arr:\n",
    "        second_float = n / first\n",
    "        second = int(second_float)\n",
    "        if second_float == second and second in seen and second != first:\n",
    "            return first, second\n",
    "    return -1"
   ]
  },
  {
   "cell_type": "code",
   "execution_count": 39,
   "metadata": {},
   "outputs": [
    {
     "data": {
      "text/plain": [
       "(4, 5)"
      ]
     },
     "execution_count": 39,
     "metadata": {},
     "output_type": "execute_result"
    }
   ],
   "source": [
    "find_two([3, 4, -2, 5, 6], 20)"
   ]
  },
  {
   "cell_type": "code",
   "execution_count": 40,
   "metadata": {},
   "outputs": [
    {
     "data": {
      "text/plain": [
       "(5, 6)"
      ]
     },
     "execution_count": 40,
     "metadata": {},
     "output_type": "execute_result"
    }
   ],
   "source": [
    "find_two([3, 4, -2, 5, 6], 30)"
   ]
  },
  {
   "cell_type": "code",
   "execution_count": 41,
   "metadata": {},
   "outputs": [
    {
     "data": {
      "text/plain": [
       "-1"
      ]
     },
     "execution_count": 41,
     "metadata": {},
     "output_type": "execute_result"
    }
   ],
   "source": [
    "find_two([3, 4, -2, 5, 6], 70)"
   ]
  },
  {
   "cell_type": "code",
   "execution_count": 42,
   "metadata": {},
   "outputs": [],
   "source": [
    "# Find three numbers in an array that add up to n\n",
    "# numbers in the array are unique\n",
    "def find_three(arr, n):\n",
    "    seen = set(arr)\n",
    "    for first in arr:\n",
    "        product = n / first\n",
    "        if product == int(product):\n",
    "            for second in arr:\n",
    "                third_float = product / second\n",
    "                third = int(third_float)\n",
    "                if second != first and third_float == third and third in seen:\n",
    "                    return first, second, third\n",
    "    return -1"
   ]
  },
  {
   "cell_type": "code",
   "execution_count": 43,
   "metadata": {},
   "outputs": [
    {
     "data": {
      "text/plain": [
       "(4, 5, 1)"
      ]
     },
     "execution_count": 43,
     "metadata": {},
     "output_type": "execute_result"
    }
   ],
   "source": [
    "find_three([3, 4, -2, 5, 6, 1], 20)"
   ]
  },
  {
   "cell_type": "code",
   "execution_count": 44,
   "metadata": {},
   "outputs": [
    {
     "data": {
      "text/plain": [
       "-1"
      ]
     },
     "execution_count": 44,
     "metadata": {},
     "output_type": "execute_result"
    }
   ],
   "source": [
    "find_three([3, 4, -2, 5, 6, 1], 21)"
   ]
  },
  {
   "cell_type": "code",
   "execution_count": 45,
   "metadata": {},
   "outputs": [
    {
     "data": {
      "text/plain": [
       "(-2, 5, -5)"
      ]
     },
     "execution_count": 45,
     "metadata": {},
     "output_type": "execute_result"
    }
   ],
   "source": [
    "find_three([3, 4, -2, 5, 6, 1, -5], 50)"
   ]
  },
  {
   "cell_type": "code",
   "execution_count": null,
   "metadata": {},
   "outputs": [],
   "source": []
  },
  {
   "cell_type": "code",
   "execution_count": 61,
   "metadata": {},
   "outputs": [],
   "source": [
    "from collections import Counter\n",
    "def most_frequent(arr):\n",
    "    arr = Counter(arr)\n",
    "    most_common = {'val': None, 'count': 0}\n",
    "    for num in arr:\n",
    "        if arr[num] > most_common['count']:\n",
    "            most_common['val'] = num\n",
    "            most_common['count'] = arr[num]\n",
    "    return most_common['val']"
   ]
  },
  {
   "cell_type": "code",
   "execution_count": 62,
   "metadata": {},
   "outputs": [
    {
     "data": {
      "text/plain": [
       "1"
      ]
     },
     "execution_count": 62,
     "metadata": {},
     "output_type": "execute_result"
    }
   ],
   "source": [
    "most_frequent([1,3,1,3,2,1]) # 1"
   ]
  },
  {
   "cell_type": "code",
   "execution_count": 66,
   "metadata": {},
   "outputs": [
    {
     "data": {
      "text/plain": [
       "5"
      ]
     },
     "execution_count": 66,
     "metadata": {},
     "output_type": "execute_result"
    }
   ],
   "source": [
    "most_frequent([4,4,5,6,5,3,5,3]) # 5"
   ]
  },
  {
   "cell_type": "code",
   "execution_count": null,
   "metadata": {},
   "outputs": [],
   "source": []
  },
  {
   "cell_type": "code",
   "execution_count": 73,
   "metadata": {},
   "outputs": [],
   "source": [
    "def common_elements(arr_a, arr_b):\n",
    "    \"\"\"Given two sorted arrays, return common elements between the two arrays.\"\"\"\n",
    "    arr_b = set(arr_b)\n",
    "    common = []\n",
    "    for item in arr_a:\n",
    "        if item in arr_b:\n",
    "            common.append(item)\n",
    "    return common"
   ]
  },
  {
   "cell_type": "code",
   "execution_count": 74,
   "metadata": {},
   "outputs": [
    {
     "data": {
      "text/plain": [
       "[1, 4, 9]"
      ]
     },
     "execution_count": 74,
     "metadata": {},
     "output_type": "execute_result"
    }
   ],
   "source": [
    "common_elements([1,3,4,6,7,9], [1,2,4,5,9,10])"
   ]
  },
  {
   "cell_type": "code",
   "execution_count": null,
   "metadata": {},
   "outputs": [],
   "source": []
  },
  {
   "cell_type": "code",
   "execution_count": 98,
   "metadata": {},
   "outputs": [],
   "source": [
    "def is_rotation(arr_a, arr_b):\n",
    "    \"\"\"Return True if arr_a is a rotation of arr_b\n",
    "    (both contain the same elements in the same order but may start at different indices)\n",
    "    \"\"\"\n",
    "    if len(arr_a) != len(arr_b) or arr_a[0] not in arr_b:\n",
    "        return False\n",
    "    ln = len(arr_a)\n",
    "    i = arr_b.index(arr_a[0])\n",
    "    j = 0\n",
    "    while j < ln:\n",
    "        if arr_a[j] != arr_b[i % ln]:\n",
    "            return False\n",
    "        i += 1\n",
    "        j += 1\n",
    "    return True"
   ]
  },
  {
   "cell_type": "code",
   "execution_count": 101,
   "metadata": {},
   "outputs": [
    {
     "data": {
      "text/plain": [
       "True"
      ]
     },
     "execution_count": 101,
     "metadata": {},
     "output_type": "execute_result"
    }
   ],
   "source": [
    "is_rotation([1,2,3,4,5,6,7], [4,5,6,7,1,2,3]) # True"
   ]
  },
  {
   "cell_type": "code",
   "execution_count": 102,
   "metadata": {},
   "outputs": [
    {
     "data": {
      "text/plain": [
       "False"
      ]
     },
     "execution_count": 102,
     "metadata": {},
     "output_type": "execute_result"
    }
   ],
   "source": [
    "is_rotation([1,2,3,4,5,6,7], [4,5,6,7,1,3,2])  # False"
   ]
  },
  {
   "cell_type": "code",
   "execution_count": 103,
   "metadata": {},
   "outputs": [
    {
     "data": {
      "text/plain": [
       "False"
      ]
     },
     "execution_count": 103,
     "metadata": {},
     "output_type": "execute_result"
    }
   ],
   "source": [
    "is_rotation([1], [4,5,6,7,1,3,2])  # False"
   ]
  },
  {
   "cell_type": "code",
   "execution_count": 104,
   "metadata": {},
   "outputs": [
    {
     "data": {
      "text/plain": [
       "True"
      ]
     },
     "execution_count": 104,
     "metadata": {},
     "output_type": "execute_result"
    }
   ],
   "source": [
    "is_rotation(['a', 'c', 'd'], ['c', 'd', 'a']) # True"
   ]
  },
  {
   "cell_type": "code",
   "execution_count": 105,
   "metadata": {},
   "outputs": [
    {
     "data": {
      "text/plain": [
       "False"
      ]
     },
     "execution_count": 105,
     "metadata": {},
     "output_type": "execute_result"
    }
   ],
   "source": [
    "is_rotation(['3'], ['4'])"
   ]
  },
  {
   "cell_type": "code",
   "execution_count": null,
   "metadata": {},
   "outputs": [],
   "source": []
  },
  {
   "cell_type": "code",
   "execution_count": 116,
   "metadata": {},
   "outputs": [],
   "source": [
    "from collections import Counter\n",
    "def non_repeating(string):\n",
    "    \"\"\"Return a non repeating character\"\"\"\n",
    "    counts = Counter(string)\n",
    "    singles = []\n",
    "    for char in string:\n",
    "        if counts[char] == 1:\n",
    "            singles.append(char)\n",
    "    if singles:\n",
    "        return singles[0]\n",
    "    return None"
   ]
  },
  {
   "cell_type": "code",
   "execution_count": 117,
   "metadata": {},
   "outputs": [
    {
     "data": {
      "text/plain": [
       "'c'"
      ]
     },
     "execution_count": 117,
     "metadata": {},
     "output_type": "execute_result"
    }
   ],
   "source": [
    "non_repeating('aabcb') # c"
   ]
  },
  {
   "cell_type": "code",
   "execution_count": 118,
   "metadata": {},
   "outputs": [
    {
     "data": {
      "text/plain": [
       "'y'"
      ]
     },
     "execution_count": 118,
     "metadata": {},
     "output_type": "execute_result"
    }
   ],
   "source": [
    "non_repeating('xxyz') # y"
   ]
  },
  {
   "cell_type": "code",
   "execution_count": 119,
   "metadata": {},
   "outputs": [],
   "source": [
    "non_repeating('aabb') # None"
   ]
  },
  {
   "cell_type": "code",
   "execution_count": null,
   "metadata": {},
   "outputs": [],
   "source": []
  },
  {
   "cell_type": "code",
   "execution_count": null,
   "metadata": {},
   "outputs": [],
   "source": []
  },
  {
   "cell_type": "code",
   "execution_count": 157,
   "metadata": {},
   "outputs": [],
   "source": [
    "def one_edit_away(str_a, str_b):\n",
    "    \"\"\"Return True if the two strings are one edit(change, delete or add) away from being equal,\n",
    "    else reutn False\"\"\"\n",
    "    lna, lnb = len(str_a), len(str_b)\n",
    "    if abs(lna - lnb) > 1:\n",
    "        return False\n",
    "    edited = False\n",
    "    equal = True if lna == lnb else False\n",
    "    if lna < lnb:\n",
    "        str_a, str_b = str_b, str_a\n",
    "    j = 0\n",
    "    for i in range(lna):\n",
    "        if str_a[i] != str_b[j]:\n",
    "            if edited:\n",
    "                return False\n",
    "            else:\n",
    "                edited = True\n",
    "                if not equal:\n",
    "                    j -= 1\n",
    "        j += 1\n",
    "    return True"
   ]
  },
  {
   "cell_type": "code",
   "execution_count": 158,
   "metadata": {},
   "outputs": [
    {
     "name": "stdout",
     "output_type": "stream",
     "text": [
      "True\n",
      "True\n",
      "False\n"
     ]
    }
   ],
   "source": [
    "print(one_edit_away('abcde', 'abfde')) # True\n",
    "print(one_edit_away('abfde', 'abfde')) # True\n",
    "print(one_edit_away('abcde', 'abfdg')) # False"
   ]
  },
  {
   "cell_type": "code",
   "execution_count": 159,
   "metadata": {},
   "outputs": [
    {
     "data": {
      "text/plain": [
       "True"
      ]
     },
     "execution_count": 159,
     "metadata": {},
     "output_type": "execute_result"
    }
   ],
   "source": [
    "one_edit_away('abcde', 'abde') # True"
   ]
  },
  {
   "cell_type": "code",
   "execution_count": 160,
   "metadata": {},
   "outputs": [
    {
     "data": {
      "text/plain": [
       "False"
      ]
     },
     "execution_count": 160,
     "metadata": {},
     "output_type": "execute_result"
    }
   ],
   "source": [
    "one_edit_away('abcdef', 'abf') # False"
   ]
  },
  {
   "cell_type": "code",
   "execution_count": 161,
   "metadata": {},
   "outputs": [
    {
     "data": {
      "text/plain": [
       "True"
      ]
     },
     "execution_count": 161,
     "metadata": {},
     "output_type": "execute_result"
    }
   ],
   "source": [
    "one_edit_away('xyz', 'xyaz') # True"
   ]
  },
  {
   "cell_type": "code",
   "execution_count": null,
   "metadata": {},
   "outputs": [],
   "source": []
  },
  {
   "cell_type": "code",
   "execution_count": 187,
   "metadata": {},
   "outputs": [],
   "source": [
    "from itertools import permutations\n",
    "\n",
    "def get_valid_neighbours(locatoin, rows, cols):\n",
    "    x, y = locatoin\n",
    "    neighbours = list(permutations([1,0,-1], 2)) + [(-1, -1), (1, 1)]\n",
    "    neighbours = [(x + i, y + j) for i, j in neighbours if (0 <= x + i < rows and 0 <= y + j < cols)]\n",
    "    return neighbours\n",
    "\n",
    "def mine_sweeper(bombs, rows, cols):\n",
    "    matrix = []\n",
    "    for _ in range(rows):\n",
    "        matrix.append([0]*cols)\n",
    "    for bomb in bombs:\n",
    "        x, y = bomb\n",
    "        matrix[x][y] = -1\n",
    "        for neighbour in get_valid_neighbours([x, y], rows, cols):\n",
    "            i, j = neighbour\n",
    "            if matrix[i][j] != -1:\n",
    "                matrix[i][j] += 1\n",
    "        \n",
    "    return matrix"
   ]
  },
  {
   "cell_type": "code",
   "execution_count": 191,
   "metadata": {},
   "outputs": [],
   "source": [
    "def mine_sweeper(bombs, rows, cols):\n",
    "    matrix = []\n",
    "    for _ in range(rows):\n",
    "        matrix.append([0]*cols)\n",
    "    for bomb in bombs:\n",
    "        x, y = bomb\n",
    "        matrix[x][y] = -1\n",
    "        for i in [x-1, x, x+1]:\n",
    "            for j in [y-1, y, y+1]:\n",
    "                if 0 <= i < rows and 0 <=j < cols and matrix[i][j] != -1:\n",
    "                    matrix[i][j] += 1\n",
    "    return matrix"
   ]
  },
  {
   "cell_type": "code",
   "execution_count": 192,
   "metadata": {},
   "outputs": [
    {
     "data": {
      "text/plain": [
       "[[-1, -1, 1, 0], [2, 2, 1, 0], [0, 0, 0, 0]]"
      ]
     },
     "execution_count": 192,
     "metadata": {},
     "output_type": "execute_result"
    }
   ],
   "source": [
    "mine_sweeper([[0,0], [0,1]], 3, 4) # [[-1,-1,1,0], [2,2,1,0], [0,0,0,0]]"
   ]
  },
  {
   "cell_type": "code",
   "execution_count": 184,
   "metadata": {},
   "outputs": [],
   "source": []
  },
  {
   "cell_type": "code",
   "execution_count": 199,
   "metadata": {},
   "outputs": [],
   "source": [
    "def reveal_click(field, rows, cols, i, j):\n",
    "    if field[i][j] == 0:\n",
    "        reveal = [(i,j)]\n",
    "        while reveal:\n",
    "            i,j = reveal.pop()\n",
    "            field[i][j] = -2\n",
    "            for x in [i-1, i, i+1]:\n",
    "                for y in [j-1, j, j+1]:\n",
    "                    if 0 <= x < rows and 0 <= y < cols and field[x][y] == 0:\n",
    "                        reveal.append((x, y))\n",
    "    return field"
   ]
  },
  {
   "cell_type": "code",
   "execution_count": 200,
   "metadata": {},
   "outputs": [
    {
     "data": {
      "text/plain": [
       "[[-2, -2, -2, -2, -2], [-2, 1, 1, 1, -2], [-2, 1, -1, 1, -2]]"
      ]
     },
     "execution_count": 200,
     "metadata": {},
     "output_type": "execute_result"
    }
   ],
   "source": [
    "field = [[0,0,0,0,0], [0,1,1,1,0], [0,1,-1,1,0]]\n",
    "reveal_click(field, 3, 5, 0, 1) # [[-2,-2,-2,-2,-2], [-2,1,1,1,-2], [-2,1,-1,1,-2]]"
   ]
  },
  {
   "cell_type": "code",
   "execution_count": 201,
   "metadata": {},
   "outputs": [
    {
     "data": {
      "text/plain": [
       "[[-1, 1, 0, 0], [1, 1, 0, 0], [0, 0, 1, 1], [0, 0, 1, -1]]"
      ]
     },
     "execution_count": 201,
     "metadata": {},
     "output_type": "execute_result"
    }
   ],
   "source": [
    "field = [[-1, 1, 0, 0], [1,1,0,0], [0,0,1,1], [0,0,1,-1]]\n",
    "reveal_click(field, 4, 4, 0, 0)"
   ]
  },
  {
   "cell_type": "code",
   "execution_count": 202,
   "metadata": {},
   "outputs": [
    {
     "data": {
      "text/plain": [
       "[[-1, 1, -2, -2], [1, 1, -2, -2], [-2, -2, 1, 1], [-2, -2, 1, -1]]"
      ]
     },
     "execution_count": 202,
     "metadata": {},
     "output_type": "execute_result"
    }
   ],
   "source": [
    "reveal_click(field, 4, 4, 0, 3)"
   ]
  },
  {
   "cell_type": "code",
   "execution_count": null,
   "metadata": {},
   "outputs": [],
   "source": []
  },
  {
   "cell_type": "code",
   "execution_count": 208,
   "metadata": {},
   "outputs": [],
   "source": [
    "def rotate_matrix(matrix, n):\n",
    "    rotated = []\n",
    "    for _ in range(n):\n",
    "        rotated.append([0]*n)\n",
    "    for row in range(n):\n",
    "        col = n - row - 1\n",
    "        for i in range(n):\n",
    "            rotated[i][col] = matrix[row][i]\n",
    "    return rotated"
   ]
  },
  {
   "cell_type": "code",
   "execution_count": 209,
   "metadata": {},
   "outputs": [
    {
     "data": {
      "text/plain": [
       "[[7, 4, 1], [8, 5, 2], [9, 6, 3]]"
      ]
     },
     "execution_count": 209,
     "metadata": {},
     "output_type": "execute_result"
    }
   ],
   "source": [
    "rotate_matrix([[1,2,3], [4,5,6], [7,8,9]], 3) # [[7,4,1], [8,5,2], [9,6,3]]"
   ]
  },
  {
   "cell_type": "code",
   "execution_count": null,
   "metadata": {},
   "outputs": [],
   "source": []
  },
  {
   "cell_type": "code",
   "execution_count": 226,
   "metadata": {},
   "outputs": [],
   "source": [
    "class Node:\n",
    "    def __init__(self, value, next_=None):\n",
    "        self.value = value\n",
    "        self.next = next_\n",
    "    def show_chain(self):\n",
    "        if self.next:\n",
    "            return '{} -> {}'.format(self.value, self.next.show_chain())\n",
    "        return str(self)\n",
    "    def __repr__(self):\n",
    "        return '{}'.format(self.value)"
   ]
  },
  {
   "cell_type": "code",
   "execution_count": 253,
   "metadata": {},
   "outputs": [],
   "source": [
    "# linked list\n",
    "def nth_from_end(head, num):\n",
    "    point1 = point2 = head\n",
    "    for _ in range(num):\n",
    "        if point2:\n",
    "            point2 = point2.next\n",
    "        else:\n",
    "            return 'None'\n",
    "    while point2:\n",
    "        point2 = point2.next\n",
    "        point1 = point1.next\n",
    "    return point1"
   ]
  },
  {
   "cell_type": "code",
   "execution_count": 254,
   "metadata": {},
   "outputs": [
    {
     "data": {
      "text/plain": [
       "'a -> b -> c -> d -> e'"
      ]
     },
     "execution_count": 254,
     "metadata": {},
     "output_type": "execute_result"
    }
   ],
   "source": [
    "head = Node('a', Node('b', Node('c', Node('d', Node('e')))))\n",
    "head.show_chain()"
   ]
  },
  {
   "cell_type": "code",
   "execution_count": 255,
   "metadata": {},
   "outputs": [
    {
     "data": {
      "text/plain": [
       "c"
      ]
     },
     "execution_count": 255,
     "metadata": {},
     "output_type": "execute_result"
    }
   ],
   "source": [
    "nth_from_end(head, 3) # c"
   ]
  },
  {
   "cell_type": "code",
   "execution_count": 256,
   "metadata": {},
   "outputs": [
    {
     "data": {
      "text/plain": [
       "'5 -> 4 -> 3 -> 2 -> 1'"
      ]
     },
     "execution_count": 256,
     "metadata": {},
     "output_type": "execute_result"
    }
   ],
   "source": [
    "head = Node(5, Node(4, Node(3, Node(2, Node(1)))))\n",
    "head.show_chain()"
   ]
  },
  {
   "cell_type": "code",
   "execution_count": 257,
   "metadata": {},
   "outputs": [
    {
     "data": {
      "text/plain": [
       "3"
      ]
     },
     "execution_count": 257,
     "metadata": {},
     "output_type": "execute_result"
    }
   ],
   "source": [
    "nth_from_end(head, 3) # 3"
   ]
  },
  {
   "cell_type": "code",
   "execution_count": 258,
   "metadata": {},
   "outputs": [
    {
     "data": {
      "text/plain": [
       "'None'"
      ]
     },
     "execution_count": 258,
     "metadata": {},
     "output_type": "execute_result"
    }
   ],
   "source": [
    "nth_from_end(head, 6)"
   ]
  },
  {
   "cell_type": "code",
   "execution_count": 259,
   "metadata": {},
   "outputs": [
    {
     "data": {
      "text/plain": [
       "'1 -> 2 -> 3'"
      ]
     },
     "execution_count": 259,
     "metadata": {},
     "output_type": "execute_result"
    }
   ],
   "source": [
    "head = Node(1, Node(2, Node(3)))\n",
    "head.show_chain()"
   ]
  },
  {
   "cell_type": "code",
   "execution_count": 260,
   "metadata": {},
   "outputs": [
    {
     "data": {
      "text/plain": [
       "3"
      ]
     },
     "execution_count": 260,
     "metadata": {},
     "output_type": "execute_result"
    }
   ],
   "source": [
    "nth_from_end(head, 1) # 3"
   ]
  },
  {
   "cell_type": "code",
   "execution_count": 261,
   "metadata": {},
   "outputs": [
    {
     "data": {
      "text/plain": [
       "'None'"
      ]
     },
     "execution_count": 261,
     "metadata": {},
     "output_type": "execute_result"
    }
   ],
   "source": [
    "nth_from_end(None, 1) # None"
   ]
  },
  {
   "cell_type": "code",
   "execution_count": null,
   "metadata": {},
   "outputs": [],
   "source": []
  },
  {
   "cell_type": "code",
   "execution_count": 271,
   "metadata": {},
   "outputs": [],
   "source": [
    "class Node:\n",
    "    def __init__(self, value, left=None, right=None):\n",
    "        self.value = value\n",
    "        self.left = left\n",
    "        self.right = right\n",
    "    def show_chain(self):\n",
    "        if not self.left and not self.right:\n",
    "            return str(self.value)\n",
    "        left = right = ''\n",
    "        if self.left:\n",
    "            left = self.left.show_chain()\n",
    "        if self.right:\n",
    "            right = self.right.show_chain()\n",
    "        return '{} -> ({}, {})'.format(self.value, left, right)\n",
    "    def __repr__(self):\n",
    "        return 'Node: {}'.format(self.value)"
   ]
  },
  {
   "cell_type": "code",
   "execution_count": 290,
   "metadata": {},
   "outputs": [],
   "source": [
    "def pre_order_traversal(head, nodes):\n",
    "    if head:\n",
    "        pre_order_traversal(head.left, nodes)\n",
    "        nodes.append(head.value)\n",
    "        pre_order_traversal(head.right, nodes)\n",
    "    return nodes\n",
    "\n",
    "def is_binary_search_tree(head):\n",
    "    nodes = pre_order_traversal(head, [])\n",
    "    print(nodes)\n",
    "    return nodes == list(sorted(nodes))"
   ]
  },
  {
   "cell_type": "code",
   "execution_count": 294,
   "metadata": {},
   "outputs": [
    {
     "name": "stdout",
     "output_type": "stream",
     "text": [
      "3 -> (1 -> (0, 2), 5 -> (4, 6))\n",
      "[0, 1, 2, 3, 4, 5, 6]\n"
     ]
    },
    {
     "data": {
      "text/plain": [
       "True"
      ]
     },
     "execution_count": 294,
     "metadata": {},
     "output_type": "execute_result"
    }
   ],
   "source": [
    "headA = Node(3, Node(1, Node(0), Node(2)), Node(5, Node(4), Node(6)))\n",
    "print(headA.show_chain())\n",
    "is_binary_search_tree(headA) # True"
   ]
  },
  {
   "cell_type": "code",
   "execution_count": 295,
   "metadata": {},
   "outputs": [
    {
     "name": "stdout",
     "output_type": "stream",
     "text": [
      "4 -> (1 -> (0, 3), 2)\n",
      "[0, 1, 3, 4, 2]\n"
     ]
    },
    {
     "data": {
      "text/plain": [
       "False"
      ]
     },
     "execution_count": 295,
     "metadata": {},
     "output_type": "execute_result"
    }
   ],
   "source": [
    "headB = Node(4, Node(1, Node(0), Node(3)), Node(2))\n",
    "print(headB.show_chain())\n",
    "is_binary_search_tree(headB) # False"
   ]
  },
  {
   "cell_type": "code",
   "execution_count": 296,
   "metadata": {},
   "outputs": [
    {
     "name": "stdout",
     "output_type": "stream",
     "text": [
      "4 -> (1 -> (0, 2), 5 -> (3, 6))\n",
      "[0, 1, 2, 4, 3, 5, 6]\n"
     ]
    },
    {
     "data": {
      "text/plain": [
       "False"
      ]
     },
     "execution_count": 296,
     "metadata": {},
     "output_type": "execute_result"
    }
   ],
   "source": [
    "headC = Node(4, Node(1, Node(0), Node(2)), Node(5, Node(3), Node(6)))\n",
    "print(headC.show_chain())\n",
    "is_binary_search_tree(headC) # False"
   ]
  },
  {
   "cell_type": "code",
   "execution_count": null,
   "metadata": {},
   "outputs": [],
   "source": []
  },
  {
   "cell_type": "code",
   "execution_count": 351,
   "metadata": {},
   "outputs": [],
   "source": [
    "def get_lowest_common_ancestor(head, num1, num2):\n",
    "    if not head:\n",
    "        return [False, False]\n",
    "    \n",
    "    left = get_lowest_common_ancestor(head.left, num1, num2)\n",
    "    right = get_lowest_common_ancestor(head.right, num1, num2)\n",
    "    if type(left) == int:\n",
    "        return left\n",
    "    if type(right) == int:\n",
    "        return right\n",
    "    \n",
    "    result = [left[0] or right[0], left[1] or right[1]]\n",
    "    if result[0] and result[1]:\n",
    "        return head.value\n",
    "    if head.value == num1:\n",
    "        result[0] = True\n",
    "    if head.value == num2:\n",
    "        result[1] = True\n",
    "    return result\n",
    "\n",
    "def lowest_common_ancestor(head, num1, num2):\n",
    "    result = get_lowest_common_ancestor(head, num1, num2)\n",
    "    return result if type(result) == int else 'None'"
   ]
  },
  {
   "cell_type": "code",
   "execution_count": 352,
   "metadata": {},
   "outputs": [
    {
     "name": "stdout",
     "output_type": "stream",
     "text": [
      "5 -> (1 -> (3 -> (6, 7), 8), 4 -> (9, 2))\n"
     ]
    },
    {
     "data": {
      "text/plain": [
       "1"
      ]
     },
     "execution_count": 352,
     "metadata": {},
     "output_type": "execute_result"
    }
   ],
   "source": [
    "head = Node(5, Node(1, Node(3, Node(6), Node(7)), Node(8)), Node(4, Node(9), Node(2)))\n",
    "print(head.show_chain())\n",
    "get_lowest_common_ancestor(head, 8, 7) # 1"
   ]
  },
  {
   "cell_type": "code",
   "execution_count": 353,
   "metadata": {},
   "outputs": [
    {
     "data": {
      "text/plain": [
       "3"
      ]
     },
     "execution_count": 353,
     "metadata": {},
     "output_type": "execute_result"
    }
   ],
   "source": [
    "lowest_common_ancestor(head, 6, 7) # 3"
   ]
  },
  {
   "cell_type": "code",
   "execution_count": 354,
   "metadata": {},
   "outputs": [
    {
     "data": {
      "text/plain": [
       "4"
      ]
     },
     "execution_count": 354,
     "metadata": {},
     "output_type": "execute_result"
    }
   ],
   "source": [
    "lowest_common_ancestor(head, 9, 2) # 4"
   ]
  },
  {
   "cell_type": "code",
   "execution_count": 355,
   "metadata": {},
   "outputs": [
    {
     "data": {
      "text/plain": [
       "5"
      ]
     },
     "execution_count": 355,
     "metadata": {},
     "output_type": "execute_result"
    }
   ],
   "source": [
    "lowest_common_ancestor(head, 4, 2) # 5"
   ]
  },
  {
   "cell_type": "code",
   "execution_count": 356,
   "metadata": {},
   "outputs": [
    {
     "data": {
      "text/plain": [
       "'None'"
      ]
     },
     "execution_count": 356,
     "metadata": {},
     "output_type": "execute_result"
    }
   ],
   "source": [
    "lowest_common_ancestor(head, 5, 2) # None"
   ]
  },
  {
   "cell_type": "code",
   "execution_count": 357,
   "metadata": {},
   "outputs": [
    {
     "data": {
      "text/plain": [
       "'None'"
      ]
     },
     "execution_count": 357,
     "metadata": {},
     "output_type": "execute_result"
    }
   ],
   "source": [
    "lowest_common_ancestor(head, 10, 2) # None"
   ]
  },
  {
   "cell_type": "code",
   "execution_count": 361,
   "metadata": {},
   "outputs": [],
   "source": [
    "st = 'kewek'\n"
   ]
  },
  {
   "cell_type": "code",
   "execution_count": 362,
   "metadata": {},
   "outputs": [
    {
     "data": {
      "text/plain": [
       "True"
      ]
     },
     "execution_count": 362,
     "metadata": {},
     "output_type": "execute_result"
    }
   ],
   "source": [
    "st == st[::-1]"
   ]
  },
  {
   "cell_type": "markdown",
   "metadata": {},
   "source": [
    "## https://leetcode.com\n",
    "## examples"
   ]
  },
  {
   "cell_type": "markdown",
   "metadata": {},
   "source": [
    "Given a non-negative integer, you could swap two digits at most once to get the maximum valued number. Return the maximum valued number you could get.\n",
    "\n",
    "Example 1:\n",
    "\n",
    "Input: 2736\n",
    "\n",
    "Output: 7236\n",
    "\n",
    "Explanation: Swap the number 2 and the number 7."
   ]
  },
  {
   "cell_type": "code",
   "execution_count": 363,
   "metadata": {},
   "outputs": [],
   "source": [
    "class Solution(object):\n",
    "    def maximumSwap(self, num):\n",
    "        \"\"\"\n",
    "        :type num: int\n",
    "        :rtype: int\n",
    "        \"\"\"\n",
    "        num = list(str(value))\n",
    "        ln = len(num)\n",
    "        maximum = (num[ln-1], ln-1)\n",
    "        swap = None\n",
    "        for i in range(len(num)-1, -1, -1):\n",
    "            if num[i] < maximum[0]:\n",
    "                swap = (i, maximum[1])\n",
    "            else:\n",
    "                maximum = (num[i], i)\n",
    "        print(maximum, swap)\n",
    "        if swap:\n",
    "            i, j = swap\n",
    "            num[i], num[j] = num[j], num[i]\n",
    "            value = int(''.join(num))\n",
    "        return value"
   ]
  },
  {
   "cell_type": "code",
   "execution_count": 393,
   "metadata": {},
   "outputs": [],
   "source": [
    "def maximum_swap(value):\n",
    "    num = list(str(value))\n",
    "    ln = len(num)\n",
    "    maximum = (num[ln-1], ln-1)\n",
    "    swap = None\n",
    "    for i in range(len(num)-1, -1, -1):\n",
    "        if num[i] < maximum[0]:\n",
    "            swap = (i, maximum[1])\n",
    "        elif num[i] > maximum[0]:\n",
    "            maximum = (num[i], i)\n",
    "    print(maximum, swap)\n",
    "    if swap:\n",
    "        i, j = swap\n",
    "        num[i], num[j] = num[j], num[i]\n",
    "        value = int(''.join(num))\n",
    "    return value"
   ]
  },
  {
   "cell_type": "code",
   "execution_count": 394,
   "metadata": {},
   "outputs": [
    {
     "name": "stdout",
     "output_type": "stream",
     "text": [
      "('7', 1) (0, 1)\n"
     ]
    },
    {
     "data": {
      "text/plain": [
       "7236"
      ]
     },
     "execution_count": 394,
     "metadata": {},
     "output_type": "execute_result"
    }
   ],
   "source": [
    "maximum_swap(2736) # 7236"
   ]
  },
  {
   "cell_type": "code",
   "execution_count": 395,
   "metadata": {},
   "outputs": [
    {
     "name": "stdout",
     "output_type": "stream",
     "text": [
      "('9', 2) None\n"
     ]
    },
    {
     "data": {
      "text/plain": [
       "999"
      ]
     },
     "execution_count": 395,
     "metadata": {},
     "output_type": "execute_result"
    }
   ],
   "source": [
    "maximum_swap(999)"
   ]
  },
  {
   "cell_type": "code",
   "execution_count": 396,
   "metadata": {},
   "outputs": [
    {
     "name": "stdout",
     "output_type": "stream",
     "text": [
      "('9', 0) (2, 4)\n"
     ]
    },
    {
     "data": {
      "text/plain": [
       "98863"
      ]
     },
     "execution_count": 396,
     "metadata": {},
     "output_type": "execute_result"
    }
   ],
   "source": [
    "maximum_swap(98368) # 988683"
   ]
  },
  {
   "cell_type": "code",
   "execution_count": 397,
   "metadata": {},
   "outputs": [
    {
     "name": "stdout",
     "output_type": "stream",
     "text": [
      "('9', 2) (0, 2)\n"
     ]
    },
    {
     "data": {
      "text/plain": [
       "9913"
      ]
     },
     "execution_count": 397,
     "metadata": {},
     "output_type": "execute_result"
    }
   ],
   "source": [
    "maximum_swap(1993) # 9913"
   ]
  },
  {
   "cell_type": "markdown",
   "metadata": {},
   "source": [
    "There is a strange printer with the following two special requirements:\n",
    "\n",
    "The printer can only print a sequence of the same character each time.\n",
    "At each turn, the printer can print new characters starting from and ending at any places, and will cover the original existing characters.\n",
    "Given a string consists of lower English letters only, your job is to count the minimum number of turns the printer needed in order to print it.\n",
    "\n",
    "Example 1:\n",
    "    \n",
    "Input: \"aaabbb\"\n",
    "    \n",
    "Output: 2\n",
    "    \n",
    "Explanation: Print \"aaa\" first and then print \"bbb\".\n",
    "    \n",
    "Example 2:\n",
    "    \n",
    "Input: \"aba\"\n",
    "    \n",
    "Output: 2\n",
    "    \n",
    "Explanation: Print \"aaa\" first and then print \"b\" from the second place of the string, which will cover the existing character 'a'.\n",
    "\n",
    "Hint: Length of the given string will not exceed 100."
   ]
  },
  {
   "cell_type": "code",
   "execution_count": 399,
   "metadata": {},
   "outputs": [],
   "source": [
    "def strange_printer(string):\n",
    "    pass"
   ]
  },
  {
   "cell_type": "code",
   "execution_count": 400,
   "metadata": {},
   "outputs": [],
   "source": [
    "strange_printer('abacccc') # 3"
   ]
  },
  {
   "cell_type": "code",
   "execution_count": null,
   "metadata": {},
   "outputs": [],
   "source": [
    "strange_printer('abacccac') # "
   ]
  },
  {
   "cell_type": "code",
   "execution_count": 401,
   "metadata": {},
   "outputs": [
    {
     "name": "stdout",
     "output_type": "stream",
     "text": [
      "None\n",
      "None\n"
     ]
    }
   ],
   "source": [
    "print(strange_printer('aaabbb'))  # 2\n",
    "print(strange_printer('aba'))  # 2"
   ]
  },
  {
   "cell_type": "code",
   "execution_count": 456,
   "metadata": {},
   "outputs": [],
   "source": [
    "def remove_duplicates(nums):\n",
    "    if len(nums) < 2:\n",
    "        return 0\n",
    "    pointer = 0\n",
    "    i = 1\n",
    "    while i < len(nums):\n",
    "        if nums[i] != nums[i-1]:\n",
    "            nums[pointer] = nums[i-1]\n",
    "            pointer += 1\n",
    "        i += 1\n",
    "    nums[pointer] = nums[i-1]\n",
    "    return pointer + 1"
   ]
  },
  {
   "cell_type": "code",
   "execution_count": 457,
   "metadata": {},
   "outputs": [
    {
     "data": {
      "text/plain": [
       "5"
      ]
     },
     "execution_count": 457,
     "metadata": {},
     "output_type": "execute_result"
    }
   ],
   "source": [
    "remove_duplicates([0,0,1,1,1,2,2,3,3,4])"
   ]
  },
  {
   "cell_type": "code",
   "execution_count": 458,
   "metadata": {},
   "outputs": [
    {
     "data": {
      "text/plain": [
       "2"
      ]
     },
     "execution_count": 458,
     "metadata": {},
     "output_type": "execute_result"
    }
   ],
   "source": [
    "remove_duplicates([1, 1, 2])"
   ]
  },
  {
   "cell_type": "code",
   "execution_count": 459,
   "metadata": {},
   "outputs": [
    {
     "data": {
      "text/plain": [
       "-23"
      ]
     },
     "execution_count": 459,
     "metadata": {},
     "output_type": "execute_result"
    }
   ],
   "source": [
    "-int('23')"
   ]
  },
  {
   "cell_type": "code",
   "execution_count": 460,
   "metadata": {},
   "outputs": [
    {
     "data": {
      "text/plain": [
       "-34242"
      ]
     },
     "execution_count": 460,
     "metadata": {},
     "output_type": "execute_result"
    }
   ],
   "source": [
    "x = '-24243'\n",
    "-int(x[1:][::-1])"
   ]
  },
  {
   "cell_type": "code",
   "execution_count": null,
   "metadata": {},
   "outputs": [],
   "source": []
  }
 ],
 "metadata": {
  "kernelspec": {
   "display_name": "Python 3",
   "language": "python",
   "name": "python3"
  },
  "language_info": {
   "codemirror_mode": {
    "name": "ipython",
    "version": 3
   },
   "file_extension": ".py",
   "mimetype": "text/x-python",
   "name": "python",
   "nbconvert_exporter": "python",
   "pygments_lexer": "ipython3",
   "version": "3.6.5"
  }
 },
 "nbformat": 4,
 "nbformat_minor": 2
}
