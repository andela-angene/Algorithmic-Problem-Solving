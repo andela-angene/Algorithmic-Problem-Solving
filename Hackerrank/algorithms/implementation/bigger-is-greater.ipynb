{
 "cells": [
  {
   "cell_type": "code",
   "execution_count": null,
   "metadata": {
    "collapsed": true
   },
   "outputs": [],
   "source": [
    "'abcdefghijklmnopqrstuvwxyz'\n",
    "\"\"\"\n",
    "ab\n",
    "bb\n",
    "hefg\n",
    "dhck\n",
    "dkhc\"\"\"\n",
    "5\n",
    "\"\"\"\n",
    "ba\n",
    "no answer\n",
    "hegf\n",
    "dhkc\n",
    "hcdk\"\"\""
   ]
  },
  {
   "cell_type": "code",
   "execution_count": 68,
   "metadata": {},
   "outputs": [],
   "source": [
    "import bisect\n",
    "from itertools import permutations\n",
    "def get_bigger(word):\n",
    "    ln = len(word) - 1\n",
    "    for i in range(ln):\n",
    "        k = ln - i - 1\n",
    "        if word[k + 1] > word[k]:\n",
    "            change = word[k]\n",
    "            schose = sorted(word[k:])\n",
    "            next_i = bisect.bisect_right(schose, change)\n",
    "            nxt = schose.pop(next_i)\n",
    "            perm = permutations(schose)\n",
    "            return word[:k] + nxt + ''.join(next(perm))\n",
    "    return 'no answer'"
   ]
  },
  {
   "cell_type": "code",
   "execution_count": 71,
   "metadata": {},
   "outputs": [
    {
     "name": "stdout",
     "output_type": "stream",
     "text": [
      "ba\n",
      "no answer\n",
      "hegf\n",
      "dhkc\n",
      "hcdk\n",
      "bbbbabbb\n"
     ]
    }
   ],
   "source": [
    "for word in 'ab bb hefg dhck dkhc bbbabbbb'.split():\n",
    "    print(get_bigger(word))"
   ]
  },
  {
   "cell_type": "code",
   "execution_count": null,
   "metadata": {
    "collapsed": true
   },
   "outputs": [],
   "source": []
  },
  {
   "cell_type": "code",
   "execution_count": null,
   "metadata": {
    "collapsed": true
   },
   "outputs": [],
   "source": []
  }
 ],
 "metadata": {
  "kernelspec": {
   "display_name": "Python 3",
   "language": "python",
   "name": "python3"
  },
  "language_info": {
   "codemirror_mode": {
    "name": "ipython",
    "version": 3
   },
   "file_extension": ".py",
   "mimetype": "text/x-python",
   "name": "python",
   "nbconvert_exporter": "python",
   "pygments_lexer": "ipython3",
   "version": "3.6.3"
  }
 },
 "nbformat": 4,
 "nbformat_minor": 2
}
