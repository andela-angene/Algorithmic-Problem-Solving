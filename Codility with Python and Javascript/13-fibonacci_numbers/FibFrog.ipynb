{
 "cells": [
  {
   "cell_type": "code",
   "execution_count": 1,
   "metadata": {},
   "outputs": [],
   "source": [
    "from collections import deque"
   ]
  },
  {
   "cell_type": "code",
   "execution_count": 105,
   "metadata": {},
   "outputs": [],
   "source": [
    "from collections import deque\n",
    "def gen_fibs(n):\n",
    "    if n < 2:\n",
    "        return [1, 2]\n",
    "    fibs = [1, 2]\n",
    "    i = 1\n",
    "    while fibs[i] <= n:\n",
    "        fibs.append(fibs[i] + fibs[i - 1])\n",
    "        i += 1\n",
    "    return fibs\n",
    "\n",
    "def solution(arr):\n",
    "    ln = len(arr)\n",
    "    queue = deque([(0, 0)])\n",
    "    fibs = gen_fibs(ln)\n",
    "    mem = {}\n",
    "    while queue:\n",
    "        item, level = queue.popleft()\n",
    "        if mem.get(item):\n",
    "            continue\n",
    "        level = level + 1\n",
    "        i = 0\n",
    "        fib = item + fibs[i]\n",
    "        while fib <= ln:\n",
    "            if arr[fib - 1]:\n",
    "                queue.append((fib, level))\n",
    "            i += 1\n",
    "            if i > len(fibs) - 1:\n",
    "                break\n",
    "            fib = item + fibs[i]\n",
    "        if fib == ln + 1:\n",
    "            return level\n",
    "        mem[item] = True\n",
    "    return -1\n",
    "\n",
    "# (66%) https://app.codility.com/demo/results/training57VWZX-GNN/\n",
    "# (83%) https://app.codility.com/demo/results/training565B3C-RY7/\n",
    "# https://app.codility.com/demo/results/trainingJ2AZQ4-QGQ/"
   ]
  },
  {
   "cell_type": "code",
   "execution_count": 106,
   "metadata": {},
   "outputs": [
    {
     "data": {
      "text/plain": [
       "3"
      ]
     },
     "execution_count": 106,
     "metadata": {},
     "output_type": "execute_result"
    }
   ],
   "source": [
    "solution([0,0,0,1,1,0,1,1,0,0,0])"
   ]
  },
  {
   "cell_type": "code",
   "execution_count": 102,
   "metadata": {},
   "outputs": [
    {
     "data": {
      "text/plain": [
       "1"
      ]
     },
     "execution_count": 102,
     "metadata": {},
     "output_type": "execute_result"
    }
   ],
   "source": [
    "solution([0])"
   ]
  },
  {
   "cell_type": "code",
   "execution_count": 103,
   "metadata": {},
   "outputs": [
    {
     "data": {
      "text/plain": [
       "1"
      ]
     },
     "execution_count": 103,
     "metadata": {},
     "output_type": "execute_result"
    }
   ],
   "source": [
    "solution([1,1,1,1])"
   ]
  },
  {
   "cell_type": "code",
   "execution_count": 104,
   "metadata": {},
   "outputs": [
    {
     "data": {
      "text/plain": [
       "[1, 2]"
      ]
     },
     "execution_count": 104,
     "metadata": {},
     "output_type": "execute_result"
    }
   ],
   "source": [
    "gen_fibs(1)"
   ]
  },
  {
   "cell_type": "code",
   "execution_count": null,
   "metadata": {},
   "outputs": [],
   "source": []
  }
 ],
 "metadata": {
  "kernelspec": {
   "display_name": "Python 3",
   "language": "python",
   "name": "python3"
  },
  "language_info": {
   "codemirror_mode": {
    "name": "ipython",
    "version": 3
   },
   "file_extension": ".py",
   "mimetype": "text/x-python",
   "name": "python",
   "nbconvert_exporter": "python",
   "pygments_lexer": "ipython3",
   "version": "3.6.5"
  }
 },
 "nbformat": 4,
 "nbformat_minor": 2
}
