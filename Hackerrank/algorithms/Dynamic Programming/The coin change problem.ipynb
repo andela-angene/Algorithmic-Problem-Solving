{
 "cells": [
  {
   "cell_type": "code",
   "execution_count": 1,
   "metadata": {
    "collapsed": true
   },
   "outputs": [],
   "source": [
    "ar = [1, 2, 3]\n",
    "n = 4"
   ]
  },
  {
   "cell_type": "code",
   "execution_count": 32,
   "metadata": {},
   "outputs": [],
   "source": [
    "def get_ways(n, ar):\n",
    "    ln = len(ar)\n",
    "    upper, lower = [0], []\n",
    "    for x in range(1, n + 1):\n",
    "        total = 1 if x % ar[0] == 0 else 0\n",
    "        upper.append(total)\n",
    "    \n",
    "    for i in range(1, ln):\n",
    "        lower = []\n",
    "        for num in range(n + 1):\n",
    "            total = upper[num]\n",
    "            divisor = ar[i]\n",
    "            if num == divisor:\n",
    "                total += 1\n",
    "            elif num > divisor:\n",
    "                total += lower[num - divisor]\n",
    "            lower.append(total)\n",
    "        upper = lower\n",
    "    return lower[n]\n"
   ]
  },
  {
   "cell_type": "code",
   "execution_count": 33,
   "metadata": {},
   "outputs": [
    {
     "data": {
      "text/plain": [
       "4"
      ]
     },
     "execution_count": 33,
     "metadata": {},
     "output_type": "execute_result"
    }
   ],
   "source": [
    "# ways(10, [2, 3, 5, 6])\n",
    "get_ways(n, ar)"
   ]
  },
  {
   "cell_type": "code",
   "execution_count": 34,
   "metadata": {},
   "outputs": [
    {
     "data": {
      "text/plain": [
       "5"
      ]
     },
     "execution_count": 34,
     "metadata": {},
     "output_type": "execute_result"
    }
   ],
   "source": [
    "get_ways(10, [2, 3, 5, 6])"
   ]
  },
  {
   "cell_type": "code",
   "execution_count": 35,
   "metadata": {},
   "outputs": [
    {
     "data": {
      "text/plain": [
       "2"
      ]
     },
     "execution_count": 35,
     "metadata": {},
     "output_type": "execute_result"
    }
   ],
   "source": [
    "get_ways(7, [2, 3, 5])"
   ]
  },
  {
   "cell_type": "code",
   "execution_count": null,
   "metadata": {
    "collapsed": true
   },
   "outputs": [],
   "source": []
  }
 ],
 "metadata": {
  "kernelspec": {
   "display_name": "Python 2",
   "language": "python",
   "name": "python2"
  },
  "language_info": {
   "codemirror_mode": {
    "name": "ipython",
    "version": 2
   },
   "file_extension": ".py",
   "mimetype": "text/x-python",
   "name": "python",
   "nbconvert_exporter": "python",
   "pygments_lexer": "ipython2",
   "version": "2.7.14"
  }
 },
 "nbformat": 4,
 "nbformat_minor": 2
}
