{
 "cells": [
  {
   "cell_type": "markdown",
   "metadata": {},
   "source": [
    "Given an integer n, write a function that will return the nth\n",
    "Fibonacci number.\n",
    "eg.\n",
    "\n",
    "fib(0) = 0\n",
    "\n",
    "fib(1) = 1\n",
    "\n",
    "fib(5) = 5\n",
    "\n",
    "fib(10) = 55"
   ]
  },
  {
   "cell_type": "code",
   "execution_count": null,
   "metadata": {},
   "outputs": [],
   "source": [
    "# O(n**2)\n",
    "def fib(n):\n",
    "    if n <= 1:\n",
    "        return n\n",
    "    return fib(n-1) + fib(n-2)"
   ]
  },
  {
   "cell_type": "code",
   "execution_count": 5,
   "metadata": {
    "collapsed": true
   },
   "outputs": [],
   "source": [
    "# O(n)\n",
    "def fib(n, cache):\n",
    "    if n <= 1:\n",
    "        return n\n",
    "    if n in cache:\n",
    "        return cache[n]\n",
    "    else:\n",
    "        cache[n] = fib(n-1, cache) + fib(n-2, cache)\n",
    "    return cache[n]"
   ]
  },
  {
   "cell_type": "code",
   "execution_count": 4,
   "metadata": {},
   "outputs": [
    {
     "data": {
      "text/plain": [
       "222232244629420445529739893461909967206666939096499764990979600"
      ]
     },
     "execution_count": 4,
     "metadata": {},
     "output_type": "execute_result"
    }
   ],
   "source": [
    "fib(300, {})"
   ]
  },
  {
   "cell_type": "code",
   "execution_count": null,
   "metadata": {},
   "outputs": [],
   "source": []
  },
  {
   "cell_type": "markdown",
   "metadata": {},
   "source": [
    "Given an integer representing a given amount of change, write a\n",
    "function to compute the total number of coins required to make\n",
    "that amount of change. You can assume that there is always a\n",
    "1¢ coin.\n",
    "\n",
    "eg. (assuming American coins: 1, 5, 10, and 25 cents)\n",
    "\n",
    "makeChange(1) = 1 (1)\n",
    "\n",
    "makeChange(6) = 2 (5 + 1)\n",
    "\n",
    "makeChange(49) = 7 (25 + 10 + 10 + 1 + 1 + 1 + 1)\n",
    "\n",
    "// 1 6 10\n",
    "makeChange(12) => 6, 6 (greedy: 10, 1, 1)"
   ]
  },
  {
   "cell_type": "code",
   "execution_count": 18,
   "metadata": {},
   "outputs": [],
   "source": [
    "def make_change(n, coins):\n",
    "    if n == 0:\n",
    "        return 0\n",
    "    needed = float('inf')\n",
    "    for coin in coins:\n",
    "        new_n = n - coin\n",
    "        if new_n >= 0:\n",
    "            needed = min(needed, make_change(new_n, coins))\n",
    "    return 1 + needed\n"
   ]
  },
  {
   "cell_type": "code",
   "execution_count": 25,
   "metadata": {},
   "outputs": [],
   "source": [
    "def make_change(n, coins, cache):\n",
    "    if n == 0:\n",
    "        return 0\n",
    "    if n in cache:\n",
    "        return cache[n]\n",
    "    needed = float('inf')\n",
    "    for coin in coins:\n",
    "        new_n = n - coin\n",
    "        if new_n >= 0:\n",
    "            needed = min(needed, make_change(new_n, coins, cache))\n",
    "    cache[n] = 1 + needed\n",
    "    return cache[n]"
   ]
  },
  {
   "cell_type": "code",
   "execution_count": 44,
   "metadata": {},
   "outputs": [],
   "source": [
    "def make_change(n, coins, cache):\n",
    "    if n == 0:\n",
    "        return 0\n",
    "    cache[0] = 0\n",
    "    for current in range(1, n + 1):\n",
    "        change = float('inf')\n",
    "        for coin in coins:\n",
    "            if current - coin >= 0:\n",
    "                change = min(change, 1 + cache[current - coin])\n",
    "        cache[current] = change\n",
    "    return cache[n]\n",
    "            "
   ]
  },
  {
   "cell_type": "code",
   "execution_count": 45,
   "metadata": {},
   "outputs": [
    {
     "name": "stdout",
     "output_type": "stream",
     "text": [
      "1\n",
      "2\n"
     ]
    }
   ],
   "source": [
    "print(make_change(1, [1, 5, 10, 25], {})) # 1\n",
    "print(make_change(6, [1, 5, 10, 25], {})) # 2"
   ]
  },
  {
   "cell_type": "code",
   "execution_count": null,
   "metadata": {},
   "outputs": [],
   "source": [
    "print(make_change(49, [1, 5, 10, 25], {})) # 7"
   ]
  },
  {
   "cell_type": "code",
   "execution_count": 41,
   "metadata": {},
   "outputs": [
    {
     "data": {
      "text/plain": [
       "2"
      ]
     },
     "execution_count": 41,
     "metadata": {},
     "output_type": "execute_result"
    }
   ],
   "source": [
    "make_change(12, [1,6,10], {}) # 2"
   ]
  },
  {
   "cell_type": "code",
   "execution_count": 137,
   "metadata": {},
   "outputs": [],
   "source": []
  },
  {
   "cell_type": "code",
   "execution_count": 152,
   "metadata": {},
   "outputs": [],
   "source": [
    "def squares(arr, x=0, y=0, sqs=0):\n",
    "    try:\n",
    "        val = arr[x][y]\n",
    "    except:\n",
    "        return [0, sqs]\n",
    "    sq1 = squares(arr, x, y+1, sqs)\n",
    "    sq2 = squares(arr, x+1, y, sqs)\n",
    "    sq3 = squares(arr, x+1, y+1, sqs)\n",
    "    current = val + min(sq1[0], sq2[0], sq3[0])\n",
    "    return [current, max(current, sqs, sq1[1], sq2[1], sq3[1])]"
   ]
  },
  {
   "cell_type": "code",
   "execution_count": 153,
   "metadata": {},
   "outputs": [],
   "source": [
    "def dp_squares(arr, cache, x=0, y=0, sqs=0):\n",
    "    try:\n",
    "        val = arr[x][y]\n",
    "    except:\n",
    "        return [0, sqs]\n",
    "    if (x, y) in cache:\n",
    "        return cache[(x, y)]\n",
    "    sq1 = dp_squares(arr, cache, x, y+1, sqs)\n",
    "    sq2 = dp_squares(arr, cache, x+1, y, sqs)\n",
    "    sq3 = dp_squares(arr, cache, x+1, y+1, sqs)\n",
    "    current = val + min(sq1[0], sq2[0], sq3[0])\n",
    "    cache[(x, y)] = [current, max(current, sqs, sq1[1], sq2[1], sq3[1])]\n",
    "    return cache[(x, y)]"
   ]
  },
  {
   "cell_type": "code",
   "execution_count": 148,
   "metadata": {},
   "outputs": [
    {
     "data": {
      "text/plain": [
       "[0, 2]"
      ]
     },
     "execution_count": 148,
     "metadata": {},
     "output_type": "execute_result"
    }
   ],
   "source": [
    "squares([[0,0,0,0], [1,1,1,1], [0,1,1,0]]) # 2"
   ]
  },
  {
   "cell_type": "code",
   "execution_count": 69,
   "metadata": {},
   "outputs": [
    {
     "data": {
      "text/plain": [
       "[4, 4]"
      ]
     },
     "execution_count": 69,
     "metadata": {},
     "output_type": "execute_result"
    }
   ],
   "source": [
    "squares(0,0,[\n",
    "    [1,1,1,1,1],\n",
    "    [1,1,1,1,0],\n",
    "    [1,1,1,1,0],\n",
    "    [1,1,1,1,0],\n",
    "    [1,0,0,0,0],\n",
    "],0)"
   ]
  },
  {
   "cell_type": "code",
   "execution_count": 74,
   "metadata": {},
   "outputs": [],
   "source": [
    "import random"
   ]
  },
  {
   "cell_type": "code",
   "execution_count": 88,
   "metadata": {},
   "outputs": [],
   "source": [
    "def rand_matrix(n):\n",
    "    rs = []\n",
    "    for i in range(n):\n",
    "        nrs = []\n",
    "        for i in range(n):\n",
    "            nrs.append(random.randint(0, 1))\n",
    "        rs.append(nrs)\n",
    "    return rs"
   ]
  },
  {
   "cell_type": "code",
   "execution_count": null,
   "metadata": {},
   "outputs": [],
   "source": [
    "rand_matrix(20)"
   ]
  },
  {
   "cell_type": "code",
   "execution_count": 150,
   "metadata": {},
   "outputs": [
    {
     "data": {
      "text/plain": [
       "[3, 3]"
      ]
     },
     "execution_count": 150,
     "metadata": {},
     "output_type": "execute_result"
    }
   ],
   "source": [
    "squares(rand_matrix(12))"
   ]
  },
  {
   "cell_type": "code",
   "execution_count": null,
   "metadata": {},
   "outputs": [],
   "source": []
  },
  {
   "cell_type": "code",
   "execution_count": 159,
   "metadata": {},
   "outputs": [
    {
     "data": {
      "text/plain": [
       "[1, 3]"
      ]
     },
     "execution_count": 159,
     "metadata": {},
     "output_type": "execute_result"
    }
   ],
   "source": [
    "nn = rand_matrix(10)\n",
    "dp_squares(nn, {})"
   ]
  },
  {
   "cell_type": "code",
   "execution_count": null,
   "metadata": {},
   "outputs": [],
   "source": []
  },
  {
   "cell_type": "markdown",
   "metadata": {},
   "source": [
    "Given a list of items with values and weights, as well as a max\n",
    "weight, find the maximum value you can generate from items,\n",
    "where the sum of the weights is less than or equal to the max.\n",
    "\n",
    "eg.\n",
    "\n",
    "items = {(w:2, v:6), (w:2, v:10), (w:3, v:12)}\n",
    "\n",
    "max weight = 5\n",
    "\n",
    "knapsack(items, max weight) = 22"
   ]
  },
  {
   "cell_type": "code",
   "execution_count": 172,
   "metadata": {},
   "outputs": [],
   "source": [
    "def knapsack(n, items):\n",
    "    cache = {0:0}\n",
    "    for i in range(1, n+1):\n",
    "        max_w = cache[i-1]\n",
    "        for item in items:\n",
    "            if i - item[0] >= 0:\n",
    "                new_w = item[1] + cache[i-item[0]]\n",
    "                max_w = max(max_w, new_w)\n",
    "        cache[i] = max_w\n",
    "    return cache[n]"
   ]
  },
  {
   "cell_type": "code",
   "execution_count": 173,
   "metadata": {},
   "outputs": [
    {
     "data": {
      "text/plain": [
       "22"
      ]
     },
     "execution_count": 173,
     "metadata": {},
     "output_type": "execute_result"
    }
   ],
   "source": [
    "knapsack(5, [(2, 6), (2, 10), (3, 12)])"
   ]
  },
  {
   "cell_type": "code",
   "execution_count": null,
   "metadata": {},
   "outputs": [],
   "source": []
  }
 ],
 "metadata": {
  "kernelspec": {
   "display_name": "Python 3",
   "language": "python",
   "name": "python3"
  },
  "language_info": {
   "codemirror_mode": {
    "name": "ipython",
    "version": 3
   },
   "file_extension": ".py",
   "mimetype": "text/x-python",
   "name": "python",
   "nbconvert_exporter": "python",
   "pygments_lexer": "ipython3",
   "version": "3.6.5"
  }
 },
 "nbformat": 4,
 "nbformat_minor": 2
}
