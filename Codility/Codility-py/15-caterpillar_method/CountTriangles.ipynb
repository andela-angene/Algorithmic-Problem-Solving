{
 "cells": [
  {
   "cell_type": "code",
   "execution_count": 78,
   "metadata": {
    "code_folding": []
   },
   "outputs": [],
   "source": [
    "from collections import deque\n",
    "def solution(arr):\n",
    "    arr = sorted(arr)\n",
    "    ln, result = len(arr), 0\n",
    "    if len(arr) < 3:\n",
    "        return 0\n",
    "    for i in range(ln - 2):\n",
    "        j, sub = i + 2, deque([arr[i+1]])\n",
    "        while len(sub) > 0:\n",
    "            first, second = arr[i], sub[0]\n",
    "            if j < ln and first + second > arr[j]:\n",
    "                sub.append(arr[j])\n",
    "                j += 1\n",
    "            else:\n",
    "                sub.popleft()\n",
    "                if j < ln and len(sub) < 1:\n",
    "                    sub.append(arr[j])\n",
    "                    j += 1\n",
    "                else:\n",
    "                    result += len(sub)\n",
    "    return result\n",
    "\n",
    "# (100%) https://app.codility.com/demo/results/trainingAWCVSC-VBE/"
   ]
  },
  {
   "cell_type": "code",
   "execution_count": 79,
   "metadata": {},
   "outputs": [
    {
     "data": {
      "text/plain": [
       "4"
      ]
     },
     "execution_count": 79,
     "metadata": {},
     "output_type": "execute_result"
    }
   ],
   "source": [
    "solution([1,2,5,8,10,12])"
   ]
  },
  {
   "cell_type": "code",
   "execution_count": 80,
   "metadata": {},
   "outputs": [
    {
     "data": {
      "text/plain": [
       "17"
      ]
     },
     "execution_count": 80,
     "metadata": {},
     "output_type": "execute_result"
    }
   ],
   "source": [
    "solution([3,5,6,7,8,9])"
   ]
  },
  {
   "cell_type": "code",
   "execution_count": 81,
   "metadata": {},
   "outputs": [
    {
     "data": {
      "text/plain": [
       "1"
      ]
     },
     "execution_count": 81,
     "metadata": {},
     "output_type": "execute_result"
    }
   ],
   "source": [
    "solution([8,9, 10])"
   ]
  },
  {
   "cell_type": "code",
   "execution_count": 82,
   "metadata": {},
   "outputs": [
    {
     "data": {
      "text/plain": [
       "0"
      ]
     },
     "execution_count": 82,
     "metadata": {},
     "output_type": "execute_result"
    }
   ],
   "source": [
    "solution([3, 4])"
   ]
  },
  {
   "cell_type": "code",
   "execution_count": null,
   "metadata": {},
   "outputs": [],
   "source": []
  }
 ],
 "metadata": {
  "kernelspec": {
   "display_name": "Python 3",
   "language": "python",
   "name": "python3"
  },
  "language_info": {
   "codemirror_mode": {
    "name": "ipython",
    "version": 3
   },
   "file_extension": ".py",
   "mimetype": "text/x-python",
   "name": "python",
   "nbconvert_exporter": "python",
   "pygments_lexer": "ipython3",
   "version": "3.6.5"
  }
 },
 "nbformat": 4,
 "nbformat_minor": 2
}
