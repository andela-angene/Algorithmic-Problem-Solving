{
 "cells": [
  {
   "cell_type": "code",
   "execution_count": 1,
   "metadata": {},
   "outputs": [],
   "source": [
    "inp = [3, 4, 4, 6, 1, 4, 4]\n",
    "rs =  [3, 2, 2, 4, 2]\n"
   ]
  },
  {
   "cell_type": "code",
   "execution_count": null,
   "metadata": {},
   "outputs": [],
   "source": []
  },
  {
   "cell_type": "code",
   "execution_count": 68,
   "metadata": {},
   "outputs": [],
   "source": [
    "def solution(n, ar):\n",
    "    mx, all_mx, rs = 0, 0, [{'mx': 0, 'val': 0} for _ in range(n)] \n",
    "    for i in ar:\n",
    "        if i > n:\n",
    "            all_mx = mx\n",
    "            continue\n",
    "        item = rs[i - 1]\n",
    "        if item['mx'] < all_mx:\n",
    "            item['mx'] = all_mx\n",
    "            item['val'] = all_mx + 1\n",
    "        else:\n",
    "            item['val'] += 1\n",
    "        mx = max(mx, item['val'])\n",
    "    rs = [{'val': all_mx} if i['mx'] < all_mx else i for i in rs]\n",
    "    return [item['val'] for item in rs]"
   ]
  },
  {
   "cell_type": "code",
   "execution_count": 31,
   "metadata": {},
   "outputs": [],
   "source": [
    "def solution(n, ar):\n",
    "    mx, rs = 0, [0]*n\n",
    "    prev_mx = float('-inf')\n",
    "    for i in ar:\n",
    "        if i > n and mx > prev_mx:\n",
    "            prev_mx = mx\n",
    "            rs = [mx]*n\n",
    "        if i <= n:\n",
    "            rs[i-1] += 1\n",
    "            mx = max(mx, rs[i-1])\n",
    "    return rs"
   ]
  },
  {
   "cell_type": "code",
   "execution_count": 36,
   "metadata": {},
   "outputs": [
    {
     "data": {
      "text/plain": [
       "[3, 2, 2, 4, 2]"
      ]
     },
     "execution_count": 36,
     "metadata": {},
     "output_type": "execute_result"
    }
   ],
   "source": [
    "solution(5, [3, 4, 4, 6, 1, 4, 4])"
   ]
  },
  {
   "cell_type": "code",
   "execution_count": 37,
   "metadata": {},
   "outputs": [
    {
     "data": {
      "text/plain": [
       "[0]"
      ]
     },
     "execution_count": 37,
     "metadata": {},
     "output_type": "execute_result"
    }
   ],
   "source": [
    "solution(1, [2])"
   ]
  },
  {
   "cell_type": "code",
   "execution_count": 38,
   "metadata": {},
   "outputs": [
    {
     "data": {
      "text/plain": [
       "[1]"
      ]
     },
     "execution_count": 38,
     "metadata": {},
     "output_type": "execute_result"
    }
   ],
   "source": [
    "solution(1, [1])"
   ]
  },
  {
   "cell_type": "code",
   "execution_count": 39,
   "metadata": {},
   "outputs": [
    {
     "data": {
      "text/plain": [
       "[2, 2, 2, 2]"
      ]
     },
     "execution_count": 39,
     "metadata": {},
     "output_type": "execute_result"
    }
   ],
   "source": [
    "solution(4, [1, 2, 1, 5])"
   ]
  },
  {
   "cell_type": "code",
   "execution_count": 40,
   "metadata": {},
   "outputs": [
    {
     "data": {
      "text/plain": [
       "[1, 2, 2, 1, 1]"
      ]
     },
     "execution_count": 40,
     "metadata": {},
     "output_type": "execute_result"
    }
   ],
   "source": [
    "solution(5, [3, 4, 6, 3, 2])"
   ]
  },
  {
   "cell_type": "code",
   "execution_count": null,
   "metadata": {},
   "outputs": [],
   "source": []
  },
  {
   "cell_type": "code",
   "execution_count": 40,
   "metadata": {},
   "outputs": [
    {
     "data": {
      "text/plain": [
       "[{'mx': 0, 'val': 0},\n",
       " {'mx': 2, 'val': 0},\n",
       " {'mx': 0, 'val': 0},\n",
       " {'mx': 0, 'val': 0},\n",
       " {'mx': 0, 'val': 0},\n",
       " {'mx': 0, 'val': 0}]"
      ]
     },
     "execution_count": 40,
     "metadata": {},
     "output_type": "execute_result"
    }
   ],
   "source": [
    "a = [0] * 6\n",
    "for i in range(6):\n",
    "    a[i] = {'mx': 0, 'val': 0}\n",
    "# a[1][1] = 1\n",
    "a[1]['mx'] += 1\n",
    "a[1]['mx'] += 1\n",
    "a"
   ]
  }
 ],
 "metadata": {
  "kernelspec": {
   "display_name": "Python 3",
   "language": "python",
   "name": "python3"
  },
  "language_info": {
   "codemirror_mode": {
    "name": "ipython",
    "version": 3
   },
   "file_extension": ".py",
   "mimetype": "text/x-python",
   "name": "python",
   "nbconvert_exporter": "python",
   "pygments_lexer": "ipython3",
   "version": "3.6.5"
  }
 },
 "nbformat": 4,
 "nbformat_minor": 2
}
