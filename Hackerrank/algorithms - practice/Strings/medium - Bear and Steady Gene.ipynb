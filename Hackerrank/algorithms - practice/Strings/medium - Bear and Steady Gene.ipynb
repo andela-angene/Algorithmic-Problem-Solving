{
 "cells": [
  {
   "cell_type": "code",
   "execution_count": 80,
   "metadata": {},
   "outputs": [],
   "source": [
    "def check(arr):\n",
    "    ln = len(arr)\n",
    "    start = end = 0\n",
    "    for i in range(ln):\n",
    "        if expected[arr[i]] - 1 < 0:\n",
    "            start = i\n",
    "            break\n",
    "        expected[arr[i]] -= 1\n",
    "    if i == ln -1:\n",
    "        return 0\n",
    "    for i in range(ln-1, -1, -1):\n",
    "        if expected[arr[i]] - 1 < 0:\n",
    "            end = i\n",
    "            break\n",
    "        expected[arr[i]] -= 1\n",
    "    print(end, start)\n",
    "    return end - start + 1\n",
    "\n",
    "def solution(arr):\n",
    "    ln = len(arr)\n",
    "#     arr = list(reversed(arr))\n",
    "    expected = {item: ln//4 for item in 'ACTG'}\n",
    "    print(expected)\n"
   ]
  },
  {
   "cell_type": "code",
   "execution_count": 81,
   "metadata": {},
   "outputs": [
    {
     "name": "stdout",
     "output_type": "stream",
     "text": [
      "{'A': 2, 'C': 2, 'T': 2, 'G': 2}\n",
      "7 3\n"
     ]
    },
    {
     "data": {
      "text/plain": [
       "5"
      ]
     },
     "execution_count": 81,
     "metadata": {},
     "output_type": "execute_result"
    }
   ],
   "source": [
    "solution('GAAATAAA')"
   ]
  },
  {
   "cell_type": "code",
   "execution_count": 82,
   "metadata": {},
   "outputs": [
    {
     "name": "stdout",
     "output_type": "stream",
     "text": [
      "{'A': 10, 'C': 10, 'T': 10, 'G': 10}\n",
      "39 28\n"
     ]
    },
    {
     "data": {
      "text/plain": [
       "12"
      ]
     },
     "execution_count": 82,
     "metadata": {},
     "output_type": "execute_result"
    }
   ],
   "source": [
    "solution('TGATGCCGTCCCCTCAACTTGAGTGCTCCTAATGCGTTGC') # 5"
   ]
  },
  {
   "cell_type": "code",
   "execution_count": 54,
   "metadata": {},
   "outputs": [
    {
     "data": {
      "text/plain": [
       "5"
      ]
     },
     "execution_count": 54,
     "metadata": {},
     "output_type": "execute_result"
    }
   ],
   "source": [
    "solution('GAAATAAA') # 5"
   ]
  },
  {
   "cell_type": "code",
   "execution_count": 74,
   "metadata": {},
   "outputs": [
    {
     "name": "stdout",
     "output_type": "stream",
     "text": [
      "{'A': 2, 'C': 2, 'T': 2, 'G': 2}\n",
      "6 3\n"
     ]
    },
    {
     "data": {
      "text/plain": [
       "4"
      ]
     },
     "execution_count": 74,
     "metadata": {},
     "output_type": "execute_result"
    }
   ],
   "source": [
    "solution('GAAATAAG') # 3"
   ]
  },
  {
   "cell_type": "code",
   "execution_count": 50,
   "metadata": {},
   "outputs": [
    {
     "data": {
      "text/plain": [
       "0"
      ]
     },
     "execution_count": 50,
     "metadata": {},
     "output_type": "execute_result"
    }
   ],
   "source": [
    "solution('AAGTGCCT')"
   ]
  },
  {
   "cell_type": "code",
   "execution_count": null,
   "metadata": {},
   "outputs": [],
   "source": []
  }
 ],
 "metadata": {
  "kernelspec": {
   "display_name": "Python 3",
   "language": "python",
   "name": "python3"
  },
  "language_info": {
   "codemirror_mode": {
    "name": "ipython",
    "version": 3
   },
   "file_extension": ".py",
   "mimetype": "text/x-python",
   "name": "python",
   "nbconvert_exporter": "python",
   "pygments_lexer": "ipython3",
   "version": "3.6.5"
  }
 },
 "nbformat": 4,
 "nbformat_minor": 2
}
