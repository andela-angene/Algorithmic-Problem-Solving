{
 "cells": [
  {
   "cell_type": "markdown",
   "metadata": {},
   "source": [
    "## itertools.product()"
   ]
  },
  {
   "cell_type": "code",
   "execution_count": 1,
   "metadata": {},
   "outputs": [
    {
     "data": {
      "text/plain": [
       "[(1, 3), (1, 4), (2, 3), (2, 4)]"
      ]
     },
     "execution_count": 1,
     "metadata": {},
     "output_type": "execute_result"
    }
   ],
   "source": [
    "[(x, y) for x in [1,2] for y in [3, 4]]"
   ]
  },
  {
   "cell_type": "code",
   "execution_count": 20,
   "metadata": {},
   "outputs": [
    {
     "data": {
      "text/plain": [
       "[(1, 1), (1, 2), (1, 3), (2, 1), (2, 2), (2, 3), (3, 1), (3, 2), (3, 3)]"
      ]
     },
     "execution_count": 20,
     "metadata": {},
     "output_type": "execute_result"
    }
   ],
   "source": [
    "from itertools import product, permutations\n",
    "\n",
    "list(product([1,2,3], repeat=2))"
   ]
  },
  {
   "cell_type": "code",
   "execution_count": 7,
   "metadata": {},
   "outputs": [
    {
     "data": {
      "text/plain": [
       "[(1, 3), (1, 4), (2, 3), (2, 4), (3, 3), (3, 4)]"
      ]
     },
     "execution_count": 7,
     "metadata": {},
     "output_type": "execute_result"
    }
   ],
   "source": [
    "list(product([1,2,3],[3,4]))"
   ]
  },
  {
   "cell_type": "code",
   "execution_count": 11,
   "metadata": {},
   "outputs": [
    {
     "name": "stdout",
     "output_type": "stream",
     "text": [
      "[(1, 3, 7), (1, 3, 8), (1, 4, 7), (1, 4, 8), (2, 3, 7), (2, 3, 8), (2, 4, 7), (2, 4, 8)]\n"
     ]
    }
   ],
   "source": [
    "B = [[1,2],[3,4],[7,8]]\n",
    "print(list(product(*B)))"
   ]
  },
  {
   "cell_type": "code",
   "execution_count": 19,
   "metadata": {},
   "outputs": [
    {
     "name": "stdout",
     "output_type": "stream",
     "text": [
      "3 4\n",
      "5 6\n",
      "(3, 5) (3, 6) (4, 5) (4, 6)\n"
     ]
    }
   ],
   "source": [
    "print(*list(product(*[[int(i) for i in input().split()] for _ in range(2)])))"
   ]
  },
  {
   "cell_type": "code",
   "execution_count": 18,
   "metadata": {},
   "outputs": [
    {
     "name": "stdout",
     "output_type": "stream",
     "text": [
      "(2, 3)\n"
     ]
    }
   ],
   "source": [
    "print(str((2, 3)))"
   ]
  },
  {
   "cell_type": "markdown",
   "metadata": {},
   "source": [
    "## itertools.permutations()"
   ]
  },
  {
   "cell_type": "code",
   "execution_count": 32,
   "metadata": {},
   "outputs": [
    {
     "name": "stdout",
     "output_type": "stream",
     "text": [
      "HACK 2\n",
      "AC\n",
      "AH\n",
      "AK\n",
      "CA\n",
      "CH\n",
      "CK\n",
      "HA\n",
      "HC\n",
      "HK\n",
      "KA\n",
      "KC\n",
      "KH\n"
     ]
    }
   ],
   "source": [
    "data = input().split()\n",
    "print(*[''.join(ls) for ls in permutations(sorted(data[0]), int(data[1]))], sep='\\n')"
   ]
  },
  {
   "cell_type": "code",
   "execution_count": null,
   "metadata": {
    "collapsed": true
   },
   "outputs": [],
   "source": []
  },
  {
   "cell_type": "code",
   "execution_count": null,
   "metadata": {
    "collapsed": true
   },
   "outputs": [],
   "source": []
  },
  {
   "cell_type": "code",
   "execution_count": 33,
   "metadata": {},
   "outputs": [
    {
     "data": {
      "text/plain": [
       "[('1', '2'),\n",
       " ('1', '3'),\n",
       " ('1', '4'),\n",
       " ('1', '5'),\n",
       " ('2', '3'),\n",
       " ('2', '4'),\n",
       " ('2', '5'),\n",
       " ('3', '4'),\n",
       " ('3', '5'),\n",
       " ('4', '5')]"
      ]
     },
     "execution_count": 33,
     "metadata": {},
     "output_type": "execute_result"
    }
   ],
   "source": [
    "from itertools import combinations\n",
    "\n",
    "list(combinations('12345',2))"
   ]
  },
  {
   "cell_type": "code",
   "execution_count": 42,
   "metadata": {},
   "outputs": [
    {
     "name": "stdout",
     "output_type": "stream",
     "text": [
      "A\n",
      "C\n",
      "H\n",
      "K\n",
      "AC\n",
      "AH\n",
      "AK\n",
      "CH\n",
      "CK\n",
      "HK\n"
     ]
    }
   ],
   "source": [
    "word, k = sorted('HACK'), 2\n",
    "\n",
    "for i in range(1, k + 1):\n",
    "    print(*[''.join(ls) for ls in combinations(word, i)], sep='\\n')"
   ]
  },
  {
   "cell_type": "code",
   "execution_count": 45,
   "metadata": {},
   "outputs": [],
   "source": []
  },
  {
   "cell_type": "code",
   "execution_count": 46,
   "metadata": {},
   "outputs": [
    {
     "name": "stdout",
     "output_type": "stream",
     "text": [
      "HACK 2\n",
      "AA\n",
      "AC\n",
      "AH\n",
      "AK\n",
      "CC\n",
      "CH\n",
      "CK\n",
      "HH\n",
      "HK\n",
      "KK\n"
     ]
    }
   ],
   "source": [
    "from itertools import combinations_with_replacement as cwr\n",
    "\n",
    "data = input().split()\n",
    "print(*[''.join(ls) for ls in cwr(sorted(data[0]), int(data[1]))], sep='\\n')"
   ]
  },
  {
   "cell_type": "code",
   "execution_count": 83,
   "metadata": {
    "collapsed": true
   },
   "outputs": [],
   "source": [
    "from collections import Counter"
   ]
  },
  {
   "cell_type": "code",
   "execution_count": 67,
   "metadata": {},
   "outputs": [
    {
     "name": "stdout",
     "output_type": "stream",
     "text": [
      "(1, 1) (3, 2) (1, 3) (2, 1)\n"
     ]
    }
   ],
   "source": [
    "from itertools import groupby \n",
    "print(*[(len(list(g)), int(i)) for i, g in groupby('1222311')])"
   ]
  },
  {
   "cell_type": "code",
   "execution_count": 73,
   "metadata": {},
   "outputs": [
    {
     "data": {
      "text/plain": [
       "12.0"
      ]
     },
     "execution_count": 73,
     "metadata": {},
     "output_type": "execute_result"
    }
   ],
   "source": [
    "from math import factorial\n",
    "\n",
    "def permute(n, r):\n",
    "    return factorial(n) / factorial(n - r)\n",
    "\n",
    "permute(4, 2)"
   ]
  },
  {
   "cell_type": "code",
   "execution_count": 75,
   "metadata": {},
   "outputs": [
    {
     "data": {
      "text/plain": [
       "6.0"
      ]
     },
     "execution_count": 75,
     "metadata": {},
     "output_type": "execute_result"
    }
   ],
   "source": [
    "def combine(n, r):\n",
    "    return permute(n, r) / factorial(r)\n",
    "combine(4, 2)"
   ]
  },
  {
   "cell_type": "code",
   "execution_count": 76,
   "metadata": {},
   "outputs": [
    {
     "data": {
      "text/plain": [
       "3.0"
      ]
     },
     "execution_count": 76,
     "metadata": {},
     "output_type": "execute_result"
    }
   ],
   "source": [
    "combine(3, 2)"
   ]
  },
  {
   "cell_type": "code",
   "execution_count": 77,
   "metadata": {
    "collapsed": true
   },
   "outputs": [],
   "source": [
    "def sum_to_n(a, n):\n",
    "    return (n / 2) * (2*a - (n - 1))"
   ]
  },
  {
   "cell_type": "code",
   "execution_count": 79,
   "metadata": {},
   "outputs": [
    {
     "data": {
      "text/plain": [
       "5.0"
      ]
     },
     "execution_count": 79,
     "metadata": {},
     "output_type": "execute_result"
    }
   ],
   "source": [
    "sum_to_n(3, 2)"
   ]
  },
  {
   "cell_type": "code",
   "execution_count": 99,
   "metadata": {},
   "outputs": [
    {
     "name": "stdout",
     "output_type": "stream",
     "text": [
      "9\n",
      "a b c a d b z e o\n",
      "4\n"
     ]
    },
    {
     "data": {
      "text/plain": [
       "0.119"
      ]
     },
     "execution_count": 99,
     "metadata": {},
     "output_type": "execute_result"
    }
   ],
   "source": [
    "total, a_count, k = int(input()), Counter(input())['a'], int(input())\n",
    "round(sum_to_n(total - 1, a_count) / combine(total, k), 3)"
   ]
  },
  {
   "cell_type": "code",
   "execution_count": 89,
   "metadata": {},
   "outputs": [
    {
     "data": {
      "text/plain": [
       "0"
      ]
     },
     "execution_count": 89,
     "metadata": {},
     "output_type": "execute_result"
    }
   ],
   "source": [
    "Counter('a a c d')['z']"
   ]
  },
  {
   "cell_type": "code",
   "execution_count": 94,
   "metadata": {},
   "outputs": [
    {
     "data": {
      "text/plain": [
       "[('a', 'a'), ('a', 'c'), ('a', 'd'), ('a', 'c'), ('a', 'd'), ('c', 'd')]"
      ]
     },
     "execution_count": 94,
     "metadata": {},
     "output_type": "execute_result"
    }
   ],
   "source": [
    "list(combinations('aacd', 2))"
   ]
  },
  {
   "cell_type": "code",
   "execution_count": 101,
   "metadata": {},
   "outputs": [
    {
     "data": {
      "text/plain": [
       "126"
      ]
     },
     "execution_count": 101,
     "metadata": {},
     "output_type": "execute_result"
    }
   ],
   "source": [
    "len(list(combinations('abcadbzeo', 4)))"
   ]
  },
  {
   "cell_type": "code",
   "execution_count": 102,
   "metadata": {},
   "outputs": [
    {
     "data": {
      "text/plain": [
       "91"
      ]
     },
     "execution_count": 102,
     "metadata": {},
     "output_type": "execute_result"
    }
   ],
   "source": [
    "len(['a' for i in combinations('abcadbzeo', 4) if 'a' in i])"
   ]
  },
  {
   "cell_type": "code",
   "execution_count": 103,
   "metadata": {},
   "outputs": [
    {
     "data": {
      "text/plain": [
       "0.7222222222222222"
      ]
     },
     "execution_count": 103,
     "metadata": {},
     "output_type": "execute_result"
    }
   ],
   "source": [
    "91/126"
   ]
  },
  {
   "cell_type": "code",
   "execution_count": 106,
   "metadata": {},
   "outputs": [
    {
     "name": "stdout",
     "output_type": "stream",
     "text": [
      "9\n",
      "a b c a d b z e o\n",
      "4\n",
      "0.722\n"
     ]
    }
   ],
   "source": [
    "total, lst, k = int(input()), input().split(), int(input())\n",
    "lst = list(combinations(lst, k))\n",
    "\n",
    "print(round(len([1 for i in lst if 'a' in i]) / len(lst), 3))"
   ]
  },
  {
   "cell_type": "code",
   "execution_count": 116,
   "metadata": {},
   "outputs": [
    {
     "data": {
      "text/plain": [
       "206"
      ]
     },
     "execution_count": 116,
     "metadata": {},
     "output_type": "execute_result"
    }
   ],
   "source": [
    "n, k = 3, 1000\n",
    "lsts = [[5, 4], [7, 8, 9], [5, 7, 8, 9, 10]]\n",
    "\n",
    "max([sum([x**2 for x in prd]) % k for prd in product(*lsts)])"
   ]
  },
  {
   "cell_type": "code",
   "execution_count": 121,
   "metadata": {},
   "outputs": [
    {
     "name": "stdout",
     "output_type": "stream",
     "text": [
      "7 513\n",
      "7 7315782 8347037 6382537 9100404 2701802 5932316 7267880\n",
      "7 7549453 6202948 8301007 8179197 3286535 7091459 7987691\n",
      "7 6262663 5528123 4166780 3834624 3386442 2080089 6195248\n"
     ]
    },
    {
     "data": {
      "text/plain": [
       "512"
      ]
     },
     "execution_count": 121,
     "metadata": {},
     "output_type": "execute_result"
    }
   ],
   "source": [
    "n, k = [int(i) for i in input().split()]\n",
    "lsts = [[int(i) for i in input().split()][1:] for _ in range(n)]\n",
    "\n",
    "max([sum([x**2 for x in prd]) % k for prd in product(*lsts)])"
   ]
  },
  {
   "cell_type": "code",
   "execution_count": 119,
   "metadata": {},
   "outputs": [
    {
     "name": "stdout",
     "output_type": "stream",
     "text": [
      "2 5 6\n",
      "3 3 5\n"
     ]
    },
    {
     "data": {
      "text/plain": [
       "[[5, 6], [3, 5]]"
      ]
     },
     "execution_count": 119,
     "metadata": {},
     "output_type": "execute_result"
    }
   ],
   "source": [
    "[[int(i) for i in input().split()][1:] for _ in range(2)]"
   ]
  },
  {
   "cell_type": "code",
   "execution_count": null,
   "metadata": {
    "collapsed": true
   },
   "outputs": [],
   "source": []
  }
 ],
 "metadata": {
  "kernelspec": {
   "display_name": "Python 3",
   "language": "python",
   "name": "python3"
  },
  "language_info": {
   "codemirror_mode": {
    "name": "ipython",
    "version": 3
   },
   "file_extension": ".py",
   "mimetype": "text/x-python",
   "name": "python",
   "nbconvert_exporter": "python",
   "pygments_lexer": "ipython3",
   "version": "3.6.3"
  }
 },
 "nbformat": 4,
 "nbformat_minor": 2
}
