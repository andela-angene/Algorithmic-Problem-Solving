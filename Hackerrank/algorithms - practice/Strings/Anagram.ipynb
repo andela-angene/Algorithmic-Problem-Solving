{
 "cells": [
  {
   "cell_type": "code",
   "execution_count": 13,
   "metadata": {},
   "outputs": [],
   "source": [
    "from collections import Counter\n",
    "def anagram(word):\n",
    "    ln = len(word)\n",
    "    if ln % 2 != 0:\n",
    "        return -1\n",
    "    left, right = Counter(word[:ln//2]), Counter(word[ln//2:])\n",
    "    result = 0\n",
    "    for c in left:\n",
    "        diff = left[c] - right[c]\n",
    "        if diff > 0:\n",
    "            result += diff\n",
    "    return result"
   ]
  },
  {
   "cell_type": "code",
   "execution_count": 17,
   "metadata": {},
   "outputs": [
    {
     "name": "stdout",
     "output_type": "stream",
     "text": [
      "3\n",
      "-1\n",
      "1\n",
      "2\n",
      "0\n",
      "1\n"
     ]
    }
   ],
   "source": [
    "print(anagram('aaabbb')) #3\n",
    "print(anagram('abc')) #-1\n",
    "print(anagram('ab')) #1\n",
    "print(anagram('mnop')) #2\n",
    "print(anagram('xyyx')) #0\n",
    "print(anagram('xaxbbbxx')) #1"
   ]
  },
  {
   "cell_type": "code",
   "execution_count": null,
   "metadata": {},
   "outputs": [],
   "source": [
    "ab\n",
    "abc\n",
    "mnop\n",
    "xyyx\n",
    "xaxbbbxx"
   ]
  }
 ],
 "metadata": {
  "kernelspec": {
   "display_name": "Python 3",
   "language": "python",
   "name": "python3"
  },
  "language_info": {
   "codemirror_mode": {
    "name": "ipython",
    "version": 3
   },
   "file_extension": ".py",
   "mimetype": "text/x-python",
   "name": "python",
   "nbconvert_exporter": "python",
   "pygments_lexer": "ipython3",
   "version": "3.6.5"
  }
 },
 "nbformat": 4,
 "nbformat_minor": 2
}
